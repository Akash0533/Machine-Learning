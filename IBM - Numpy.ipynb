{
 "cells": [
  {
   "cell_type": "markdown",
   "id": "20839a7d",
   "metadata": {},
   "source": [
    "# 1D Array"
   ]
  },
  {
   "cell_type": "code",
   "execution_count": 1,
   "id": "eeef52cc",
   "metadata": {},
   "outputs": [],
   "source": [
    "import numpy as np               #alias np here for numpy"
   ]
  },
  {
   "cell_type": "code",
   "execution_count": 2,
   "id": "90aa40d0",
   "metadata": {},
   "outputs": [
    {
     "data": {
      "text/plain": [
       "'1.23.5'"
      ]
     },
     "execution_count": 2,
     "metadata": {},
     "output_type": "execute_result"
    }
   ],
   "source": [
    "#checking numpy version\n",
    "np.__version__"
   ]
  },
  {
   "cell_type": "code",
   "execution_count": 3,
   "id": "dd48c9cd",
   "metadata": {},
   "outputs": [
    {
     "name": "stdout",
     "output_type": "stream",
     "text": [
      "87\n"
     ]
    },
    {
     "data": {
      "text/plain": [
       "(None, 0)"
      ]
     },
     "execution_count": 3,
     "metadata": {},
     "output_type": "execute_result"
    }
   ],
   "source": [
    "a=np.array(87)   #single item in paranthesis without square [] brackets.\n",
    "print(a),a.ndim"
   ]
  },
  {
   "cell_type": "code",
   "execution_count": 4,
   "id": "f07823fb",
   "metadata": {},
   "outputs": [
    {
     "name": "stdout",
     "output_type": "stream",
     "text": [
      "25\n"
     ]
    },
    {
     "data": {
      "text/plain": [
       "(None, ())"
      ]
     },
     "execution_count": 4,
     "metadata": {},
     "output_type": "execute_result"
    }
   ],
   "source": [
    "a=np.array(25)   #single item in paranthesis without square [] brackets.\n",
    "print(a) , a.shape"
   ]
  },
  {
   "cell_type": "code",
   "execution_count": 5,
   "id": "0f826a1b",
   "metadata": {},
   "outputs": [
    {
     "name": "stdout",
     "output_type": "stream",
     "text": [
      "25\n"
     ]
    },
    {
     "data": {
      "text/plain": [
       "(None, 1)"
      ]
     },
     "execution_count": 5,
     "metadata": {},
     "output_type": "execute_result"
    }
   ],
   "source": [
    "a=np.array(25)   #single item in paranthesis without square [] brackets.\n",
    "print(a) , a.size"
   ]
  },
  {
   "cell_type": "code",
   "execution_count": 6,
   "id": "4b7bcb33",
   "metadata": {},
   "outputs": [
    {
     "name": "stdout",
     "output_type": "stream",
     "text": [
      "[array(42), array([23, 43])]\n"
     ]
    }
   ],
   "source": [
    "a=np.array(42)\n",
    "d1=np.array([23,43])\n",
    "print([a,d1])\n"
   ]
  },
  {
   "cell_type": "code",
   "execution_count": 7,
   "id": "613fa549",
   "metadata": {},
   "outputs": [
    {
     "name": "stdout",
     "output_type": "stream",
     "text": [
      "[array(42), array([23, 43])]\n"
     ]
    },
    {
     "data": {
      "text/plain": [
       "(None, 0, (), 1, (2,))"
      ]
     },
     "execution_count": 7,
     "metadata": {},
     "output_type": "execute_result"
    }
   ],
   "source": [
    "a=np.array(42)\n",
    "d1=np.array([23,43])\n",
    "print([a,d1]),a.ndim, a.shape, d1.ndim, d1.shape"
   ]
  },
  {
   "cell_type": "code",
   "execution_count": 8,
   "id": "aaee348e",
   "metadata": {},
   "outputs": [
    {
     "data": {
      "text/plain": [
       "(0, (), 1)"
      ]
     },
     "execution_count": 8,
     "metadata": {},
     "output_type": "execute_result"
    }
   ],
   "source": [
    "l = [12,43,24,29,56,87]\n",
    "array = np.array(l)\n",
    "a.ndim, a.shape , a.size\n"
   ]
  },
  {
   "cell_type": "code",
   "execution_count": 9,
   "id": "1718e820",
   "metadata": {},
   "outputs": [
    {
     "name": "stdout",
     "output_type": "stream",
     "text": [
      "heterogeous- ['12' 'akash' 'True']\n",
      "homogenous- [11 22 33 44]\n"
     ]
    }
   ],
   "source": [
    "#heterogeneous\n",
    "hetero=np.array([12,\"akash\",True])\n",
    "print(\"heterogeous-\" ,hetero)\n",
    "\n",
    "#homogeneous\n",
    "homo = np.array([11,22,33,44])\n",
    "print(\"homogenous-\" , homo)"
   ]
  },
  {
   "cell_type": "code",
   "execution_count": 10,
   "id": "a2da1de8",
   "metadata": {},
   "outputs": [
    {
     "data": {
      "text/plain": [
       "(0, numpy.ndarray, 1)"
      ]
     },
     "execution_count": 10,
     "metadata": {},
     "output_type": "execute_result"
    }
   ],
   "source": [
    "tuple_arr= {1,3,4455,8,65,4,24}\n",
    "a.ndim, type(a), a.size"
   ]
  },
  {
   "cell_type": "code",
   "execution_count": 11,
   "id": "43ffd339",
   "metadata": {},
   "outputs": [
    {
     "data": {
      "text/plain": [
       "(1, numpy.ndarray, dtype('int32'))"
      ]
     },
     "execution_count": 11,
     "metadata": {},
     "output_type": "execute_result"
    }
   ],
   "source": [
    "#homogeneous\n",
    "homo = np.array([11,22,33,44])\n",
    "a.size , type(a) , a.dtype"
   ]
  },
  {
   "cell_type": "code",
   "execution_count": 71,
   "id": "60947334",
   "metadata": {},
   "outputs": [],
   "source": [
    "# create array with list, tuple, dictionary, set , string with different data types\n",
    "list_arr=[1,22,33,11,43,56,4]\n",
    "tuple_arr=(1,3,4455,8,65,4,24) \n",
    "set_arr= {22,33,44,55,66,2,9}\n",
    "dict_arr={1:100,2:200,3:'Truba'}\n",
    "str_arr='np','numpy', 'pandas', 'matplotlib', 'seaborn'"
   ]
  },
  {
   "cell_type": "code",
   "execution_count": 72,
   "id": "d1c72281",
   "metadata": {},
   "outputs": [
    {
     "name": "stdout",
     "output_type": "stream",
     "text": [
      "list_a [ 1 22 33 11 43 56  4]\n"
     ]
    },
    {
     "data": {
      "text/plain": [
       "array([ 1, 22, 33, 11, 43, 56,  4])"
      ]
     },
     "execution_count": 72,
     "metadata": {},
     "output_type": "execute_result"
    }
   ],
   "source": [
    "l_a=np.array(list_arr)\n",
    "print('list_a',l_a)\n",
    "l_a"
   ]
  },
  {
   "cell_type": "code",
   "execution_count": 73,
   "id": "917ea26f",
   "metadata": {},
   "outputs": [
    {
     "data": {
      "text/plain": [
       "(4, (2, 2, 2, 25), 200, dtype('int32'))"
      ]
     },
     "execution_count": 73,
     "metadata": {},
     "output_type": "execute_result"
    }
   ],
   "source": [
    "dict_arr={1:100,2:200,3:'Truba'}\n",
    "a.ndim, a.shape, a.size , a.dtype"
   ]
  },
  {
   "cell_type": "code",
   "execution_count": 74,
   "id": "c7cd4b79",
   "metadata": {},
   "outputs": [
    {
     "name": "stdout",
     "output_type": "stream",
     "text": [
      "set_a {33, 66, 2, 22, 55, 9, 44}\n"
     ]
    },
    {
     "data": {
      "text/plain": [
       "array({33, 66, 2, 22, 55, 9, 44}, dtype=object)"
      ]
     },
     "execution_count": 74,
     "metadata": {},
     "output_type": "execute_result"
    }
   ],
   "source": [
    "s_t=np.array(set_arr)\n",
    "print('set_a',s_t)\n",
    "s_t\n"
   ]
  },
  {
   "cell_type": "code",
   "execution_count": 75,
   "id": "1774ac08",
   "metadata": {},
   "outputs": [
    {
     "name": "stdout",
     "output_type": "stream",
     "text": [
      "list- [1, 22, 33, 11, 43, 56, 4] <class 'list'>\n",
      "--------------------------------------------\n",
      "array- [ 1 22 33 11 43 56  4] ,dimension- 1 ,type- <class 'numpy.ndarray'>\n",
      "dtype- int32 Size- 7 shape- (7,)\n"
     ]
    }
   ],
   "source": [
    "l=[1,22,33,11,43,56,4]\n",
    "print('list-',l, type(l))\n",
    "print('--------------------------------------------')\n",
    "arr_1d=np.array([1,22,33,11,43,56,4])\n",
    "print('array-',arr_1d,',dimension-',arr_1d.ndim,',type-',type(arr_1d))\n",
    "print('dtype-',arr_1d.dtype,'Size-',arr_1d.size,'shape-',arr_1d.shape)"
   ]
  },
  {
   "cell_type": "code",
   "execution_count": 76,
   "id": "03ccd4cd",
   "metadata": {},
   "outputs": [
    {
     "name": "stdout",
     "output_type": "stream",
     "text": [
      "type(list)- <class 'list'>\n",
      "type(array)- <class 'numpy.ndarray'>\n",
      "[1, 22, 33, 11, 43, 56, 4]\n",
      "[ 1 22 33 11 43 56  4]\n",
      "list size in  bytes- 196\n",
      "array size in bytes- 168\n",
      "8\n",
      "7\n",
      "7\n",
      "56\n"
     ]
    },
    {
     "data": {
      "text/plain": [
       "[1, 22, 33, 11, 43, 56, 4]"
      ]
     },
     "execution_count": 76,
     "metadata": {},
     "output_type": "execute_result"
    }
   ],
   "source": [
    "# import sys - get size of, \n",
    "l=[1,22,33,11,43,56,4]\n",
    "arr=np.array([1,22,33,11,43,56,4],dtype='int64')\n",
    "print('type(list)-',type(l))\n",
    "print('type(array)-',type(arr))\n",
    "print(l)\n",
    "print(arr)\n",
    "import sys\n",
    "print('list size in  bytes-',sys.getsizeof(1)*len(l))     \n",
    "print('array size in bytes-',sys.getsizeof(arr))     # bytes\n",
    "print(arr.itemsize)\n",
    "print(arr.size)\n",
    "print(len(arr))\n",
    "print(arr.itemsize*arr.size)    # bytes\n",
    "aaa=arr.tolist()\n",
    "aaa"
   ]
  },
  {
   "cell_type": "markdown",
   "id": "27e3b335",
   "metadata": {},
   "source": [
    "# 2D Array"
   ]
  },
  {
   "cell_type": "code",
   "execution_count": 77,
   "id": "f6f7e541",
   "metadata": {},
   "outputs": [
    {
     "name": "stdout",
     "output_type": "stream",
     "text": [
      "2\n"
     ]
    }
   ],
   "source": [
    "z=np.array([[]])\n",
    "print(z.ndim)"
   ]
  },
  {
   "cell_type": "code",
   "execution_count": 78,
   "id": "05126f4b",
   "metadata": {},
   "outputs": [
    {
     "data": {
      "text/plain": [
       "(4,\n",
       " (2, 2, 2, 25),\n",
       " 1,\n",
       " array([[  1,   2, 233,  44,  55],\n",
       "        [ 33,  44,  55,  22,  11]]))"
      ]
     },
     "execution_count": 78,
     "metadata": {},
     "output_type": "execute_result"
    }
   ],
   "source": [
    "l=[[1,2,233,44,55],[33,44,55,22,11]]\n",
    "arr_2d=np.array([[1,2,233,44,55],[33,44,55,22,11]])\n",
    "a.ndim,  a.shape, 1,arr_2d"
   ]
  },
  {
   "cell_type": "code",
   "execution_count": 79,
   "id": "485fbf8a",
   "metadata": {},
   "outputs": [
    {
     "name": "stdout",
     "output_type": "stream",
     "text": [
      "dimension- 2 ,type- <class 'numpy.ndarray'>\n",
      "dtype- int32 Size- 10 shape- (2, 5)\n"
     ]
    }
   ],
   "source": [
    "print('dimension-',arr_2d.ndim,',type-',type(arr_2d))\n",
    "print('dtype-',arr_2d.dtype,'Size-',arr_2d.size,'shape-',arr_2d.shape)"
   ]
  },
  {
   "cell_type": "code",
   "execution_count": 80,
   "id": "38219956",
   "metadata": {},
   "outputs": [
    {
     "data": {
      "text/plain": [
       "(2,\n",
       " 1,\n",
       " array([[1, 2, 3],\n",
       "        [4, 5, 6],\n",
       "        [8, 9, 0]]),\n",
       " (3, 3),\n",
       " 9)"
      ]
     },
     "execution_count": 80,
     "metadata": {},
     "output_type": "execute_result"
    }
   ],
   "source": [
    "a = [[1,2,3],[4,5,6],[8,9,0]]\n",
    "arr_2d=np.array([[1,2,3],[4,5,6],[8,9,0]])\n",
    "arr_2d.ndim, 1,arr_2d , arr_2d.shape, arr_2d.size"
   ]
  },
  {
   "cell_type": "code",
   "execution_count": 81,
   "id": "9ca4e40f",
   "metadata": {},
   "outputs": [
    {
     "name": "stdout",
     "output_type": "stream",
     "text": [
      "dimension- 2 ,type- <class 'numpy.ndarray'>\n",
      "dtype- int32 Size- 9 shape- (3, 3)\n"
     ]
    }
   ],
   "source": [
    "print('dimension-',arr_2d.ndim,',type-',type(arr_2d))\n",
    "print('dtype-',arr_2d.dtype,'Size-',arr_2d.size,'shape-',arr_2d.shape)"
   ]
  },
  {
   "cell_type": "markdown",
   "id": "7b9ba3f9",
   "metadata": {},
   "source": [
    "# 3D Array"
   ]
  },
  {
   "cell_type": "code",
   "execution_count": 82,
   "id": "03ea2cab",
   "metadata": {},
   "outputs": [
    {
     "data": {
      "text/plain": [
       "array([[[ 1, 22,  3,  3],\n",
       "        [ 4,  5,  6,  7]],\n",
       "\n",
       "       [[ 1, 22,  3,  3],\n",
       "        [ 4,  5,  6,  7]],\n",
       "\n",
       "       [[ 1, 22,  3,  3],\n",
       "        [ 4,  5,  6,  7]],\n",
       "\n",
       "       [[ 1, 22,  3,  3],\n",
       "        [ 4,  5,  6,  7]],\n",
       "\n",
       "       [[ 1, 22,  3,  3],\n",
       "        [ 4,  5,  6,  7]],\n",
       "\n",
       "       [[ 1, 22,  3,  3],\n",
       "        [ 4,  5,  6,  7]]])"
      ]
     },
     "execution_count": 82,
     "metadata": {},
     "output_type": "execute_result"
    }
   ],
   "source": [
    "arr_3d=np.array([[[1,22,3,3],[4,5,6,7]],\n",
    "                 [[1,22,3,3],[4,5,6,7]],\n",
    "                 [[1,22,3,3],[4,5,6,7]],\n",
    "                 [[1,22,3,3],[4,5,6,7]],\n",
    "                 [[1,22,3,3],[4,5,6,7]],\n",
    "                 [[1,22,3,3],[4,5,6,7]]])\n",
    "arr_3d"
   ]
  },
  {
   "cell_type": "code",
   "execution_count": 83,
   "id": "a4242c6f",
   "metadata": {},
   "outputs": [
    {
     "name": "stdout",
     "output_type": "stream",
     "text": [
      "dimension- 3 ,type- <class 'numpy.ndarray'>\n",
      "dtype- int32 Size- 48 shape- (6, 2, 4)\n"
     ]
    }
   ],
   "source": [
    "print('dimension-',arr_3d.ndim,',type-',type(arr_3d))\n",
    "print('dtype-',arr_3d.dtype,'Size-',arr_3d.size,'shape-',arr_3d.shape)"
   ]
  },
  {
   "cell_type": "code",
   "execution_count": 84,
   "id": "e91e4900",
   "metadata": {},
   "outputs": [
    {
     "name": "stdout",
     "output_type": "stream",
     "text": [
      "[[0. 0. 0. 0. 0. 0. 0. 0. 0. 0. 0. 0. 0. 0. 0. 0. 0. 0. 0. 0. 0. 0. 0. 0.\n",
      "  0. 0. 0. 0. 0. 0. 0. 0. 0. 0. 0. 0. 0. 0. 0. 0. 0. 0. 0. 0. 0. 0. 0. 0.\n",
      "  0. 0.]\n",
      " [0. 0. 0. 0. 0. 0. 0. 0. 0. 0. 0. 0. 0. 0. 0. 0. 0. 0. 0. 0. 0. 0. 0. 0.\n",
      "  0. 0. 0. 0. 0. 0. 0. 0. 0. 0. 0. 0. 0. 0. 0. 0. 0. 0. 0. 0. 0. 0. 0. 0.\n",
      "  0. 0.]] 2\n",
      "------------------------------------------\n",
      "[0. 0. 0. 0. 0. 0. 0. 0. 0. 0. 0. 0. 0. 0. 0. 0. 0. 0. 0. 0. 0. 0. 0. 0.\n",
      " 0. 0. 0. 0. 0. 0. 0. 0. 0. 0. 0. 0. 0. 0. 0. 0. 0. 0. 0. 0. 0. 0. 0. 0.\n",
      " 0. 0. 0. 0. 0. 0. 0. 0. 0. 0. 0. 0. 0. 0. 0. 0. 0. 0. 0. 0. 0. 0. 0. 0.\n",
      " 0. 0. 0. 0. 0. 0. 0. 0. 0. 0. 0. 0. 0. 0. 0. 0. 0. 0. 0. 0. 0. 0. 0. 0.\n",
      " 0. 0. 0. 0.] 1\n"
     ]
    }
   ],
   "source": [
    "#np.zeros(), np.ones(), np.empty(),\n",
    "#np.arange(), np.linspace(), dtype()\n",
    "a_z=np.zeros(100)\n",
    "a_z_reshape=a_z.reshape(2,50)\n",
    "print(a_z_reshape,a_z_reshape.ndim)\n",
    "print('------------------------------------------')\n",
    "print(a_z,a_z.ndim)"
   ]
  },
  {
   "cell_type": "code",
   "execution_count": 85,
   "id": "7d0fafa0",
   "metadata": {},
   "outputs": [
    {
     "name": "stdout",
     "output_type": "stream",
     "text": [
      "None\n",
      "[[0. 0. 0. 0. 0. 0. 0. 0. 0. 0. 0. 0. 0. 0. 0. 0. 0. 0. 0. 0. 0. 0. 0. 0.\n",
      "  0. 0. 0. 0. 0. 0. 0. 0. 0. 0. 0. 0. 0. 0. 0. 0. 0. 0. 0. 0. 0. 0. 0. 0.\n",
      "  0. 0.]\n",
      " [0. 0. 0. 0. 0. 0. 0. 0. 0. 0. 0. 0. 0. 0. 0. 0. 0. 0. 0. 0. 0. 0. 0. 0.\n",
      "  0. 0. 0. 0. 0. 0. 0. 0. 0. 0. 0. 0. 0. 0. 0. 0. 0. 0. 0. 0. 0. 0. 0. 0.\n",
      "  0. 0.]]\n"
     ]
    }
   ],
   "source": [
    "# changes will be in implemented variable not stored in assigned variable\n",
    "a_z=np.zeros(100) \n",
    "a_z_resize=a_z.resize(2,50)\n",
    "print(a_z_resize) # assigned variable \n",
    "print(a_z) # function implemented variable"
   ]
  },
  {
   "cell_type": "code",
   "execution_count": 86,
   "id": "aa3c5381",
   "metadata": {},
   "outputs": [],
   "source": [
    "d4=np.array([\n",
    "    \n",
    "                [[[1,22,3,3],[4,5,6,7]],\n",
    "                 [[1,22,3,3],[4,5,6,7]],\n",
    "                 [[1,22,3,3],[4,5,6,7]],\n",
    "                 [[1,22,3,3],[4,5,6,7]],\n",
    "                 [[1,22,3,3],[4,5,6,7]],\n",
    "                 [[1,22,3,3],[4,5,6,7]]],\n",
    "    \n",
    "                [[[1,22,3,3],[4,5,6,7]],\n",
    "                 [[1,22,3,3],[4,5,6,7]],\n",
    "                 [[1,22,3,3],[4,5,6,7]],\n",
    "                 [[1,22,3,3],[4,5,6,7]],\n",
    "                 [[1,22,3,3],[4,5,6,7]],\n",
    "                 [[1,22,3,3],[4,5,6,7]]],\n",
    "    \n",
    "                [[[1,22,3,3],[4,5,6,7]],\n",
    "                 [[1,22,3,3],[4,5,6,7]],\n",
    "                 [[1,22,3,3],[4,5,6,7]],\n",
    "                 [[1,22,3,3],[4,5,6,7]],\n",
    "                 [[1,22,3,3],[4,5,6,7]],\n",
    "                 [[1,22,3,3],[4,5,6,7]]],\n",
    "    \n",
    "                [[[1,22,3,3],[4,5,6,7]],\n",
    "                 [[1,22,3,3],[4,5,6,7]],\n",
    "                 [[1,22,3,3],[4,5,6,7]],\n",
    "                 [[1,22,3,3],[4,5,6,7]],\n",
    "                 [[1,22,3,3],[4,5,6,7]],\n",
    "                 [[1,22,3,3],[4,5,6,7]]]])"
   ]
  },
  {
   "cell_type": "code",
   "execution_count": 87,
   "id": "880ac150",
   "metadata": {},
   "outputs": [
    {
     "name": "stdout",
     "output_type": "stream",
     "text": [
      "dimension- 4 ,type- <class 'numpy.ndarray'>\n",
      "dtype- int32 Size- 192 shape- (4, 6, 2, 4)\n"
     ]
    }
   ],
   "source": [
    "print('dimension-',d4.ndim,',type-',type(d4))\n",
    "print('dtype-',d4.dtype,'Size-',d4.size,'shape-',d4.shape)"
   ]
  },
  {
   "cell_type": "code",
   "execution_count": 88,
   "id": "2f0e0df9",
   "metadata": {},
   "outputs": [
    {
     "name": "stdout",
     "output_type": "stream",
     "text": [
      "[0 1 2 3 4 5 6 7 8 9]\n"
     ]
    }
   ],
   "source": [
    "a=np.arange(10)\n",
    "print(a)"
   ]
  },
  {
   "cell_type": "code",
   "execution_count": 89,
   "id": "0740373c",
   "metadata": {},
   "outputs": [
    {
     "name": "stdout",
     "output_type": "stream",
     "text": [
      "[1 9]\n"
     ]
    }
   ],
   "source": [
    "a1=np.arange(1,10,8)\n",
    "print(a1)"
   ]
  },
  {
   "cell_type": "code",
   "execution_count": 90,
   "id": "e44872d5",
   "metadata": {},
   "outputs": [
    {
     "data": {
      "text/plain": [
       "array([1., 1., 1., 1., 1., 1., 1., 1.])"
      ]
     },
     "execution_count": 90,
     "metadata": {},
     "output_type": "execute_result"
    }
   ],
   "source": [
    "a=np.ones(8)\n",
    "a"
   ]
  },
  {
   "cell_type": "code",
   "execution_count": 91,
   "id": "f38a1ab2",
   "metadata": {},
   "outputs": [
    {
     "data": {
      "text/plain": [
       "array([0., 0., 0., 0., 0., 0., 0., 0., 0.])"
      ]
     },
     "execution_count": 91,
     "metadata": {},
     "output_type": "execute_result"
    }
   ],
   "source": [
    "a=np.zeros(9)\n",
    "a"
   ]
  },
  {
   "cell_type": "code",
   "execution_count": 92,
   "id": "17736202",
   "metadata": {},
   "outputs": [
    {
     "data": {
      "text/plain": [
       "array([0, 0, 0, 0, 0, 0, 0, 0, 0], dtype=int8)"
      ]
     },
     "execution_count": 92,
     "metadata": {},
     "output_type": "execute_result"
    }
   ],
   "source": [
    "a=np.zeros(9,dtype=\"int8\")\n",
    "a"
   ]
  },
  {
   "cell_type": "code",
   "execution_count": 93,
   "id": "6e74dfba",
   "metadata": {},
   "outputs": [
    {
     "data": {
      "text/plain": [
       "array([[0, 0, 0, 0, 0, 0, 0, 0],\n",
       "       [0, 0, 0, 0, 0, 0, 0, 0],\n",
       "       [0, 0, 0, 0, 0, 0, 0, 0],\n",
       "       [0, 0, 0, 0, 0, 0, 0, 0],\n",
       "       [0, 0, 0, 0, 0, 0, 0, 0],\n",
       "       [0, 0, 0, 0, 0, 0, 0, 0],\n",
       "       [0, 0, 0, 0, 0, 0, 0, 0],\n",
       "       [0, 0, 0, 0, 0, 0, 0, 0],\n",
       "       [0, 0, 0, 0, 0, 0, 0, 0]], dtype=int8)"
      ]
     },
     "execution_count": 93,
     "metadata": {},
     "output_type": "execute_result"
    }
   ],
   "source": [
    "a=np.zeros(9,dtype=\"8int8\")\n",
    "a"
   ]
  },
  {
   "cell_type": "code",
   "execution_count": 94,
   "id": "1f6d94d3",
   "metadata": {},
   "outputs": [
    {
     "data": {
      "text/plain": [
       "array([ 4. ,  5.5,  7. ,  8.5, 10. ])"
      ]
     },
     "execution_count": 94,
     "metadata": {},
     "output_type": "execute_result"
    }
   ],
   "source": [
    "a=np.linspace(4,10, num=5)\n",
    "a"
   ]
  },
  {
   "cell_type": "code",
   "execution_count": 95,
   "id": "b1d9e4f6",
   "metadata": {},
   "outputs": [
    {
     "data": {
      "text/plain": [
       "array([102,  66, 347, 419, 189, 229, 489, 255, 239, 485, 264, 488, 259,\n",
       "       113, 360, 395, 187, 351, 458, 212, 174,  48, 402, 226,  36, 372,\n",
       "       116,  94, 118,  50, 270, 367, 275, 175, 431, 430,  98,  29, 294,\n",
       "       144, 396, 374, 198, 155,  59,   3, 372, 118,  97,  18, 161, 309,\n",
       "       488, 414,  63, 107, 375, 452, 357, 336, 399, 175, 337, 165, 330,\n",
       "       235, 305, 142, 191, 228, 289, 420, 209, 457, 185, 115, 261, 171,\n",
       "       331, 326, 328, 367, 241, 100, 489, 342, 458, 328, 484, 251, 165,\n",
       "       123, 254, 257, 483, 385, 232,  70, 385,  58, 393, 103, 366, 190,\n",
       "       138, 495,  38, 334, 452, 489, 377, 432, 390,  74, 263, 359, 103,\n",
       "       360, 227,  12, 312, 416,  43, 403, 193, 347, 237, 278,  30, 237,\n",
       "       343, 468, 258, 311, 495, 232, 222, 266,  78, 367, 355, 111, 179,\n",
       "       129, 197,  65, 206, 117, 466, 371, 205, 456, 195, 295, 274,  53,\n",
       "       396, 239, 497, 192, 264, 387, 290, 422, 429, 328, 221, 169,   3,\n",
       "       499, 197, 434,  85,  97,  75, 494, 116, 124, 376, 439, 193, 289,\n",
       "         6, 265, 293, 135, 200, 110, 155,  37, 270, 483, 454, 330, 469,\n",
       "       353, 213, 270, 398, 274, 435, 421, 220, 156, 423, 208, 391, 396,\n",
       "       216, 169, 356,   7, 174,   1, 445, 161, 216,  51,  16, 394, 479,\n",
       "       281,  51, 302, 261, 141, 377,  95, 147, 227, 216, 182, 405,  55,\n",
       "        11,  76, 331, 378, 189,  52, 413, 218,  29,  65, 443,  74, 340,\n",
       "       238, 394, 279, 464, 436, 370, 106,  55, 475, 162, 372, 146, 419,\n",
       "       224, 281, 208,  79, 246, 280, 468, 427, 289, 462, 107,  71, 183,\n",
       "       441, 245, 492, 331, 440, 428,  76, 478, 360, 149, 288, 157, 108,\n",
       "       405, 377,  91, 145, 284, 254, 366,  58, 217, 305, 241,   4, 361,\n",
       "       290, 106, 298, 102, 245,  19,  55, 315,  85, 123, 176,  28, 292,\n",
       "       375, 192, 157, 375, 187, 171, 330, 334, 421, 313, 476, 224, 246,\n",
       "       484, 380,  58, 351, 458, 362, 405, 398, 426, 450, 428, 139,   5,\n",
       "       341, 172,  38, 437,  82,  15, 224, 198, 373, 445,  67, 317,   5,\n",
       "       407, 375, 293, 494, 196, 458,  20, 370, 432, 179,  47, 438, 205,\n",
       "       388, 249, 217, 272, 492, 379,  15, 192, 358, 252, 125, 215, 361,\n",
       "        96, 270, 219, 315, 148, 177, 245,   9,  80, 179,  87, 161, 142,\n",
       "        15, 329, 313, 391, 434, 338, 344, 164,  29, 310, 347, 437,   4,\n",
       "       275,  53, 404, 308, 316, 357, 170, 494, 141, 212, 111, 280, 442,\n",
       "       320, 361, 331, 443, 164, 419, 167, 223,  75, 283, 438,  43, 223,\n",
       "       383, 317, 142, 164,  44, 372,  63, 162, 395, 204, 480, 388, 342,\n",
       "       370, 367,   8, 135, 116, 213, 247,  21, 412, 252, 419, 277, 313,\n",
       "        83, 295,  50, 292, 341, 498, 182, 193, 142,  66,   8, 167, 153,\n",
       "       305, 466, 251, 496, 414, 241, 364, 167, 462, 356,  92, 120, 112,\n",
       "       406, 144, 170, 293,   2, 265,  73, 483, 193, 370, 250,  84, 362,\n",
       "       383, 480, 289, 205, 142,  62])"
      ]
     },
     "execution_count": 95,
     "metadata": {},
     "output_type": "execute_result"
    }
   ],
   "source": [
    "import random\n",
    "a= np.random.randint(1,500,500)\n",
    "a"
   ]
  },
  {
   "cell_type": "code",
   "execution_count": 96,
   "id": "30049094",
   "metadata": {},
   "outputs": [
    {
     "data": {
      "text/plain": [
       "array([[[55, 55, 55, ..., 55, 55, 55],\n",
       "        [55, 55, 55, ..., 55, 55, 55],\n",
       "        [55, 55, 55, ..., 55, 55, 55],\n",
       "        ...,\n",
       "        [55, 55, 55, ..., 55, 55, 55],\n",
       "        [55, 55, 55, ..., 55, 55, 55],\n",
       "        [55, 55, 55, ..., 55, 55, 55]],\n",
       "\n",
       "       [[55, 55, 55, ..., 55, 55, 55],\n",
       "        [55, 55, 55, ..., 55, 55, 55],\n",
       "        [55, 55, 55, ..., 55, 55, 55],\n",
       "        ...,\n",
       "        [55, 55, 55, ..., 55, 55, 55],\n",
       "        [55, 55, 55, ..., 55, 55, 55],\n",
       "        [55, 55, 55, ..., 55, 55, 55]],\n",
       "\n",
       "       [[55, 55, 55, ..., 55, 55, 55],\n",
       "        [55, 55, 55, ..., 55, 55, 55],\n",
       "        [55, 55, 55, ..., 55, 55, 55],\n",
       "        ...,\n",
       "        [55, 55, 55, ..., 55, 55, 55],\n",
       "        [55, 55, 55, ..., 55, 55, 55],\n",
       "        [55, 55, 55, ..., 55, 55, 55]],\n",
       "\n",
       "       ...,\n",
       "\n",
       "       [[55, 55, 55, ..., 55, 55, 55],\n",
       "        [55, 55, 55, ..., 55, 55, 55],\n",
       "        [55, 55, 55, ..., 55, 55, 55],\n",
       "        ...,\n",
       "        [55, 55, 55, ..., 55, 55, 55],\n",
       "        [55, 55, 55, ..., 55, 55, 55],\n",
       "        [55, 55, 55, ..., 55, 55, 55]],\n",
       "\n",
       "       [[55, 55, 55, ..., 55, 55, 55],\n",
       "        [55, 55, 55, ..., 55, 55, 55],\n",
       "        [55, 55, 55, ..., 55, 55, 55],\n",
       "        ...,\n",
       "        [55, 55, 55, ..., 55, 55, 55],\n",
       "        [55, 55, 55, ..., 55, 55, 55],\n",
       "        [55, 55, 55, ..., 55, 55, 55]],\n",
       "\n",
       "       [[55, 55, 55, ..., 55, 55, 55],\n",
       "        [55, 55, 55, ..., 55, 55, 55],\n",
       "        [55, 55, 55, ..., 55, 55, 55],\n",
       "        ...,\n",
       "        [55, 55, 55, ..., 55, 55, 55],\n",
       "        [55, 55, 55, ..., 55, 55, 55],\n",
       "        [55, 55, 55, ..., 55, 55, 55]]])"
      ]
     },
     "execution_count": 96,
     "metadata": {},
     "output_type": "execute_result"
    }
   ],
   "source": [
    "a=np.full((12,12,43) ,55) #np.full((dimensions,columns,row))\n",
    "a"
   ]
  },
  {
   "cell_type": "code",
   "execution_count": 97,
   "id": "5626cb74",
   "metadata": {},
   "outputs": [
    {
     "data": {
      "text/plain": [
       "array([20, 20])"
      ]
     },
     "execution_count": 97,
     "metadata": {},
     "output_type": "execute_result"
    }
   ],
   "source": [
    "a=np.full((2), 20) #1D\n",
    "a"
   ]
  },
  {
   "cell_type": "code",
   "execution_count": 98,
   "id": "0624d45a",
   "metadata": {},
   "outputs": [
    {
     "data": {
      "text/plain": [
       "array([[[[[12],\n",
       "          [12],\n",
       "          [12]],\n",
       "\n",
       "         [[12],\n",
       "          [12],\n",
       "          [12]],\n",
       "\n",
       "         [[12],\n",
       "          [12],\n",
       "          [12]],\n",
       "\n",
       "         [[12],\n",
       "          [12],\n",
       "          [12]]],\n",
       "\n",
       "\n",
       "        [[[12],\n",
       "          [12],\n",
       "          [12]],\n",
       "\n",
       "         [[12],\n",
       "          [12],\n",
       "          [12]],\n",
       "\n",
       "         [[12],\n",
       "          [12],\n",
       "          [12]],\n",
       "\n",
       "         [[12],\n",
       "          [12],\n",
       "          [12]]],\n",
       "\n",
       "\n",
       "        [[[12],\n",
       "          [12],\n",
       "          [12]],\n",
       "\n",
       "         [[12],\n",
       "          [12],\n",
       "          [12]],\n",
       "\n",
       "         [[12],\n",
       "          [12],\n",
       "          [12]],\n",
       "\n",
       "         [[12],\n",
       "          [12],\n",
       "          [12]]],\n",
       "\n",
       "\n",
       "        [[[12],\n",
       "          [12],\n",
       "          [12]],\n",
       "\n",
       "         [[12],\n",
       "          [12],\n",
       "          [12]],\n",
       "\n",
       "         [[12],\n",
       "          [12],\n",
       "          [12]],\n",
       "\n",
       "         [[12],\n",
       "          [12],\n",
       "          [12]]],\n",
       "\n",
       "\n",
       "        [[[12],\n",
       "          [12],\n",
       "          [12]],\n",
       "\n",
       "         [[12],\n",
       "          [12],\n",
       "          [12]],\n",
       "\n",
       "         [[12],\n",
       "          [12],\n",
       "          [12]],\n",
       "\n",
       "         [[12],\n",
       "          [12],\n",
       "          [12]]],\n",
       "\n",
       "\n",
       "        [[[12],\n",
       "          [12],\n",
       "          [12]],\n",
       "\n",
       "         [[12],\n",
       "          [12],\n",
       "          [12]],\n",
       "\n",
       "         [[12],\n",
       "          [12],\n",
       "          [12]],\n",
       "\n",
       "         [[12],\n",
       "          [12],\n",
       "          [12]]]],\n",
       "\n",
       "\n",
       "\n",
       "       [[[[12],\n",
       "          [12],\n",
       "          [12]],\n",
       "\n",
       "         [[12],\n",
       "          [12],\n",
       "          [12]],\n",
       "\n",
       "         [[12],\n",
       "          [12],\n",
       "          [12]],\n",
       "\n",
       "         [[12],\n",
       "          [12],\n",
       "          [12]]],\n",
       "\n",
       "\n",
       "        [[[12],\n",
       "          [12],\n",
       "          [12]],\n",
       "\n",
       "         [[12],\n",
       "          [12],\n",
       "          [12]],\n",
       "\n",
       "         [[12],\n",
       "          [12],\n",
       "          [12]],\n",
       "\n",
       "         [[12],\n",
       "          [12],\n",
       "          [12]]],\n",
       "\n",
       "\n",
       "        [[[12],\n",
       "          [12],\n",
       "          [12]],\n",
       "\n",
       "         [[12],\n",
       "          [12],\n",
       "          [12]],\n",
       "\n",
       "         [[12],\n",
       "          [12],\n",
       "          [12]],\n",
       "\n",
       "         [[12],\n",
       "          [12],\n",
       "          [12]]],\n",
       "\n",
       "\n",
       "        [[[12],\n",
       "          [12],\n",
       "          [12]],\n",
       "\n",
       "         [[12],\n",
       "          [12],\n",
       "          [12]],\n",
       "\n",
       "         [[12],\n",
       "          [12],\n",
       "          [12]],\n",
       "\n",
       "         [[12],\n",
       "          [12],\n",
       "          [12]]],\n",
       "\n",
       "\n",
       "        [[[12],\n",
       "          [12],\n",
       "          [12]],\n",
       "\n",
       "         [[12],\n",
       "          [12],\n",
       "          [12]],\n",
       "\n",
       "         [[12],\n",
       "          [12],\n",
       "          [12]],\n",
       "\n",
       "         [[12],\n",
       "          [12],\n",
       "          [12]]],\n",
       "\n",
       "\n",
       "        [[[12],\n",
       "          [12],\n",
       "          [12]],\n",
       "\n",
       "         [[12],\n",
       "          [12],\n",
       "          [12]],\n",
       "\n",
       "         [[12],\n",
       "          [12],\n",
       "          [12]],\n",
       "\n",
       "         [[12],\n",
       "          [12],\n",
       "          [12]]]],\n",
       "\n",
       "\n",
       "\n",
       "       [[[[12],\n",
       "          [12],\n",
       "          [12]],\n",
       "\n",
       "         [[12],\n",
       "          [12],\n",
       "          [12]],\n",
       "\n",
       "         [[12],\n",
       "          [12],\n",
       "          [12]],\n",
       "\n",
       "         [[12],\n",
       "          [12],\n",
       "          [12]]],\n",
       "\n",
       "\n",
       "        [[[12],\n",
       "          [12],\n",
       "          [12]],\n",
       "\n",
       "         [[12],\n",
       "          [12],\n",
       "          [12]],\n",
       "\n",
       "         [[12],\n",
       "          [12],\n",
       "          [12]],\n",
       "\n",
       "         [[12],\n",
       "          [12],\n",
       "          [12]]],\n",
       "\n",
       "\n",
       "        [[[12],\n",
       "          [12],\n",
       "          [12]],\n",
       "\n",
       "         [[12],\n",
       "          [12],\n",
       "          [12]],\n",
       "\n",
       "         [[12],\n",
       "          [12],\n",
       "          [12]],\n",
       "\n",
       "         [[12],\n",
       "          [12],\n",
       "          [12]]],\n",
       "\n",
       "\n",
       "        [[[12],\n",
       "          [12],\n",
       "          [12]],\n",
       "\n",
       "         [[12],\n",
       "          [12],\n",
       "          [12]],\n",
       "\n",
       "         [[12],\n",
       "          [12],\n",
       "          [12]],\n",
       "\n",
       "         [[12],\n",
       "          [12],\n",
       "          [12]]],\n",
       "\n",
       "\n",
       "        [[[12],\n",
       "          [12],\n",
       "          [12]],\n",
       "\n",
       "         [[12],\n",
       "          [12],\n",
       "          [12]],\n",
       "\n",
       "         [[12],\n",
       "          [12],\n",
       "          [12]],\n",
       "\n",
       "         [[12],\n",
       "          [12],\n",
       "          [12]]],\n",
       "\n",
       "\n",
       "        [[[12],\n",
       "          [12],\n",
       "          [12]],\n",
       "\n",
       "         [[12],\n",
       "          [12],\n",
       "          [12]],\n",
       "\n",
       "         [[12],\n",
       "          [12],\n",
       "          [12]],\n",
       "\n",
       "         [[12],\n",
       "          [12],\n",
       "          [12]]]],\n",
       "\n",
       "\n",
       "\n",
       "       [[[[12],\n",
       "          [12],\n",
       "          [12]],\n",
       "\n",
       "         [[12],\n",
       "          [12],\n",
       "          [12]],\n",
       "\n",
       "         [[12],\n",
       "          [12],\n",
       "          [12]],\n",
       "\n",
       "         [[12],\n",
       "          [12],\n",
       "          [12]]],\n",
       "\n",
       "\n",
       "        [[[12],\n",
       "          [12],\n",
       "          [12]],\n",
       "\n",
       "         [[12],\n",
       "          [12],\n",
       "          [12]],\n",
       "\n",
       "         [[12],\n",
       "          [12],\n",
       "          [12]],\n",
       "\n",
       "         [[12],\n",
       "          [12],\n",
       "          [12]]],\n",
       "\n",
       "\n",
       "        [[[12],\n",
       "          [12],\n",
       "          [12]],\n",
       "\n",
       "         [[12],\n",
       "          [12],\n",
       "          [12]],\n",
       "\n",
       "         [[12],\n",
       "          [12],\n",
       "          [12]],\n",
       "\n",
       "         [[12],\n",
       "          [12],\n",
       "          [12]]],\n",
       "\n",
       "\n",
       "        [[[12],\n",
       "          [12],\n",
       "          [12]],\n",
       "\n",
       "         [[12],\n",
       "          [12],\n",
       "          [12]],\n",
       "\n",
       "         [[12],\n",
       "          [12],\n",
       "          [12]],\n",
       "\n",
       "         [[12],\n",
       "          [12],\n",
       "          [12]]],\n",
       "\n",
       "\n",
       "        [[[12],\n",
       "          [12],\n",
       "          [12]],\n",
       "\n",
       "         [[12],\n",
       "          [12],\n",
       "          [12]],\n",
       "\n",
       "         [[12],\n",
       "          [12],\n",
       "          [12]],\n",
       "\n",
       "         [[12],\n",
       "          [12],\n",
       "          [12]]],\n",
       "\n",
       "\n",
       "        [[[12],\n",
       "          [12],\n",
       "          [12]],\n",
       "\n",
       "         [[12],\n",
       "          [12],\n",
       "          [12]],\n",
       "\n",
       "         [[12],\n",
       "          [12],\n",
       "          [12]],\n",
       "\n",
       "         [[12],\n",
       "          [12],\n",
       "          [12]]]],\n",
       "\n",
       "\n",
       "\n",
       "       [[[[12],\n",
       "          [12],\n",
       "          [12]],\n",
       "\n",
       "         [[12],\n",
       "          [12],\n",
       "          [12]],\n",
       "\n",
       "         [[12],\n",
       "          [12],\n",
       "          [12]],\n",
       "\n",
       "         [[12],\n",
       "          [12],\n",
       "          [12]]],\n",
       "\n",
       "\n",
       "        [[[12],\n",
       "          [12],\n",
       "          [12]],\n",
       "\n",
       "         [[12],\n",
       "          [12],\n",
       "          [12]],\n",
       "\n",
       "         [[12],\n",
       "          [12],\n",
       "          [12]],\n",
       "\n",
       "         [[12],\n",
       "          [12],\n",
       "          [12]]],\n",
       "\n",
       "\n",
       "        [[[12],\n",
       "          [12],\n",
       "          [12]],\n",
       "\n",
       "         [[12],\n",
       "          [12],\n",
       "          [12]],\n",
       "\n",
       "         [[12],\n",
       "          [12],\n",
       "          [12]],\n",
       "\n",
       "         [[12],\n",
       "          [12],\n",
       "          [12]]],\n",
       "\n",
       "\n",
       "        [[[12],\n",
       "          [12],\n",
       "          [12]],\n",
       "\n",
       "         [[12],\n",
       "          [12],\n",
       "          [12]],\n",
       "\n",
       "         [[12],\n",
       "          [12],\n",
       "          [12]],\n",
       "\n",
       "         [[12],\n",
       "          [12],\n",
       "          [12]]],\n",
       "\n",
       "\n",
       "        [[[12],\n",
       "          [12],\n",
       "          [12]],\n",
       "\n",
       "         [[12],\n",
       "          [12],\n",
       "          [12]],\n",
       "\n",
       "         [[12],\n",
       "          [12],\n",
       "          [12]],\n",
       "\n",
       "         [[12],\n",
       "          [12],\n",
       "          [12]]],\n",
       "\n",
       "\n",
       "        [[[12],\n",
       "          [12],\n",
       "          [12]],\n",
       "\n",
       "         [[12],\n",
       "          [12],\n",
       "          [12]],\n",
       "\n",
       "         [[12],\n",
       "          [12],\n",
       "          [12]],\n",
       "\n",
       "         [[12],\n",
       "          [12],\n",
       "          [12]]]]])"
      ]
     },
     "execution_count": 98,
     "metadata": {},
     "output_type": "execute_result"
    }
   ],
   "source": [
    "a=np.full((5,6,4,3,1), 12) #5D\n",
    "a"
   ]
  },
  {
   "cell_type": "code",
   "execution_count": 99,
   "id": "b751d232",
   "metadata": {},
   "outputs": [
    {
     "data": {
      "text/plain": [
       "(array([[[12],\n",
       "         [12],\n",
       "         [12]],\n",
       " \n",
       "        [[12],\n",
       "         [12],\n",
       "         [12]],\n",
       " \n",
       "        [[12],\n",
       "         [12],\n",
       "         [12]],\n",
       " \n",
       "        [[12],\n",
       "         [12],\n",
       "         [12]],\n",
       " \n",
       "        [[12],\n",
       "         [12],\n",
       "         [12]]]),\n",
       " (5, 3, 1))"
      ]
     },
     "execution_count": 99,
     "metadata": {},
     "output_type": "execute_result"
    }
   ],
   "source": [
    "a=np.full((5,3,1), 12) #3D\n",
    "a,a.shape"
   ]
  },
  {
   "cell_type": "code",
   "execution_count": 100,
   "id": "9a155910",
   "metadata": {},
   "outputs": [
    {
     "name": "stdout",
     "output_type": "stream",
     "text": [
      "[[0. 0. 0. 0. 0. 0. 0. 0. 0. 0. 0. 0. 0. 0. 0. 0. 0. 0. 0. 0. 0. 0. 0. 0.\n",
      "  0. 0. 0. 0. 0. 0. 0. 0. 0. 0. 0. 0. 0. 0. 0. 0. 0. 0. 0. 0. 0. 0. 0. 0.\n",
      "  0. 0.]\n",
      " [0. 0. 0. 0. 0. 0. 0. 0. 0. 0. 0. 0. 0. 0. 0. 0. 0. 0. 0. 0. 0. 0. 0. 0.\n",
      "  0. 0. 0. 0. 0. 0. 0. 0. 0. 0. 0. 0. 0. 0. 0. 0. 0. 0. 0. 0. 0. 0. 0. 0.\n",
      "  0. 0.]] 1\n"
     ]
    }
   ],
   "source": [
    "a=np.zeros(100)\n",
    "a_reshape = a.reshape(2,50)\n",
    "print(a_reshape ,a.ndim)"
   ]
  },
  {
   "cell_type": "code",
   "execution_count": 101,
   "id": "77647bf9",
   "metadata": {},
   "outputs": [
    {
     "name": "stdout",
     "output_type": "stream",
     "text": [
      "[[1. 1. 1. 1. 1. 1. 1. 1. 1. 1. 1. 1. 1. 1. 1. 1. 1. 1. 1. 1. 1. 1. 1. 1.\n",
      "  1. 1. 1. 1. 1. 1. 1. 1. 1. 1. 1. 1. 1. 1. 1. 1. 1. 1. 1. 1. 1. 1. 1. 1.\n",
      "  1. 1.]\n",
      " [1. 1. 1. 1. 1. 1. 1. 1. 1. 1. 1. 1. 1. 1. 1. 1. 1. 1. 1. 1. 1. 1. 1. 1.\n",
      "  1. 1. 1. 1. 1. 1. 1. 1. 1. 1. 1. 1. 1. 1. 1. 1. 1. 1. 1. 1. 1. 1. 1. 1.\n",
      "  1. 1.]] 1\n"
     ]
    }
   ],
   "source": [
    "a=np.ones(100)\n",
    "a_reshape = a.reshape(2,50)\n",
    "print(a_reshape ,a.ndim)"
   ]
  },
  {
   "cell_type": "code",
   "execution_count": 102,
   "id": "6774151d",
   "metadata": {},
   "outputs": [
    {
     "name": "stdout",
     "output_type": "stream",
     "text": [
      "[[1. 1. 1. 1. 1. 1. 1. 1. 1. 1. 1. 1. 1. 1. 1. 1. 1. 1. 1. 1. 1. 1. 1. 1.\n",
      "  1. 1. 1. 1. 1. 1. 1. 1. 1. 1. 1. 1. 1. 1. 1. 1. 1. 1. 1. 1. 1. 1. 1. 1.\n",
      "  1. 1.]\n",
      " [1. 1. 1. 1. 1. 1. 1. 1. 1. 1. 1. 1. 1. 1. 1. 1. 1. 1. 1. 1. 1. 1. 1. 1.\n",
      "  1. 1. 1. 1. 1. 1. 1. 1. 1. 1. 1. 1. 1. 1. 1. 1. 1. 1. 1. 1. 1. 1. 1. 1.\n",
      "  1. 1.]] 1\n"
     ]
    }
   ],
   "source": [
    "a=np.empty(100)\n",
    "a_reshape = a.reshape(2,50)\n",
    "print(a_reshape ,a.ndim)"
   ]
  },
  {
   "cell_type": "code",
   "execution_count": 103,
   "id": "a6a86e04",
   "metadata": {},
   "outputs": [
    {
     "data": {
      "text/plain": [
       "(array([[[0., 0., 0., 0., 0., 0., 0., 0., 0., 0., 0., 0., 0., 0., 0., 0.,\n",
       "          0., 0., 0., 0., 0., 0., 0., 0., 0.],\n",
       "         [0., 0., 0., 0., 0., 0., 0., 0., 0., 0., 0., 0., 0., 0., 0., 0.,\n",
       "          0., 0., 0., 0., 0., 0., 0., 0., 0.]],\n",
       " \n",
       "        [[0., 0., 0., 0., 0., 0., 0., 0., 0., 0., 0., 0., 0., 0., 0., 0.,\n",
       "          0., 0., 0., 0., 0., 0., 0., 0., 0.],\n",
       "         [0., 0., 0., 0., 0., 0., 0., 0., 0., 0., 0., 0., 0., 0., 0., 0.,\n",
       "          0., 0., 0., 0., 0., 0., 0., 0., 0.]]]),\n",
       " 3)"
      ]
     },
     "execution_count": 103,
     "metadata": {},
     "output_type": "execute_result"
    }
   ],
   "source": [
    "a=np.zeros(100).reshape(2,2,25)\n",
    "a , a.ndim"
   ]
  },
  {
   "cell_type": "code",
   "execution_count": 104,
   "id": "c75f678d",
   "metadata": {},
   "outputs": [
    {
     "data": {
      "text/plain": [
       "(array([[[[0., 0., 0., 0., 0., 0., 0., 0., 0., 0., 0., 0., 0., 0., 0.,\n",
       "           0., 0., 0., 0., 0., 0., 0., 0., 0., 0.],\n",
       "          [0., 0., 0., 0., 0., 0., 0., 0., 0., 0., 0., 0., 0., 0., 0.,\n",
       "           0., 0., 0., 0., 0., 0., 0., 0., 0., 0.]],\n",
       " \n",
       "         [[0., 0., 0., 0., 0., 0., 0., 0., 0., 0., 0., 0., 0., 0., 0.,\n",
       "           0., 0., 0., 0., 0., 0., 0., 0., 0., 0.],\n",
       "          [0., 0., 0., 0., 0., 0., 0., 0., 0., 0., 0., 0., 0., 0., 0.,\n",
       "           0., 0., 0., 0., 0., 0., 0., 0., 0., 0.]]],\n",
       " \n",
       " \n",
       "        [[[0., 0., 0., 0., 0., 0., 0., 0., 0., 0., 0., 0., 0., 0., 0.,\n",
       "           0., 0., 0., 0., 0., 0., 0., 0., 0., 0.],\n",
       "          [0., 0., 0., 0., 0., 0., 0., 0., 0., 0., 0., 0., 0., 0., 0.,\n",
       "           0., 0., 0., 0., 0., 0., 0., 0., 0., 0.]],\n",
       " \n",
       "         [[0., 0., 0., 0., 0., 0., 0., 0., 0., 0., 0., 0., 0., 0., 0.,\n",
       "           0., 0., 0., 0., 0., 0., 0., 0., 0., 0.],\n",
       "          [0., 0., 0., 0., 0., 0., 0., 0., 0., 0., 0., 0., 0., 0., 0.,\n",
       "           0., 0., 0., 0., 0., 0., 0., 0., 0., 0.]]]]),\n",
       " 4)"
      ]
     },
     "execution_count": 104,
     "metadata": {},
     "output_type": "execute_result"
    }
   ],
   "source": [
    "a=np.zeros(200).reshape(2,2,2,25)\n",
    "a , a.ndim"
   ]
  },
  {
   "cell_type": "code",
   "execution_count": 105,
   "id": "32cce3dd",
   "metadata": {},
   "outputs": [
    {
     "data": {
      "text/plain": [
       "(array([[[[[0., 0., 0., 0., 0., 0., 0., 0., 0., 0., 0., 0., 0., 0., 0.,\n",
       "            0., 0., 0., 0., 0., 0., 0., 0., 0., 0.],\n",
       "           [0., 0., 0., 0., 0., 0., 0., 0., 0., 0., 0., 0., 0., 0., 0.,\n",
       "            0., 0., 0., 0., 0., 0., 0., 0., 0., 0.]],\n",
       " \n",
       "          [[0., 0., 0., 0., 0., 0., 0., 0., 0., 0., 0., 0., 0., 0., 0.,\n",
       "            0., 0., 0., 0., 0., 0., 0., 0., 0., 0.],\n",
       "           [0., 0., 0., 0., 0., 0., 0., 0., 0., 0., 0., 0., 0., 0., 0.,\n",
       "            0., 0., 0., 0., 0., 0., 0., 0., 0., 0.]]],\n",
       " \n",
       " \n",
       "         [[[0., 0., 0., 0., 0., 0., 0., 0., 0., 0., 0., 0., 0., 0., 0.,\n",
       "            0., 0., 0., 0., 0., 0., 0., 0., 0., 0.],\n",
       "           [0., 0., 0., 0., 0., 0., 0., 0., 0., 0., 0., 0., 0., 0., 0.,\n",
       "            0., 0., 0., 0., 0., 0., 0., 0., 0., 0.]],\n",
       " \n",
       "          [[0., 0., 0., 0., 0., 0., 0., 0., 0., 0., 0., 0., 0., 0., 0.,\n",
       "            0., 0., 0., 0., 0., 0., 0., 0., 0., 0.],\n",
       "           [0., 0., 0., 0., 0., 0., 0., 0., 0., 0., 0., 0., 0., 0., 0.,\n",
       "            0., 0., 0., 0., 0., 0., 0., 0., 0., 0.]]]]]),\n",
       " 5)"
      ]
     },
     "execution_count": 105,
     "metadata": {},
     "output_type": "execute_result"
    }
   ],
   "source": [
    "a=np.zeros(200).reshape(1,2,2,2,25)\n",
    "a , a.ndim"
   ]
  },
  {
   "cell_type": "code",
   "execution_count": 106,
   "id": "1f6ca095",
   "metadata": {},
   "outputs": [
    {
     "data": {
      "text/plain": [
       "(array([[[[[  0,   1,   2,   3,   4,   5,   6,   7,   8,   9,  10,  11,\n",
       "             12,  13,  14,  15,  16,  17,  18,  19,  20,  21,  22,  23,\n",
       "             24],\n",
       "           [ 25,  26,  27,  28,  29,  30,  31,  32,  33,  34,  35,  36,\n",
       "             37,  38,  39,  40,  41,  42,  43,  44,  45,  46,  47,  48,\n",
       "             49]],\n",
       " \n",
       "          [[ 50,  51,  52,  53,  54,  55,  56,  57,  58,  59,  60,  61,\n",
       "             62,  63,  64,  65,  66,  67,  68,  69,  70,  71,  72,  73,\n",
       "             74],\n",
       "           [ 75,  76,  77,  78,  79,  80,  81,  82,  83,  84,  85,  86,\n",
       "             87,  88,  89,  90,  91,  92,  93,  94,  95,  96,  97,  98,\n",
       "             99]]],\n",
       " \n",
       " \n",
       "         [[[100, 101, 102, 103, 104, 105, 106, 107, 108, 109, 110, 111,\n",
       "            112, 113, 114, 115, 116, 117, 118, 119, 120, 121, 122, 123,\n",
       "            124],\n",
       "           [125, 126, 127, 128, 129, 130, 131, 132, 133, 134, 135, 136,\n",
       "            137, 138, 139, 140, 141, 142, 143, 144, 145, 146, 147, 148,\n",
       "            149]],\n",
       " \n",
       "          [[150, 151, 152, 153, 154, 155, 156, 157, 158, 159, 160, 161,\n",
       "            162, 163, 164, 165, 166, 167, 168, 169, 170, 171, 172, 173,\n",
       "            174],\n",
       "           [175, 176, 177, 178, 179, 180, 181, 182, 183, 184, 185, 186,\n",
       "            187, 188, 189, 190, 191, 192, 193, 194, 195, 196, 197, 198,\n",
       "            199]]]]]),\n",
       " 5)"
      ]
     },
     "execution_count": 106,
     "metadata": {},
     "output_type": "execute_result"
    }
   ],
   "source": [
    "a=np.arange(0,200).reshape(1,2,2,2,25)\n",
    "a , a.ndim"
   ]
  },
  {
   "cell_type": "code",
   "execution_count": 107,
   "id": "a5633509",
   "metadata": {},
   "outputs": [
    {
     "data": {
      "text/plain": [
       "(array([[[[11,  7, 62, 11, 64, 44, 90, 98, 24, 72, 25, 49, 78, 96,  9,\n",
       "           93,  8, 33, 95, 19, 84,  5, 52, 29, 13],\n",
       "          [20, 92, 27, 15, 39, 20, 80,  5, 36, 98, 28, 89, 40, 58, 69,\n",
       "            7, 81, 34, 75, 56, 85, 57, 60,  6, 79]],\n",
       " \n",
       "         [[82, 11, 53, 54, 73, 55, 36, 59, 88, 80,  1, 11, 15, 60, 65,\n",
       "            1, 67,  9, 88, 68, 38, 92, 46, 40, 58],\n",
       "          [75, 88, 18, 30, 86, 77, 72, 33, 96, 32,  5, 92, 79, 37, 46,\n",
       "           90, 16, 57, 95, 21, 27, 39, 45, 45, 13]]],\n",
       " \n",
       " \n",
       "        [[[11, 26, 26, 70, 55, 62, 95, 59, 69, 39, 64, 48, 31, 66, 43,\n",
       "           76, 77, 60, 47, 41,  7,  0, 55, 56, 37],\n",
       "          [ 9, 67, 68, 72, 84, 32, 93, 26, 28, 81, 14, 19, 39, 64,  3,\n",
       "           90, 54, 45, 31, 45, 27, 33, 30, 43, 42]],\n",
       " \n",
       "         [[30, 63, 87, 16,  3, 56, 71, 11, 11, 74, 54,  6,  7, 72,  2,\n",
       "           64, 41, 56, 50, 50, 49, 45, 26, 98,  3],\n",
       "          [60, 24, 60, 67, 51, 89, 98,  2, 87, 98, 39, 75, 51, 80, 62,\n",
       "           25, 61, 86, 78, 75, 61, 29, 53, 99,  1]]]]),\n",
       " 4)"
      ]
     },
     "execution_count": 107,
     "metadata": {},
     "output_type": "execute_result"
    }
   ],
   "source": [
    "import random\n",
    "a=np.random.randint(0,100,200).reshape(2,2,2,25)\n",
    "a , a.ndim"
   ]
  },
  {
   "cell_type": "code",
   "execution_count": 108,
   "id": "8495ccdc",
   "metadata": {},
   "outputs": [
    {
     "data": {
      "text/plain": [
       "array([ 0,  1,  2,  3,  4,  5,  6,  7,  8,  9, 10, 11, 12, 13, 14, 15, 16,\n",
       "       17, 18, 19, 20, 21, 22, 23, 24])"
      ]
     },
     "execution_count": 108,
     "metadata": {},
     "output_type": "execute_result"
    }
   ],
   "source": [
    "a=np.arange(25)\n",
    "a[[3]]\n",
    "a"
   ]
  },
  {
   "cell_type": "code",
   "execution_count": 109,
   "id": "9fe5c6be",
   "metadata": {
    "scrolled": true
   },
   "outputs": [
    {
     "name": "stdout",
     "output_type": "stream",
     "text": [
      "[ 5  6  7  8  9 10 11]\n"
     ]
    },
    {
     "data": {
      "text/plain": [
       "(array([ 0,  1,  2,  3,  4,  5,  6,  7,  8,  9, 10, 11, 12, 13, 14, 15, 16,\n",
       "        17, 18, 19, 20, 21, 22, 23, 24]),\n",
       " None)"
      ]
     },
     "execution_count": 109,
     "metadata": {},
     "output_type": "execute_result"
    }
   ],
   "source": [
    "a=np.arange(25)\n",
    "a,print(a[5:12])"
   ]
  },
  {
   "cell_type": "code",
   "execution_count": 110,
   "id": "eb9e234a",
   "metadata": {
    "scrolled": true
   },
   "outputs": [
    {
     "data": {
      "text/plain": [
       "array([ 2,  3,  4,  5,  6,  7,  8,  9, 10, 11, 12, 13, 14, 15, 16, 17, 18,\n",
       "       19, 20, 21, 22, 23, 24])"
      ]
     },
     "execution_count": 110,
     "metadata": {},
     "output_type": "execute_result"
    }
   ],
   "source": [
    "a=np.arange(2,25)\n",
    "a"
   ]
  },
  {
   "cell_type": "code",
   "execution_count": 111,
   "id": "911e9ee6",
   "metadata": {},
   "outputs": [
    {
     "name": "stdout",
     "output_type": "stream",
     "text": [
      "[[6 2 5 3 1]\n",
      " [2 5 3 4 4]]\n"
     ]
    }
   ],
   "source": [
    "import random\n",
    "a=np.random.randint(1,10,10).reshape(2,5)\n",
    "print(a)"
   ]
  },
  {
   "cell_type": "code",
   "execution_count": 112,
   "id": "011cbfbf",
   "metadata": {},
   "outputs": [
    {
     "data": {
      "text/plain": [
       "array([[[5, 5, 5, 5, 5],\n",
       "        [5, 5, 5, 5, 5],\n",
       "        [5, 5, 5, 5, 5],\n",
       "        [5, 5, 5, 5, 5],\n",
       "        [5, 5, 5, 5, 5]],\n",
       "\n",
       "       [[5, 5, 5, 5, 5],\n",
       "        [5, 5, 5, 5, 5],\n",
       "        [5, 5, 5, 5, 5],\n",
       "        [5, 5, 5, 5, 5],\n",
       "        [5, 5, 5, 5, 5]],\n",
       "\n",
       "       [[5, 5, 5, 5, 5],\n",
       "        [5, 5, 5, 5, 5],\n",
       "        [5, 5, 5, 5, 5],\n",
       "        [5, 5, 5, 5, 5],\n",
       "        [5, 5, 5, 5, 5]],\n",
       "\n",
       "       [[5, 5, 5, 5, 5],\n",
       "        [5, 5, 5, 5, 5],\n",
       "        [5, 5, 5, 5, 5],\n",
       "        [5, 5, 5, 5, 5],\n",
       "        [5, 5, 5, 5, 5]],\n",
       "\n",
       "       [[5, 5, 5, 5, 5],\n",
       "        [5, 5, 5, 5, 5],\n",
       "        [5, 5, 5, 5, 5],\n",
       "        [5, 5, 5, 5, 5],\n",
       "        [5, 5, 5, 5, 5]]])"
      ]
     },
     "execution_count": 112,
     "metadata": {},
     "output_type": "execute_result"
    }
   ],
   "source": [
    "a=np.full((5,5,5),5)\n",
    "a"
   ]
  },
  {
   "cell_type": "code",
   "execution_count": 113,
   "id": "0fc64215",
   "metadata": {},
   "outputs": [
    {
     "data": {
      "text/plain": [
       "array([[[ 0,  1,  2,  3,  4,  5,  6,  7,  8,  9, 10, 11, 12, 13, 14, 15,\n",
       "         16, 17, 18, 19, 20, 21, 22, 23, 24],\n",
       "        [25, 26, 27, 28, 29, 30, 31, 32, 33, 34, 35, 36, 37, 38, 39, 40,\n",
       "         41, 42, 43, 44, 45, 46, 47, 48, 49]],\n",
       "\n",
       "       [[50, 51, 52, 53, 54, 55, 56, 57, 58, 59, 60, 61, 62, 63, 64, 65,\n",
       "         66, 67, 68, 69, 70, 71, 72, 73, 74],\n",
       "        [75, 76, 77, 78, 79, 80, 81, 82, 83, 84, 85, 86, 87, 88, 89, 90,\n",
       "         91, 92, 93, 94, 95, 96, 97, 98, 99]]])"
      ]
     },
     "execution_count": 113,
     "metadata": {},
     "output_type": "execute_result"
    }
   ],
   "source": [
    "a=np.arange(100).reshape(2,2,25)\n",
    "a"
   ]
  },
  {
   "cell_type": "code",
   "execution_count": 114,
   "id": "0ebf9cad",
   "metadata": {},
   "outputs": [
    {
     "data": {
      "text/plain": [
       "array([89])"
      ]
     },
     "execution_count": 114,
     "metadata": {},
     "output_type": "execute_result"
    }
   ],
   "source": [
    "a[[1],[1],[14]]"
   ]
  },
  {
   "cell_type": "code",
   "execution_count": 115,
   "id": "310dac24",
   "metadata": {},
   "outputs": [
    {
     "data": {
      "text/plain": [
       "array([4])"
      ]
     },
     "execution_count": 115,
     "metadata": {},
     "output_type": "execute_result"
    }
   ],
   "source": [
    "a[[0],[0],[4]]"
   ]
  },
  {
   "cell_type": "code",
   "execution_count": 116,
   "id": "6b4af457",
   "metadata": {},
   "outputs": [
    {
     "data": {
      "text/plain": [
       "array([[[[  0,   1,   2,   3,   4,   5,   6,   7,   8,   9,  10,  11,\n",
       "           12,  13,  14,  15,  16,  17,  18,  19,  20,  21,  22,  23,\n",
       "           24],\n",
       "         [ 25,  26,  27,  28,  29,  30,  31,  32,  33,  34,  35,  36,\n",
       "           37,  38,  39,  40,  41,  42,  43,  44,  45,  46,  47,  48,\n",
       "           49]],\n",
       "\n",
       "        [[ 50,  51,  52,  53,  54,  55,  56,  57,  58,  59,  60,  61,\n",
       "           62,  63,  64,  65,  66,  67,  68,  69,  70,  71,  72,  73,\n",
       "           74],\n",
       "         [ 75,  76,  77,  78,  79,  80,  81,  82,  83,  84,  85,  86,\n",
       "           87,  88,  89,  90,  91,  92,  93,  94,  95,  96,  97,  98,\n",
       "           99]]],\n",
       "\n",
       "\n",
       "       [[[100, 101, 102, 103, 104, 105, 106, 107, 108, 109, 110, 111,\n",
       "          112, 113, 114, 115, 116, 117, 118, 119, 120, 121, 122, 123,\n",
       "          124],\n",
       "         [125, 126, 127, 128, 129, 130, 131, 132, 133, 134, 135, 136,\n",
       "          137, 138, 139, 140, 141, 142, 143, 144, 145, 146, 147, 148,\n",
       "          149]],\n",
       "\n",
       "        [[150, 151, 152, 153, 154, 155, 156, 157, 158, 159, 160, 161,\n",
       "          162, 163, 164, 165, 166, 167, 168, 169, 170, 171, 172, 173,\n",
       "          174],\n",
       "         [175, 176, 177, 178, 179, 180, 181, 182, 183, 184, 185, 186,\n",
       "          187, 188, 189, 190, 191, 192, 193, 194, 195, 196, 197, 198,\n",
       "          199]]]])"
      ]
     },
     "execution_count": 116,
     "metadata": {},
     "output_type": "execute_result"
    }
   ],
   "source": [
    "a=np.arange(200).reshape(2,2,2,25)\n",
    "a"
   ]
  },
  {
   "cell_type": "code",
   "execution_count": 117,
   "id": "dfc55e5a",
   "metadata": {},
   "outputs": [
    {
     "data": {
      "text/plain": [
       "array([4])"
      ]
     },
     "execution_count": 117,
     "metadata": {},
     "output_type": "execute_result"
    }
   ],
   "source": [
    "a[[0],[0],[0],[4]]"
   ]
  },
  {
   "cell_type": "code",
   "execution_count": 118,
   "id": "a9ef930f",
   "metadata": {},
   "outputs": [
    {
     "data": {
      "text/plain": [
       "array([178])"
      ]
     },
     "execution_count": 118,
     "metadata": {},
     "output_type": "execute_result"
    }
   ],
   "source": [
    "a[[1],[1],[1],[3]]"
   ]
  },
  {
   "cell_type": "code",
   "execution_count": 119,
   "id": "d318a25d",
   "metadata": {},
   "outputs": [
    {
     "data": {
      "text/plain": [
       "array([[[[  0,   1,   2,   3,   4,   5,   6,   7,   8,   9,  10,  11,\n",
       "           12,  13,  14,  15,  16,  17,  18,  19,  20,  21,  22,  23,\n",
       "           24],\n",
       "         [ 25,  26,  27,  28,  29,  30,  31,  32,  33,  34,  35,  36,\n",
       "           37,  38,  39,  40,  41,  42,  43,  44,  45,  46,  47,  48,\n",
       "           49]],\n",
       "\n",
       "        [[ 50,  51,  52,  53,  54,  55,  56,  57,  58,  59,  60,  61,\n",
       "           62,  63,  64,  65,  66,  67,  68,  69,  70,  71,  72,  73,\n",
       "           74],\n",
       "         [ 75,  76,  77,  78,  79,  80,  81,  82,  83,  84,  85,  86,\n",
       "           87,  88,  89,  90,  91,  92,  93,  94,  95,  96,  97,  98,\n",
       "           99]]],\n",
       "\n",
       "\n",
       "       [[[100, 101, 102, 103, 104, 105, 106, 107, 108, 109, 110, 111,\n",
       "          112, 113, 114, 115, 116, 117, 118, 119, 120, 121, 122, 123,\n",
       "          124],\n",
       "         [125, 126, 127, 128, 129, 130, 131, 132, 133, 134, 135, 136,\n",
       "          137, 138, 139, 140, 141, 142, 143, 144, 145, 146, 147, 148,\n",
       "          149]],\n",
       "\n",
       "        [[150, 151, 152, 153, 154, 155, 156, 157, 158, 159, 160, 161,\n",
       "          162, 163, 164, 165, 166, 167, 168, 169, 170, 171, 172, 173,\n",
       "          174],\n",
       "         [175, 176, 177, 178, 179, 180, 181, 182, 183, 184, 185, 186,\n",
       "          187, 188, 189, 190, 191, 192, 193, 194, 195, 196, 197, 198,\n",
       "          199]]]])"
      ]
     },
     "execution_count": 119,
     "metadata": {},
     "output_type": "execute_result"
    }
   ],
   "source": [
    "a=np.arange(200).reshape(2,2,2,25)\n",
    "a"
   ]
  },
  {
   "cell_type": "code",
   "execution_count": 120,
   "id": "f85d99f4",
   "metadata": {},
   "outputs": [
    {
     "data": {
      "text/plain": [
       "(array([[[[  0,   1,   2,   3,   4,   5,   6,   7,   8,   9,  10,  11,\n",
       "            12,  13,  14,  15,  16,  17,  18,  19,  20,  21,  22,  23,\n",
       "            24],\n",
       "          [ 25,  26,  27,  28,  29,  30,  31,  32,  33,  34,  35,  36,\n",
       "            37,  38,  39,  40,  41,  42,  43,  44,  45,  46,  47,  48,\n",
       "            49]],\n",
       " \n",
       "         [[ 50,  51,  52,  53,  54,  55,  56,  57,  58,  59,  60,  61,\n",
       "            62,  63,  64,  65,  66,  67,  68,  69,  70,  71,  72,  73,\n",
       "            74],\n",
       "          [ 75,  76,  77,  78,  79,  80,  81,  82,  83,  84,  85,  86,\n",
       "            87,  88,  89,  90,  91,  92,  93,  94,  95,  96,  97,  98,\n",
       "            99]]],\n",
       " \n",
       " \n",
       "        [[[100, 101, 102, 103, 104, 105, 106, 107, 108, 109, 110, 111,\n",
       "           112, 113, 114, 115, 116, 117, 118, 119, 120, 121, 122, 123,\n",
       "           124],\n",
       "          [125, 126, 127, 128, 129, 130, 131, 132, 133, 134, 135, 136,\n",
       "           137, 138, 139, 140, 141, 142, 143, 144, 145, 146, 147, 148,\n",
       "           149]],\n",
       " \n",
       "         [[150, 151, 152, 153, 154, 155, 156, 157, 158, 159, 160, 161,\n",
       "           162, 163, 164, 165, 166, 167, 168, 169, 170, 171, 172, 173,\n",
       "           174],\n",
       "          [175, 176, 177, 178, 179, 180, 181, 182, 183, 184, 185, 186,\n",
       "           187, 188, 189, 190, 191, 192, 193, 194, 195, 196, 197, 198,\n",
       "           199]]]]),\n",
       " array([[150, 151, 152, 153, 154, 155, 156, 157, 158, 159, 160, 161, 162,\n",
       "         163, 164, 165, 166, 167, 168, 169, 170, 171, 172, 173, 174],\n",
       "        [175, 176, 177, 178, 179, 180, 181, 182, 183, 184, 185, 186, 187,\n",
       "         188, 189, 190, 191, 192, 193, 194, 195, 196, 197, 198, 199]]))"
      ]
     },
     "execution_count": 120,
     "metadata": {},
     "output_type": "execute_result"
    }
   ],
   "source": [
    "a,a[1][1][0:12]"
   ]
  },
  {
   "cell_type": "code",
   "execution_count": 121,
   "id": "4467f4d0",
   "metadata": {},
   "outputs": [
    {
     "data": {
      "text/plain": [
       "array([[150, 151, 152, 153, 154, 155, 156, 157, 158, 159, 160, 161, 162,\n",
       "        163]])"
      ]
     },
     "execution_count": 121,
     "metadata": {},
     "output_type": "execute_result"
    }
   ],
   "source": [
    "a[1][1][0:1,0:14]"
   ]
  },
  {
   "cell_type": "code",
   "execution_count": 122,
   "id": "4470dc9b",
   "metadata": {},
   "outputs": [
    {
     "data": {
      "text/plain": [
       "(array([], dtype=int32), numpy.ndarray)"
      ]
     },
     "execution_count": 122,
     "metadata": {},
     "output_type": "execute_result"
    }
   ],
   "source": [
    "n18=a[a>500]\n",
    "n18, type(n18)"
   ]
  },
  {
   "cell_type": "code",
   "execution_count": 123,
   "id": "d89cad81",
   "metadata": {},
   "outputs": [
    {
     "data": {
      "text/plain": [
       "(array([  0,   1,   2,   3,   4,   5,   6,   7,   8,   9,  10,  11,  12,\n",
       "         13,  14,  15,  16,  17,  18,  19,  20,  21,  22,  23,  24,  25,\n",
       "         26,  27,  28,  29,  30,  31,  32,  33,  34,  35,  36,  37,  38,\n",
       "         39,  40,  41,  42,  43,  44,  45,  46,  47,  48,  49,  50,  51,\n",
       "         52,  53,  54,  55,  56,  57,  58,  59,  60,  61,  62,  63,  64,\n",
       "         65,  66,  67,  68,  69,  70,  71,  72,  73,  74,  75,  76,  77,\n",
       "         78,  79,  80,  81,  82,  83,  84,  85,  86,  87,  88,  89,  90,\n",
       "         91,  92,  93,  94,  95,  96,  97,  98,  99, 100, 101, 102, 103,\n",
       "        104, 105, 106, 107, 108, 109, 110, 111, 112, 113, 114, 115, 116,\n",
       "        117, 118, 119, 120, 121, 122, 123, 124, 125, 126, 127, 128, 129,\n",
       "        130, 131, 132, 133, 134, 135, 136, 137, 138, 139, 140, 141, 142,\n",
       "        143, 144, 145, 146, 147, 148, 149, 150, 151, 152, 153, 154, 155,\n",
       "        156, 157, 158, 159, 160, 161, 162, 163, 164, 165, 166, 167, 168,\n",
       "        169, 170, 171, 172, 173, 174, 175, 176, 177, 178, 179, 180, 181,\n",
       "        182, 183, 184, 185, 186, 187, 188, 189, 190, 191, 192, 193, 194,\n",
       "        195, 196, 197, 198, 199]),\n",
       " numpy.ndarray)"
      ]
     },
     "execution_count": 123,
     "metadata": {},
     "output_type": "execute_result"
    }
   ],
   "source": [
    "s_a=a[a<500]\n",
    "s_a,type(s_a)"
   ]
  },
  {
   "cell_type": "code",
   "execution_count": 124,
   "id": "e9b82f4f",
   "metadata": {},
   "outputs": [
    {
     "data": {
      "text/plain": [
       "(array([  0,   2,   4,   6,   8,  10,  12,  14,  16,  18,  20,  22,  24,\n",
       "         26,  28,  30,  32,  34,  36,  38,  40,  42,  44,  46,  48,  50,\n",
       "         52,  54,  56,  58,  60,  62,  64,  66,  68,  70,  72,  74,  76,\n",
       "         78,  80,  82,  84,  86,  88,  90,  92,  94,  96,  98, 100, 102,\n",
       "        104, 106, 108, 110, 112, 114, 116, 118, 120, 122, 124, 126, 128,\n",
       "        130, 132, 134, 136, 138, 140, 142, 144, 146, 148, 150, 152, 154,\n",
       "        156, 158, 160, 162, 164, 166, 168, 170, 172, 174, 176, 178, 180,\n",
       "        182, 184, 186, 188, 190, 192, 194, 196, 198]),\n",
       " array([[[[  0,   1,   2,   3,   4,   5,   6,   7,   8,   9,  10,  11,\n",
       "            12,  13,  14,  15,  16,  17,  18,  19,  20,  21,  22,  23,\n",
       "            24],\n",
       "          [ 25,  26,  27,  28,  29,  30,  31,  32,  33,  34,  35,  36,\n",
       "            37,  38,  39,  40,  41,  42,  43,  44,  45,  46,  47,  48,\n",
       "            49]],\n",
       " \n",
       "         [[ 50,  51,  52,  53,  54,  55,  56,  57,  58,  59,  60,  61,\n",
       "            62,  63,  64,  65,  66,  67,  68,  69,  70,  71,  72,  73,\n",
       "            74],\n",
       "          [ 75,  76,  77,  78,  79,  80,  81,  82,  83,  84,  85,  86,\n",
       "            87,  88,  89,  90,  91,  92,  93,  94,  95,  96,  97,  98,\n",
       "            99]]],\n",
       " \n",
       " \n",
       "        [[[100, 101, 102, 103, 104, 105, 106, 107, 108, 109, 110, 111,\n",
       "           112, 113, 114, 115, 116, 117, 118, 119, 120, 121, 122, 123,\n",
       "           124],\n",
       "          [125, 126, 127, 128, 129, 130, 131, 132, 133, 134, 135, 136,\n",
       "           137, 138, 139, 140, 141, 142, 143, 144, 145, 146, 147, 148,\n",
       "           149]],\n",
       " \n",
       "         [[150, 151, 152, 153, 154, 155, 156, 157, 158, 159, 160, 161,\n",
       "           162, 163, 164, 165, 166, 167, 168, 169, 170, 171, 172, 173,\n",
       "           174],\n",
       "          [175, 176, 177, 178, 179, 180, 181, 182, 183, 184, 185, 186,\n",
       "           187, 188, 189, 190, 191, 192, 193, 194, 195, 196, 197, 198,\n",
       "           199]]]]))"
      ]
     },
     "execution_count": 124,
     "metadata": {},
     "output_type": "execute_result"
    }
   ],
   "source": [
    "s_c=a[a%2==0]\n",
    "s_c,a"
   ]
  },
  {
   "cell_type": "code",
   "execution_count": 125,
   "id": "1e9f18ee",
   "metadata": {},
   "outputs": [
    {
     "data": {
      "text/plain": [
       "array([[[[0, 0, 0, 0, 0, 0, 0, 0, 0, 0, 0, 0, 0, 0, 0, 0, 0, 0, 0, 0,\n",
       "          0, 0, 0, 0, 0],\n",
       "         [0, 0, 0, 0, 0, 0, 0, 0, 0, 0, 0, 0, 0, 0, 0, 0, 0, 0, 0, 0,\n",
       "          0, 0, 0, 0, 0]],\n",
       "\n",
       "        [[1, 1, 1, 1, 1, 1, 1, 1, 1, 1, 1, 1, 1, 1, 1, 1, 1, 1, 1, 1,\n",
       "          1, 1, 1, 1, 1],\n",
       "         [1, 1, 1, 1, 1, 1, 1, 1, 1, 1, 1, 1, 1, 1, 1, 1, 1, 1, 1, 1,\n",
       "          1, 1, 1, 1, 1]]],\n",
       "\n",
       "\n",
       "       [[[0, 0, 0, 0, 0, 0, 0, 0, 0, 0, 0, 0, 0, 0, 0, 0, 0, 0, 0, 0,\n",
       "          0, 0, 0, 0, 0],\n",
       "         [0, 0, 0, 0, 0, 0, 0, 0, 0, 0, 0, 0, 0, 0, 0, 0, 0, 0, 0, 0,\n",
       "          0, 0, 0, 0, 0]],\n",
       "\n",
       "        [[1, 1, 1, 1, 1, 1, 1, 1, 1, 1, 1, 1, 1, 1, 1, 1, 1, 1, 1, 1,\n",
       "          1, 1, 1, 1, 1],\n",
       "         [1, 1, 1, 1, 1, 1, 1, 1, 1, 1, 1, 1, 1, 1, 1, 1, 1, 1, 1, 1,\n",
       "          1, 1, 1, 1, 1]]]], dtype=int64)"
      ]
     },
     "execution_count": 125,
     "metadata": {},
     "output_type": "execute_result"
    }
   ],
   "source": [
    "a.argsort(axis=1)"
   ]
  },
  {
   "cell_type": "code",
   "execution_count": 126,
   "id": "7b33383d",
   "metadata": {},
   "outputs": [
    {
     "name": "stdout",
     "output_type": "stream",
     "text": [
      "tuple_a [   1    3 4455    8   65    4   24]\n"
     ]
    },
    {
     "data": {
      "text/plain": [
       "array([   1,    3, 4455,    8,   65,    4,   24])"
      ]
     },
     "execution_count": 126,
     "metadata": {},
     "output_type": "execute_result"
    }
   ],
   "source": [
    "t_a=np.array(tuple_arr)\n",
    "print('tuple_a',t_a)\n",
    "t_a"
   ]
  },
  {
   "cell_type": "code",
   "execution_count": 127,
   "id": "a94a2593",
   "metadata": {},
   "outputs": [
    {
     "name": "stdout",
     "output_type": "stream",
     "text": [
      "set_a {33, 66, 2, 22, 55, 9, 44}\n"
     ]
    },
    {
     "data": {
      "text/plain": [
       "array({33, 66, 2, 22, 55, 9, 44}, dtype=object)"
      ]
     },
     "execution_count": 127,
     "metadata": {},
     "output_type": "execute_result"
    }
   ],
   "source": [
    "s_t=np.array(set_arr)\n",
    "print('set_a',s_t)\n",
    "s_t"
   ]
  },
  {
   "cell_type": "code",
   "execution_count": 128,
   "id": "5e672ee1",
   "metadata": {},
   "outputs": [
    {
     "name": "stdout",
     "output_type": "stream",
     "text": [
      "dict_a {1: 100, 2: 200, 3: 'Truba'}\n"
     ]
    },
    {
     "data": {
      "text/plain": [
       "array({1: 100, 2: 200, 3: 'Truba'}, dtype=object)"
      ]
     },
     "execution_count": 128,
     "metadata": {},
     "output_type": "execute_result"
    }
   ],
   "source": [
    "d_t=np.array(dict_arr)\n",
    "print('dict_a',d_t)\n",
    "d_t"
   ]
  },
  {
   "cell_type": "code",
   "execution_count": 129,
   "id": "81c74ceb",
   "metadata": {},
   "outputs": [
    {
     "name": "stdout",
     "output_type": "stream",
     "text": [
      "string_a ['np' 'numpy' 'pandas' 'matplotlib' 'seaborn']\n"
     ]
    },
    {
     "data": {
      "text/plain": [
       "array(['np', 'numpy', 'pandas', 'matplotlib', 'seaborn'], dtype='<U10')"
      ]
     },
     "execution_count": 129,
     "metadata": {},
     "output_type": "execute_result"
    }
   ],
   "source": [
    "s_t=np.array(str_arr)\n",
    "print('string_a',s_t)\n",
    "s_t"
   ]
  },
  {
   "cell_type": "markdown",
   "id": "42928e76",
   "metadata": {},
   "source": [
    "# Method 2 - np.array({([value1,value2,value3])}) -"
   ]
  },
  {
   "cell_type": "code",
   "execution_count": 130,
   "id": "d9d601f1",
   "metadata": {},
   "outputs": [
    {
     "data": {
      "text/plain": [
       "(array([ 1, 22, 33, 11, 43, 56,  4]),\n",
       " array([   1,    3, 4455,    8,   65,    4,   24]),\n",
       " array({33, 66, 2, 22, 55, 9, 44}, dtype=object),\n",
       " array({1: 100, 2: 200, 3: 'Truba'}, dtype=object),\n",
       " array(['np', 'numpy', 'pandas', 'matplotlib', 'seaborn'], dtype='<U10'))"
      ]
     },
     "execution_count": 130,
     "metadata": {},
     "output_type": "execute_result"
    }
   ],
   "source": [
    "# create array with list, tuple, dictionary, set , string with different data types\n",
    "list_arr=np.array([1,22,33,11,43,56,4])\n",
    "tuple_arr=np.array((1,3,4455,8,65,4,24))\n",
    "set_arr=np.array({22,33,44,55,66,2,9})\n",
    "dict_arr=np.array({1:100,2:200,3:'Truba'})\n",
    "str_arr=np.array(('np','numpy', 'pandas', 'matplotlib', 'seaborn'))\n",
    "list_arr,tuple_arr,set_arr,dict_arr,str_arr"
   ]
  },
  {
   "cell_type": "markdown",
   "id": "1c96f2cf",
   "metadata": {},
   "source": [
    "# Check array's dimension, type, datatype, size, shape"
   ]
  },
  {
   "cell_type": "code",
   "execution_count": 131,
   "id": "f9007eaa",
   "metadata": {},
   "outputs": [
    {
     "name": "stdout",
     "output_type": "stream",
     "text": [
      "list- [100, 322, 343, 711, 430, 56, 40] <class 'list'>\n",
      "--------------------------------------------\n",
      "array- [100 322 343 711 430  56  40] ,dimension- 1 ,type- <class 'numpy.ndarray'>\n",
      "dtype- int32 Size- 7 shape- (7,)\n"
     ]
    }
   ],
   "source": [
    "l=[100,322,343,711,430,56,40]\n",
    "print('list-',l, type(l))\n",
    "print('--------------------------------------------')\n",
    "arr_1d=np.array([100,322,343,711,430,56,40])\n",
    "print('array-',arr_1d,',dimension-',arr_1d.ndim,',type-',type(arr_1d))\n",
    "print('dtype-',arr_1d.dtype,'Size-',arr_1d.size,'shape-',arr_1d.shape)"
   ]
  },
  {
   "cell_type": "code",
   "execution_count": 132,
   "id": "bcc8960b",
   "metadata": {},
   "outputs": [
    {
     "name": "stdout",
     "output_type": "stream",
     "text": [
      "type(list)- <class 'list'>\n",
      "type(array)- <class 'numpy.ndarray'>\n",
      "[100, 322, 343, 711, 430, 56, 40]\n",
      "[100 322 343 711 430  56  40]\n",
      "list size in bytes- 196\n",
      "array size in bytes- 168\n",
      "8\n",
      "7\n",
      "7\n",
      "56\n"
     ]
    },
    {
     "data": {
      "text/plain": [
       "[100, 322, 343, 711, 430, 56, 40]"
      ]
     },
     "execution_count": 132,
     "metadata": {},
     "output_type": "execute_result"
    }
   ],
   "source": [
    "# import sys - get size of,\n",
    "l=[100,322,343,711,430,56,40]\n",
    "arr=np.array([100,322,343,711,430,56,40],dtype='int64')\n",
    "print('type(list)-',type(l))\n",
    "print('type(array)-',type(arr))\n",
    "print(l)\n",
    "print(arr)\n",
    "import sys\n",
    "print('list size in bytes-',sys.getsizeof(1)*len(l))\n",
    "print('array size in bytes-',sys.getsizeof(arr)) # bytes\n",
    "print(arr.itemsize)\n",
    "print(arr.size)\n",
    "print(len(arr))\n",
    "print(arr.itemsize*arr.size) # bytes\n",
    "aaa=arr.tolist()\n",
    "aaa"
   ]
  },
  {
   "cell_type": "markdown",
   "id": "6cab60f3",
   "metadata": {},
   "source": [
    "# 5 dimensional array"
   ]
  },
  {
   "cell_type": "code",
   "execution_count": 133,
   "id": "c9019f22",
   "metadata": {},
   "outputs": [
    {
     "data": {
      "text/plain": [
       "array([[[[[100, 322, 343, 711],\n",
       "          [421, 513,  64,  75]],\n",
       "\n",
       "         [[100, 322, 343, 711],\n",
       "          [421, 513,  64,  75]]]],\n",
       "\n",
       "\n",
       "\n",
       "       [[[[100, 322, 343, 711],\n",
       "          [421, 513,  64,  75]],\n",
       "\n",
       "         [[100, 322, 343, 711],\n",
       "          [421, 513,  64,  75]]]]])"
      ]
     },
     "execution_count": 133,
     "metadata": {},
     "output_type": "execute_result"
    }
   ],
   "source": [
    "arr_5d=np.array([[\n",
    "[[[100,322,343,711],[421,513,64,75]],[[100,322,343,711],[421,513,64,75]]]],\n",
    "[\n",
    "[[[100,322,343,711],[421,513,64,75]],[[100,322,343,711],[421,513,64,75]]]]])\n",
    "arr_5d"
   ]
  },
  {
   "cell_type": "code",
   "execution_count": 134,
   "id": "ecc0cbe7",
   "metadata": {},
   "outputs": [
    {
     "name": "stdout",
     "output_type": "stream",
     "text": [
      "dimension- 5 ,type- <class 'numpy.ndarray'>\n",
      "dtype- int32 Size- 32 shape- (2, 1, 2, 2, 4)\n"
     ]
    }
   ],
   "source": [
    "print('dimension-',arr_5d.ndim,',type-',type(arr_5d))\n",
    "print('dtype-',arr_5d.dtype,'Size-',arr_5d.size,'shape-',arr_5d.shape)"
   ]
  },
  {
   "cell_type": "markdown",
   "id": "e4bb6f9a",
   "metadata": {},
   "source": [
    "# High dimensional array"
   ]
  },
  {
   "cell_type": "code",
   "execution_count": 135,
   "id": "c0f1c1c9",
   "metadata": {},
   "outputs": [
    {
     "name": "stdout",
     "output_type": "stream",
     "text": [
      "[[[[[[12 32 34]]]]]]\n",
      "number of Dimensions: 6\n"
     ]
    }
   ],
   "source": [
    "arr_6d=np.array([12,32,34],ndmin=6)\n",
    "print(arr_6d)\n",
    "print('number of Dimensions:',arr_6d.ndim)"
   ]
  },
  {
   "cell_type": "code",
   "execution_count": 136,
   "id": "dc01cdaf",
   "metadata": {},
   "outputs": [
    {
     "name": "stdout",
     "output_type": "stream",
     "text": [
      "dimension- 6 ,type- <class 'numpy.ndarray'>\n",
      "dtype- int32 Size- 3 shape- (1, 1, 1, 1, 1, 3)\n"
     ]
    }
   ],
   "source": [
    "print('dimension-',arr_6d.ndim,',type-',type(arr_6d))\n",
    "print('dtype-',arr_6d.dtype,'Size-',arr_6d.size,'shape-',arr_6d.shape)"
   ]
  },
  {
   "cell_type": "markdown",
   "id": "638021da",
   "metadata": {},
   "source": [
    "# Other funtions for creating arrays"
   ]
  },
  {
   "cell_type": "code",
   "execution_count": 140,
   "id": "389332cd",
   "metadata": {},
   "outputs": [
    {
     "name": "stdout",
     "output_type": "stream",
     "text": [
      "acm1_1- [81 92  3 94 95]\n",
      "acm1_2- [81 92  3 94 95]\n"
     ]
    }
   ],
   "source": [
    "# np.array([value1,value2,value3])\n",
    "acm1_1=np.array([81,92,3,94,95])\n",
    "print('acm1_1-',acm1_1)\n",
    "list_=[81,92,3,94,95]\n",
    "acm1_2=np.array(list_)\n",
    "print('acm1_2-',acm1_2)"
   ]
  },
  {
   "cell_type": "code",
   "execution_count": 144,
   "id": "22e87cf2",
   "metadata": {},
   "outputs": [
    {
     "name": "stdout",
     "output_type": "stream",
     "text": [
      "acm2_1 [0 1 2 3 4 5]\n",
      "acm2_2 [1 6]\n"
     ]
    }
   ],
   "source": [
    "#acm= array create methods\n",
    "# np.arange(value)\n",
    "acm2_1=np.arange(6)\n",
    "print('acm2_1',acm2_1)\n",
    "acm2_2=np.arange(1,10,5) # np.arange(value[start],value[end],value[step])\n",
    "print('acm2_2',acm2_2)"
   ]
  },
  {
   "cell_type": "code",
   "execution_count": 146,
   "id": "117b9f01",
   "metadata": {},
   "outputs": [
    {
     "data": {
      "text/plain": [
       "array([1., 1., 1., 1., 1., 1., 1., 1., 1.])"
      ]
     },
     "execution_count": 146,
     "metadata": {},
     "output_type": "execute_result"
    }
   ],
   "source": [
    "# np.ones()\n",
    "acm3=np.ones(9)\n",
    "acm3"
   ]
  },
  {
   "cell_type": "code",
   "execution_count": 147,
   "id": "40f29365",
   "metadata": {},
   "outputs": [
    {
     "data": {
      "text/plain": [
       "array([0., 0., 0., 0., 0., 0., 0., 0., 0., 0., 0., 0., 0., 0., 0., 0., 0.,\n",
       "       0., 0., 0., 0., 0., 0., 0., 0., 0., 0., 0., 0., 0., 0., 0., 0., 0.,\n",
       "       0., 0., 0., 0., 0., 0., 0., 0., 0., 0., 0., 0., 0., 0., 0., 0., 0.,\n",
       "       0., 0., 0., 0., 0., 0., 0., 0., 0., 0., 0., 0., 0., 0., 0., 0., 0.,\n",
       "       0., 0., 0., 0., 0., 0., 0., 0., 0., 0., 0., 0., 0., 0., 0., 0., 0.,\n",
       "       0., 0., 0., 0., 0., 0., 0., 0., 0., 0., 0., 0., 0., 0., 0., 0., 0.,\n",
       "       0., 0., 0., 0., 0., 0., 0., 0., 0., 0., 0., 0., 0., 0., 0., 0., 0.,\n",
       "       0., 0., 0., 0., 0., 0., 0., 0., 0., 0., 0., 0., 0., 0., 0., 0., 0.,\n",
       "       0., 0., 0., 0., 0., 0., 0., 0., 0., 0., 0., 0., 0., 0., 0., 0., 0.,\n",
       "       0., 0., 0., 0., 0., 0., 0., 0., 0., 0., 0., 0., 0., 0., 0., 0., 0.,\n",
       "       0., 0., 0., 0., 0., 0., 0., 0., 0., 0., 0., 0., 0., 0., 0., 0., 0.,\n",
       "       0., 0., 0.])"
      ]
     },
     "execution_count": 147,
     "metadata": {},
     "output_type": "execute_result"
    }
   ],
   "source": [
    "# np.zeros()\n",
    "acm4=np.zeros(190)\n",
    "acm4"
   ]
  },
  {
   "cell_type": "code",
   "execution_count": 151,
   "id": "7dfc2322",
   "metadata": {},
   "outputs": [
    {
     "data": {
      "text/plain": [
       "array([8.47802504e-312, 5.68175493e-322, 0.00000000e+000, 0.00000000e+000,\n",
       "       1.05695422e-307, 1.16096346e-028, 9.82205649e+252, 1.11789342e+253,\n",
       "       3.81388254e+180, 1.96626212e-062, 1.09623615e-153, 3.18539647e-120,\n",
       "       5.97185003e+175, 2.19172373e+136, 1.09623615e-153, 2.28747304e+199,\n",
       "       3.54393007e+246, 8.25373440e-048, 9.15948202e+135, 4.45041934e-307])"
      ]
     },
     "execution_count": 151,
     "metadata": {},
     "output_type": "execute_result"
    }
   ],
   "source": [
    "# np.empty()\n",
    "acm5=np.empty(20)\n",
    "acm5"
   ]
  },
  {
   "cell_type": "code",
   "execution_count": 154,
   "id": "34a07bbf",
   "metadata": {},
   "outputs": [
    {
     "data": {
      "text/plain": [
       "array([ 8.        ,  8.28571429,  8.57142857,  8.85714286,  9.14285714,\n",
       "        9.42857143,  9.71428571, 10.        ])"
      ]
     },
     "execution_count": 154,
     "metadata": {},
     "output_type": "execute_result"
    }
   ],
   "source": [
    "# np.linspace()\n",
    "acm6=np.linspace(8,10 ,num=8 ) # np.linspace(start,end,num= value_ammounts)\n",
    "acm6"
   ]
  },
  {
   "cell_type": "code",
   "execution_count": 155,
   "id": "c4094f41",
   "metadata": {},
   "outputs": [
    {
     "data": {
      "text/plain": [
       "array([1, 3, 5, 7])"
      ]
     },
     "execution_count": 155,
     "metadata": {},
     "output_type": "execute_result"
    }
   ],
   "source": [
    "#np.arrange()\n",
    "acm7=np.arange(1,8,2) # np.arange(value[start],value[end],value[step])\n",
    "acm7"
   ]
  },
  {
   "cell_type": "code",
   "execution_count": 156,
   "id": "31c8f2a2",
   "metadata": {},
   "outputs": [
    {
     "data": {
      "text/plain": [
       "array([ 52,  36, 109, 297, 154, 163, 306,  50, 288, 214,  45, 224, 291,\n",
       "       274, 273, 294, 128, 165, 107, 329, 247, 186, 196, 289, 140, 194,\n",
       "       107, 135, 232, 201, 256, 279, 169,  52,  52, 249, 323,  46,  78,\n",
       "       260,   4, 213, 199,  57, 203,  83, 251, 220, 191, 169, 134, 258,\n",
       "         2, 228, 227,  65, 188, 174, 139,  77,  77, 168,  30,  11, 114,\n",
       "        23,  14, 332, 175, 282, 227, 252, 236, 159, 227,  20, 334, 280,\n",
       "       270, 338,   4, 224, 302,  34, 223, 143, 229,  56, 119,  98, 331,\n",
       "       134,  56, 273,  69,   8, 237, 117,  14,  86,  15,   1,  38, 229,\n",
       "        98, 163,   5, 100, 245, 107,  99, 324, 168,  63, 320, 285,  49,\n",
       "       192, 164,  44, 307, 311, 213,  52,  97,  70, 331, 164, 139, 279,\n",
       "       244, 320, 257, 193,  77, 115,  24, 236, 169, 139,  98, 186,   7,\n",
       "       262, 119, 128, 222, 133, 182,  96, 323, 277,  52, 318, 111, 108,\n",
       "       117,  70, 168, 128,  85, 194, 308,  66, 207, 112, 140, 181,  46,\n",
       "       170,  26,  35, 293, 192, 316,  89, 115, 251, 256,  11,  63, 339,\n",
       "        47, 114,  93, 202,  69, 191, 221, 275, 271, 303, 317, 286, 123,\n",
       "       184, 194, 254, 234, 212,  55, 333, 245, 287,  80,  27, 316, 112,\n",
       "         1,  82, 234, 295, 240, 213, 239, 223, 107, 115, 246, 165,   6,\n",
       "       180, 199,  68, 328, 123,  21, 290, 135,  10, 198, 184, 154, 183,\n",
       "       134, 230, 124, 231, 324, 162, 228,  79,  57, 338,  58,  25, 184,\n",
       "       326, 262, 292, 174, 186,  82,  22,  50, 299,  55, 300,  78, 131,\n",
       "       163,  50,  27, 313, 260, 119, 181, 284, 228,  83, 159, 269, 158,\n",
       "        23,  46,  64, 192,  45, 194, 216,  34,  17,  52, 291,  66, 149,\n",
       "       192, 215,   3,  69, 219,  97,  90, 118, 337, 190, 177,  86, 262,\n",
       "       228, 306,  66, 319,  55, 246, 103, 316,   6,  10,  10, 152, 234,\n",
       "       177, 318, 243,  67, 148,  23, 123, 247, 310, 231, 146, 103, 130,\n",
       "        43, 133, 126,  90, 151, 138, 227, 279, 321, 298,  94, 312,   3,\n",
       "        80, 180])"
      ]
     },
     "execution_count": 156,
     "metadata": {},
     "output_type": "execute_result"
    }
   ],
   "source": [
    "# np.random.randint()\n",
    "import random # here we importing random module\n",
    "acm8=np.random.randint(1,340,340) # (value[start],value[end],value[amount])\n",
    "acm8"
   ]
  },
  {
   "cell_type": "code",
   "execution_count": 157,
   "id": "63f40208",
   "metadata": {},
   "outputs": [
    {
     "data": {
      "text/plain": [
       "array([[[100, 100, 100, ..., 100, 100, 100],\n",
       "        [100, 100, 100, ..., 100, 100, 100],\n",
       "        [100, 100, 100, ..., 100, 100, 100],\n",
       "        ...,\n",
       "        [100, 100, 100, ..., 100, 100, 100],\n",
       "        [100, 100, 100, ..., 100, 100, 100],\n",
       "        [100, 100, 100, ..., 100, 100, 100]],\n",
       "\n",
       "       [[100, 100, 100, ..., 100, 100, 100],\n",
       "        [100, 100, 100, ..., 100, 100, 100],\n",
       "        [100, 100, 100, ..., 100, 100, 100],\n",
       "        ...,\n",
       "        [100, 100, 100, ..., 100, 100, 100],\n",
       "        [100, 100, 100, ..., 100, 100, 100],\n",
       "        [100, 100, 100, ..., 100, 100, 100]],\n",
       "\n",
       "       [[100, 100, 100, ..., 100, 100, 100],\n",
       "        [100, 100, 100, ..., 100, 100, 100],\n",
       "        [100, 100, 100, ..., 100, 100, 100],\n",
       "        ...,\n",
       "        [100, 100, 100, ..., 100, 100, 100],\n",
       "        [100, 100, 100, ..., 100, 100, 100],\n",
       "        [100, 100, 100, ..., 100, 100, 100]]])"
      ]
     },
     "execution_count": 157,
     "metadata": {},
     "output_type": "execute_result"
    }
   ],
   "source": [
    "# np.full()\n",
    "acm9=np.full((3,20,76),100)\n",
    "acm9"
   ]
  },
  {
   "cell_type": "markdown",
   "id": "c84618c6",
   "metadata": {},
   "source": [
    "# v.ravel()"
   ]
  },
  {
   "cell_type": "code",
   "execution_count": 158,
   "id": "3015e1b5",
   "metadata": {},
   "outputs": [
    {
     "data": {
      "text/plain": [
       "array([13, 24, 36, 47, 59, 55, 93, 13, 82, 91])"
      ]
     },
     "execution_count": 158,
     "metadata": {},
     "output_type": "execute_result"
    }
   ],
   "source": [
    "a=np.array([[13,24,36,47,59],[55,93,13,82,91]])\n",
    "a.ravel() # convert any dimensional array in 1d array"
   ]
  },
  {
   "cell_type": "code",
   "execution_count": 160,
   "id": "25c10e8b",
   "metadata": {},
   "outputs": [
    {
     "name": "stdout",
     "output_type": "stream",
     "text": [
      "[[0. 0. 0. 0. 0. 0. 0. 0. 0. 0. 0. 0. 0. 0. 0. 0. 0. 0. 0. 0. 0. 0. 0. 0.\n",
      "  0. 0. 0. 0. 0. 0. 0. 0. 0. 0. 0. 0. 0. 0. 0. 0. 0. 0. 0. 0. 0. 0. 0. 0.\n",
      "  0. 0. 0. 0. 0. 0. 0. 0. 0. 0. 0. 0. 0. 0. 0. 0. 0. 0. 0. 0. 0. 0. 0. 0.\n",
      "  0. 0. 0. 0. 0. 0. 0. 0. 0. 0. 0. 0. 0. 0. 0. 0. 0. 0.]\n",
      " [0. 0. 0. 0. 0. 0. 0. 0. 0. 0. 0. 0. 0. 0. 0. 0. 0. 0. 0. 0. 0. 0. 0. 0.\n",
      "  0. 0. 0. 0. 0. 0. 0. 0. 0. 0. 0. 0. 0. 0. 0. 0. 0. 0. 0. 0. 0. 0. 0. 0.\n",
      "  0. 0. 0. 0. 0. 0. 0. 0. 0. 0. 0. 0. 0. 0. 0. 0. 0. 0. 0. 0. 0. 0. 0. 0.\n",
      "  0. 0. 0. 0. 0. 0. 0. 0. 0. 0. 0. 0. 0. 0. 0. 0. 0. 0.]] 2\n",
      "------------------------------------------\n",
      "[0. 0. 0. 0. 0. 0. 0. 0. 0. 0. 0. 0. 0. 0. 0. 0. 0. 0. 0. 0. 0. 0. 0. 0.\n",
      " 0. 0. 0. 0. 0. 0. 0. 0. 0. 0. 0. 0. 0. 0. 0. 0. 0. 0. 0. 0. 0. 0. 0. 0.\n",
      " 0. 0. 0. 0. 0. 0. 0. 0. 0. 0. 0. 0. 0. 0. 0. 0. 0. 0. 0. 0. 0. 0. 0. 0.\n",
      " 0. 0. 0. 0. 0. 0. 0. 0. 0. 0. 0. 0. 0. 0. 0. 0. 0. 0. 0. 0. 0. 0. 0. 0.\n",
      " 0. 0. 0. 0. 0. 0. 0. 0. 0. 0. 0. 0. 0. 0. 0. 0. 0. 0. 0. 0. 0. 0. 0. 0.\n",
      " 0. 0. 0. 0. 0. 0. 0. 0. 0. 0. 0. 0. 0. 0. 0. 0. 0. 0. 0. 0. 0. 0. 0. 0.\n",
      " 0. 0. 0. 0. 0. 0. 0. 0. 0. 0. 0. 0. 0. 0. 0. 0. 0. 0. 0. 0. 0. 0. 0. 0.\n",
      " 0. 0. 0. 0. 0. 0. 0. 0. 0. 0. 0. 0.] 1\n"
     ]
    }
   ],
   "source": [
    "#np.zeros(), np.ones(), np.empty(),\n",
    "#np.arange(), np.linspace(), dtype()\n",
    "a_z=np.zeros(180)\n",
    "a_z_reshape=a_z.reshape(2,90)\n",
    "print(a_z_reshape,a_z_reshape.ndim)\n",
    "print('------------------------------------------')\n",
    "print(a_z,a_z.ndim)"
   ]
  },
  {
   "cell_type": "code",
   "execution_count": 161,
   "id": "5841bc8b",
   "metadata": {},
   "outputs": [
    {
     "name": "stdout",
     "output_type": "stream",
     "text": [
      "None\n",
      "[[0. 0. 0. 0. 0. 0. 0. 0. 0. 0. 0. 0. 0. 0. 0. 0. 0. 0. 0. 0. 0. 0. 0. 0.\n",
      "  0. 0. 0. 0. 0. 0. 0. 0. 0. 0. 0. 0. 0. 0. 0. 0. 0. 0. 0. 0. 0. 0. 0. 0.\n",
      "  0. 0. 0. 0. 0. 0. 0. 0. 0. 0. 0. 0. 0. 0. 0. 0. 0. 0. 0. 0. 0. 0. 0. 0.\n",
      "  0. 0. 0. 0. 0. 0. 0. 0. 0. 0. 0. 0. 0. 0. 0. 0. 0. 0. 0. 0. 0. 0. 0.]\n",
      " [0. 0. 0. 0. 0. 0. 0. 0. 0. 0. 0. 0. 0. 0. 0. 0. 0. 0. 0. 0. 0. 0. 0. 0.\n",
      "  0. 0. 0. 0. 0. 0. 0. 0. 0. 0. 0. 0. 0. 0. 0. 0. 0. 0. 0. 0. 0. 0. 0. 0.\n",
      "  0. 0. 0. 0. 0. 0. 0. 0. 0. 0. 0. 0. 0. 0. 0. 0. 0. 0. 0. 0. 0. 0. 0. 0.\n",
      "  0. 0. 0. 0. 0. 0. 0. 0. 0. 0. 0. 0. 0. 0. 0. 0. 0. 0. 0. 0. 0. 0. 0.]]\n"
     ]
    }
   ],
   "source": [
    "# changes will be in implemented variable not stored in assigned variable\n",
    "a_z=np.zeros(190)\n",
    "a_z_resize=a_z.resize(2,95)\n",
    "print(a_z_resize) # assigned variable\n",
    "print(a_z) # function implemented variable"
   ]
  },
  {
   "cell_type": "code",
   "execution_count": 163,
   "id": "af42e130",
   "metadata": {},
   "outputs": [
    {
     "data": {
      "text/plain": [
       "(array([[[0., 0., 0., 0., 0., 0., 0., 0., 0., 0., 0., 0., 0., 0., 0., 0.,\n",
       "          0., 0., 0., 0., 0., 0., 0., 0., 0.],\n",
       "         [0., 0., 0., 0., 0., 0., 0., 0., 0., 0., 0., 0., 0., 0., 0., 0.,\n",
       "          0., 0., 0., 0., 0., 0., 0., 0., 0.],\n",
       "         [0., 0., 0., 0., 0., 0., 0., 0., 0., 0., 0., 0., 0., 0., 0., 0.,\n",
       "          0., 0., 0., 0., 0., 0., 0., 0., 0.]],\n",
       " \n",
       "        [[0., 0., 0., 0., 0., 0., 0., 0., 0., 0., 0., 0., 0., 0., 0., 0.,\n",
       "          0., 0., 0., 0., 0., 0., 0., 0., 0.],\n",
       "         [0., 0., 0., 0., 0., 0., 0., 0., 0., 0., 0., 0., 0., 0., 0., 0.,\n",
       "          0., 0., 0., 0., 0., 0., 0., 0., 0.],\n",
       "         [0., 0., 0., 0., 0., 0., 0., 0., 0., 0., 0., 0., 0., 0., 0., 0.,\n",
       "          0., 0., 0., 0., 0., 0., 0., 0., 0.]]]),\n",
       " 3)"
      ]
     },
     "execution_count": 163,
     "metadata": {},
     "output_type": "execute_result"
    }
   ],
   "source": [
    "a_z=np.zeros(150).reshape(2,3,25)\n",
    "a_z,a_z.ndim"
   ]
  },
  {
   "cell_type": "code",
   "execution_count": 165,
   "id": "46de3b70",
   "metadata": {},
   "outputs": [
    {
     "data": {
      "text/plain": [
       "(array([[[[1., 1., 1., 1., 1., 1., 1., 1., 1., 1., 1., 1., 1., 1., 1.,\n",
       "           1., 1., 1., 1., 1., 1., 1., 1., 1., 1.],\n",
       "          [1., 1., 1., 1., 1., 1., 1., 1., 1., 1., 1., 1., 1., 1., 1.,\n",
       "           1., 1., 1., 1., 1., 1., 1., 1., 1., 1.],\n",
       "          [1., 1., 1., 1., 1., 1., 1., 1., 1., 1., 1., 1., 1., 1., 1.,\n",
       "           1., 1., 1., 1., 1., 1., 1., 1., 1., 1.],\n",
       "          [1., 1., 1., 1., 1., 1., 1., 1., 1., 1., 1., 1., 1., 1., 1.,\n",
       "           1., 1., 1., 1., 1., 1., 1., 1., 1., 1.],\n",
       "          [1., 1., 1., 1., 1., 1., 1., 1., 1., 1., 1., 1., 1., 1., 1.,\n",
       "           1., 1., 1., 1., 1., 1., 1., 1., 1., 1.],\n",
       "          [1., 1., 1., 1., 1., 1., 1., 1., 1., 1., 1., 1., 1., 1., 1.,\n",
       "           1., 1., 1., 1., 1., 1., 1., 1., 1., 1.],\n",
       "          [1., 1., 1., 1., 1., 1., 1., 1., 1., 1., 1., 1., 1., 1., 1.,\n",
       "           1., 1., 1., 1., 1., 1., 1., 1., 1., 1.]],\n",
       " \n",
       "         [[1., 1., 1., 1., 1., 1., 1., 1., 1., 1., 1., 1., 1., 1., 1.,\n",
       "           1., 1., 1., 1., 1., 1., 1., 1., 1., 1.],\n",
       "          [1., 1., 1., 1., 1., 1., 1., 1., 1., 1., 1., 1., 1., 1., 1.,\n",
       "           1., 1., 1., 1., 1., 1., 1., 1., 1., 1.],\n",
       "          [1., 1., 1., 1., 1., 1., 1., 1., 1., 1., 1., 1., 1., 1., 1.,\n",
       "           1., 1., 1., 1., 1., 1., 1., 1., 1., 1.],\n",
       "          [1., 1., 1., 1., 1., 1., 1., 1., 1., 1., 1., 1., 1., 1., 1.,\n",
       "           1., 1., 1., 1., 1., 1., 1., 1., 1., 1.],\n",
       "          [1., 1., 1., 1., 1., 1., 1., 1., 1., 1., 1., 1., 1., 1., 1.,\n",
       "           1., 1., 1., 1., 1., 1., 1., 1., 1., 1.],\n",
       "          [1., 1., 1., 1., 1., 1., 1., 1., 1., 1., 1., 1., 1., 1., 1.,\n",
       "           1., 1., 1., 1., 1., 1., 1., 1., 1., 1.],\n",
       "          [1., 1., 1., 1., 1., 1., 1., 1., 1., 1., 1., 1., 1., 1., 1.,\n",
       "           1., 1., 1., 1., 1., 1., 1., 1., 1., 1.]]],\n",
       " \n",
       " \n",
       "        [[[1., 1., 1., 1., 1., 1., 1., 1., 1., 1., 1., 1., 1., 1., 1.,\n",
       "           1., 1., 1., 1., 1., 1., 1., 1., 1., 1.],\n",
       "          [1., 1., 1., 1., 1., 1., 1., 1., 1., 1., 1., 1., 1., 1., 1.,\n",
       "           1., 1., 1., 1., 1., 1., 1., 1., 1., 1.],\n",
       "          [1., 1., 1., 1., 1., 1., 1., 1., 1., 1., 1., 1., 1., 1., 1.,\n",
       "           1., 1., 1., 1., 1., 1., 1., 1., 1., 1.],\n",
       "          [1., 1., 1., 1., 1., 1., 1., 1., 1., 1., 1., 1., 1., 1., 1.,\n",
       "           1., 1., 1., 1., 1., 1., 1., 1., 1., 1.],\n",
       "          [1., 1., 1., 1., 1., 1., 1., 1., 1., 1., 1., 1., 1., 1., 1.,\n",
       "           1., 1., 1., 1., 1., 1., 1., 1., 1., 1.],\n",
       "          [1., 1., 1., 1., 1., 1., 1., 1., 1., 1., 1., 1., 1., 1., 1.,\n",
       "           1., 1., 1., 1., 1., 1., 1., 1., 1., 1.],\n",
       "          [1., 1., 1., 1., 1., 1., 1., 1., 1., 1., 1., 1., 1., 1., 1.,\n",
       "           1., 1., 1., 1., 1., 1., 1., 1., 1., 1.]],\n",
       " \n",
       "         [[1., 1., 1., 1., 1., 1., 1., 1., 1., 1., 1., 1., 1., 1., 1.,\n",
       "           1., 1., 1., 1., 1., 1., 1., 1., 1., 1.],\n",
       "          [1., 1., 1., 1., 1., 1., 1., 1., 1., 1., 1., 1., 1., 1., 1.,\n",
       "           1., 1., 1., 1., 1., 1., 1., 1., 1., 1.],\n",
       "          [1., 1., 1., 1., 1., 1., 1., 1., 1., 1., 1., 1., 1., 1., 1.,\n",
       "           1., 1., 1., 1., 1., 1., 1., 1., 1., 1.],\n",
       "          [1., 1., 1., 1., 1., 1., 1., 1., 1., 1., 1., 1., 1., 1., 1.,\n",
       "           1., 1., 1., 1., 1., 1., 1., 1., 1., 1.],\n",
       "          [1., 1., 1., 1., 1., 1., 1., 1., 1., 1., 1., 1., 1., 1., 1.,\n",
       "           1., 1., 1., 1., 1., 1., 1., 1., 1., 1.],\n",
       "          [1., 1., 1., 1., 1., 1., 1., 1., 1., 1., 1., 1., 1., 1., 1.,\n",
       "           1., 1., 1., 1., 1., 1., 1., 1., 1., 1.],\n",
       "          [1., 1., 1., 1., 1., 1., 1., 1., 1., 1., 1., 1., 1., 1., 1.,\n",
       "           1., 1., 1., 1., 1., 1., 1., 1., 1., 1.]]]]),\n",
       " 4)"
      ]
     },
     "execution_count": 165,
     "metadata": {},
     "output_type": "execute_result"
    }
   ],
   "source": [
    "'''- np.array(), np.zeros(), np.ones(), np.empty(),\n",
    "\n",
    "- np.arange(), np.linspace(), np.random.randint(), np.full() dtype()'''\n",
    "a_o=np.ones(700).reshape(2,2,7,25)\n",
    "a_o,a_o.ndim"
   ]
  },
  {
   "cell_type": "code",
   "execution_count": 166,
   "id": "2198f047",
   "metadata": {},
   "outputs": [
    {
     "data": {
      "text/plain": [
       "(array([[[[8.47769730e-312, 8.47769730e-312, 8.47769731e-312,\n",
       "           8.47769731e-312, 8.47769732e-312],\n",
       "          [8.47769733e-312, 8.47769734e-312, 8.47823346e-312,\n",
       "           8.47823343e-312, 8.47823311e-312],\n",
       "          [8.47823311e-312, 8.47823311e-312, 8.47823310e-312,\n",
       "           8.47823316e-312, 8.47823310e-312],\n",
       "          [8.47823317e-312, 8.47823333e-312, 8.47823333e-312,\n",
       "           8.47823330e-312, 8.47823326e-312],\n",
       "          [8.47823329e-312, 8.47823331e-312, 8.47823325e-312,\n",
       "           8.47823327e-312, 8.47823327e-312]],\n",
       " \n",
       "         [[8.47823326e-312, 8.47820705e-312, 8.47820706e-312,\n",
       "           8.47820703e-312, 8.47820705e-312],\n",
       "          [8.47820703e-312, 8.47820707e-312, 8.47820709e-312,\n",
       "           8.47820709e-312, 8.47820709e-312],\n",
       "          [8.47820711e-312, 8.47820710e-312, 8.47820710e-312,\n",
       "           8.47820708e-312, 8.47820703e-312],\n",
       "          [8.47820708e-312, 8.47820707e-312, 8.47820703e-312,\n",
       "           8.47820704e-312, 8.47820706e-312],\n",
       "          [8.47820706e-312, 8.47820705e-312, 8.47820707e-312,\n",
       "           8.47820705e-312, 8.47820703e-312]],\n",
       " \n",
       "         [[8.47820711e-312, 8.47820708e-312, 8.47820708e-312,\n",
       "           8.47820709e-312, 8.47820710e-312],\n",
       "          [8.47820708e-312, 8.47820710e-312, 8.47820709e-312,\n",
       "           8.47820708e-312, 8.47820707e-312],\n",
       "          [8.47820706e-312, 8.47820709e-312, 8.47820709e-312,\n",
       "           8.47820708e-312, 8.47820708e-312],\n",
       "          [8.47820706e-312, 8.47820706e-312, 8.47820763e-312,\n",
       "           8.47820760e-312, 8.47820760e-312],\n",
       "          [8.47820761e-312, 8.47820762e-312, 8.47820761e-312,\n",
       "           8.47820760e-312, 8.47820759e-312]],\n",
       " \n",
       "         [[8.47820761e-312, 8.47820761e-312, 8.47820760e-312,\n",
       "           8.47820761e-312, 8.47820763e-312],\n",
       "          [8.47820760e-312, 8.47820761e-312, 8.47820763e-312,\n",
       "           8.47820763e-312, 8.47820763e-312],\n",
       "          [8.47820763e-312, 8.47820767e-312, 8.47820761e-312,\n",
       "           8.47820767e-312, 8.47820764e-312],\n",
       "          [8.47820762e-312, 8.47820763e-312, 8.47820761e-312,\n",
       "           8.47820761e-312, 8.47820760e-312],\n",
       "          [8.47820761e-312, 8.47820761e-312, 8.47820761e-312,\n",
       "           8.47820761e-312, 8.47820760e-312]],\n",
       " \n",
       "         [[8.47820760e-312, 8.47820760e-312, 8.47820760e-312,\n",
       "           8.47795740e-312, 8.47795740e-312],\n",
       "          [8.47795744e-312, 8.47795739e-312, 8.47795742e-312,\n",
       "           8.47795742e-312, 8.47795744e-312],\n",
       "          [8.47795740e-312, 8.47795740e-312, 8.47795740e-312,\n",
       "           8.47795740e-312, 8.47795742e-312],\n",
       "          [8.47795742e-312, 8.47795739e-312, 8.47795739e-312,\n",
       "           8.47795739e-312, 8.47795740e-312],\n",
       "          [8.47795746e-312, 8.47795744e-312, 8.47795746e-312,\n",
       "           8.47795740e-312, 8.47795741e-312]],\n",
       " \n",
       "         [[8.47795741e-312, 8.47795746e-312, 8.47795746e-312,\n",
       "           8.47795746e-312, 8.47795745e-312],\n",
       "          [8.47795745e-312, 8.47795745e-312, 8.47795744e-312,\n",
       "           8.47795744e-312, 8.47795739e-312],\n",
       "          [8.47795744e-312, 8.47795744e-312, 8.47795742e-312,\n",
       "           8.47795742e-312, 8.47795743e-312],\n",
       "          [8.47795741e-312, 8.47795741e-312, 8.47795741e-312,\n",
       "           8.47795741e-312, 8.47795741e-312],\n",
       "          [8.47795741e-312, 8.47795741e-312, 8.47795741e-312,\n",
       "           8.47795741e-312, 8.47795741e-312]],\n",
       " \n",
       "         [[8.47795741e-312, 8.47795741e-312, 8.47795740e-312,\n",
       "           8.47795740e-312, 8.47795746e-312],\n",
       "          [8.47795740e-312, 8.47795740e-312, 8.47795746e-312,\n",
       "           8.47795739e-312, 8.47795739e-312],\n",
       "          [8.47795745e-312, 8.47795744e-312, 8.47795743e-312,\n",
       "           8.47795743e-312, 8.47795743e-312],\n",
       "          [8.47795743e-312, 8.47795743e-312, 8.47823375e-312,\n",
       "           8.47823377e-312, 8.47823377e-312],\n",
       "          [8.47823375e-312, 8.47823377e-312, 8.47823377e-312,\n",
       "           8.47823377e-312, 8.47823377e-312]],\n",
       " \n",
       "         [[8.47823377e-312, 8.47823377e-312, 8.47823377e-312,\n",
       "           8.47823377e-312, 8.47823377e-312],\n",
       "          [8.47823376e-312, 8.47823377e-312, 8.47823376e-312,\n",
       "           8.47823375e-312, 8.47823375e-312],\n",
       "          [8.47823375e-312, 8.47823377e-312, 8.47823377e-312,\n",
       "           8.47823377e-312, 8.47823377e-312],\n",
       "          [8.47823377e-312, 8.47823377e-312, 8.47823377e-312,\n",
       "           8.47823377e-312, 8.47823377e-312],\n",
       "          [8.47823377e-312, 8.47823376e-312, 8.47823376e-312,\n",
       "           8.47823375e-312, 8.47823375e-312]]],\n",
       " \n",
       " \n",
       "        [[[8.47823375e-312, 8.47823375e-312, 8.47823377e-312,\n",
       "           8.47823377e-312, 8.47823377e-312],\n",
       "          [8.47823377e-312, 8.47823377e-312, 8.47823377e-312,\n",
       "           8.47823378e-312, 8.47823378e-312],\n",
       "          [8.47823378e-312, 8.47823378e-312, 8.47823378e-312,\n",
       "           8.47823378e-312, 8.47823378e-312],\n",
       "          [8.47823378e-312, 8.47823378e-312, 8.47823378e-312,\n",
       "           8.47823378e-312, 8.47823378e-312],\n",
       "          [8.47823378e-312, 8.47823378e-312, 8.47823378e-312,\n",
       "           8.47823378e-312, 8.47823378e-312]],\n",
       " \n",
       "         [[8.47823378e-312, 8.47823378e-312, 8.47823378e-312,\n",
       "           8.47823378e-312, 8.47823378e-312],\n",
       "          [8.47823378e-312, 8.47823378e-312, 8.47823378e-312,\n",
       "           8.47823378e-312, 8.47823378e-312],\n",
       "          [8.47823378e-312, 8.47823378e-312, 8.47823378e-312,\n",
       "           8.47823378e-312, 8.47823378e-312],\n",
       "          [8.47823378e-312, 8.47823378e-312, 8.47823378e-312,\n",
       "           8.47823378e-312, 8.47823378e-312],\n",
       "          [8.47823378e-312, 8.47823378e-312, 8.47823378e-312,\n",
       "           8.47823378e-312, 8.47823378e-312]],\n",
       " \n",
       "         [[8.47823378e-312, 8.47823378e-312, 8.47823378e-312,\n",
       "           8.47823378e-312, 8.47823378e-312],\n",
       "          [8.47823378e-312, 8.47823378e-312, 8.47823378e-312,\n",
       "           8.47823378e-312, 8.47823378e-312],\n",
       "          [8.47823378e-312, 8.47823378e-312, 8.47823378e-312,\n",
       "           8.47823378e-312, 8.47823378e-312],\n",
       "          [8.47823378e-312, 8.47823378e-312, 8.47823378e-312,\n",
       "           8.47823378e-312, 8.47823378e-312],\n",
       "          [8.47823378e-312, 8.47823379e-312, 8.47823379e-312,\n",
       "           8.47823379e-312, 8.47823379e-312]],\n",
       " \n",
       "         [[8.47823379e-312, 8.47823379e-312, 8.47823379e-312,\n",
       "           8.47823379e-312, 8.47823379e-312],\n",
       "          [8.47823379e-312, 8.47823379e-312, 8.47823379e-312,\n",
       "           8.47823379e-312, 8.47823379e-312],\n",
       "          [8.47823379e-312, 8.47823379e-312, 8.47823379e-312,\n",
       "           8.47823379e-312, 8.47823379e-312],\n",
       "          [8.47823379e-312, 8.47823379e-312, 8.47823379e-312,\n",
       "           8.47823379e-312, 8.47823379e-312],\n",
       "          [8.47823379e-312, 8.47823379e-312, 8.47823379e-312,\n",
       "           8.47823379e-312, 8.47823379e-312]],\n",
       " \n",
       "         [[8.47823379e-312, 8.47823379e-312, 8.47823379e-312,\n",
       "           8.47823379e-312, 8.47823379e-312],\n",
       "          [8.47823379e-312, 8.47823379e-312, 8.47823379e-312,\n",
       "           8.47823379e-312, 8.47823379e-312],\n",
       "          [8.47823379e-312, 8.47823379e-312, 8.47823379e-312,\n",
       "           8.47823379e-312, 8.47823379e-312],\n",
       "          [8.47823379e-312, 8.47823379e-312, 8.47823379e-312,\n",
       "           8.47823379e-312, 8.47823379e-312],\n",
       "          [8.47823379e-312, 8.47823379e-312, 8.47823379e-312,\n",
       "           8.47823379e-312, 8.47823379e-312]],\n",
       " \n",
       "         [[8.47823379e-312, 8.47823379e-312, 8.47823379e-312,\n",
       "           8.47823379e-312, 8.47823379e-312],\n",
       "          [8.47823379e-312, 8.47823379e-312, 8.47823379e-312,\n",
       "           8.47823379e-312, 8.47823380e-312],\n",
       "          [8.47823380e-312, 8.47823380e-312, 8.47823380e-312,\n",
       "           8.47823380e-312, 8.47823380e-312],\n",
       "          [8.47823380e-312, 8.47823380e-312, 8.47823380e-312,\n",
       "           8.47823380e-312, 8.47823380e-312],\n",
       "          [8.47823380e-312, 8.47823380e-312, 8.47823380e-312,\n",
       "           8.47823380e-312, 8.47823380e-312]],\n",
       " \n",
       "         [[8.47823380e-312, 8.47823380e-312, 8.47823380e-312,\n",
       "           8.47823380e-312, 8.47823380e-312],\n",
       "          [8.47823380e-312, 8.47823380e-312, 8.47823380e-312,\n",
       "           8.47823380e-312, 8.47823380e-312],\n",
       "          [8.47823380e-312, 8.47823380e-312, 8.47823380e-312,\n",
       "           8.47823380e-312, 8.47823380e-312],\n",
       "          [8.47823380e-312, 8.47823380e-312, 8.47823380e-312,\n",
       "           8.47823380e-312, 8.47823380e-312],\n",
       "          [8.47823380e-312, 8.47823380e-312, 8.47823380e-312,\n",
       "           8.47823380e-312, 8.47823380e-312]],\n",
       " \n",
       "         [[8.47823380e-312, 8.47823380e-312, 8.47823380e-312,\n",
       "           8.47823380e-312, 8.47823380e-312],\n",
       "          [8.47823380e-312, 8.47823380e-312, 8.47823380e-312,\n",
       "           8.47823380e-312, 8.47823380e-312],\n",
       "          [8.47823380e-312, 8.47823380e-312, 8.47823380e-312,\n",
       "           8.47823380e-312, 8.47823380e-312],\n",
       "          [8.47823380e-312, 8.47823380e-312, 8.47823380e-312,\n",
       "           8.47823380e-312, 8.47823380e-312],\n",
       "          [8.47823380e-312, 8.47823380e-312, 8.47823380e-312,\n",
       "           8.47823381e-312, 8.47823381e-312]]]]),\n",
       " 4)"
      ]
     },
     "execution_count": 166,
     "metadata": {},
     "output_type": "execute_result"
    }
   ],
   "source": [
    "'''- np.array(), np.zeros(), np.ones(), np.empty(),\n",
    "\n",
    "- np.arange(), np.linspace(), np.random.randint(), np.full() dtype()'''\n",
    "a_o=np.empty(400).reshape(2,8,5,5)\n",
    "a_o,a_o.ndim"
   ]
  },
  {
   "cell_type": "code",
   "execution_count": 167,
   "id": "d2828503",
   "metadata": {},
   "outputs": [
    {
     "data": {
      "text/plain": [
       "array([[1., 1., 1.],\n",
       "       [1., 1., 1.]])"
      ]
     },
     "execution_count": 167,
     "metadata": {},
     "output_type": "execute_result"
    }
   ],
   "source": [
    "np.empty(shape = [2,3], dtype = float)"
   ]
  },
  {
   "cell_type": "markdown",
   "id": "4b384aa3",
   "metadata": {},
   "source": [
    "# numpy data types"
   ]
  },
  {
   "cell_type": "markdown",
   "id": "2fcfcb29",
   "metadata": {},
   "source": [
    "Casting"
   ]
  },
  {
   "cell_type": "code",
   "execution_count": 168,
   "id": "936095f1",
   "metadata": {},
   "outputs": [
    {
     "data": {
      "text/plain": [
       "(array(['patna', 'sasaram', 'nalanda'], dtype='<U7'), dtype('<U7'))"
      ]
     },
     "execution_count": 168,
     "metadata": {},
     "output_type": "execute_result"
    }
   ],
   "source": [
    "s=np.array(['patna','sasaram','nalanda'])\n",
    "s,s.dtype"
   ]
  },
  {
   "cell_type": "code",
   "execution_count": 172,
   "id": "5df97f7e",
   "metadata": {},
   "outputs": [
    {
     "name": "stdout",
     "output_type": "stream",
     "text": [
      "[b'121' b'324' b'437' b'864']\n",
      "|S3\n"
     ]
    }
   ],
   "source": [
    "# creating data type with defined data type\n",
    "n=np.array([121,324,437,864],dtype='S')\n",
    "print(n)\n",
    "print(n.dtype)"
   ]
  },
  {
   "cell_type": "code",
   "execution_count": 174,
   "id": "43783ec1",
   "metadata": {},
   "outputs": [
    {
     "data": {
      "text/plain": [
       "array([12, 50, 63, 54, 36, 53, 73], dtype=int32)"
      ]
     },
     "execution_count": 174,
     "metadata": {},
     "output_type": "execute_result"
    }
   ],
   "source": [
    "# for i, u, f, S, U we can define size as well\n",
    "a=np.array([12,50,63,54,36,53,73],dtype='i')\n",
    "a"
   ]
  },
  {
   "cell_type": "code",
   "execution_count": 175,
   "id": "152bd697",
   "metadata": {},
   "outputs": [
    {
     "data": {
      "text/plain": [
       "array([1, 1], dtype=int64)"
      ]
     },
     "execution_count": 175,
     "metadata": {},
     "output_type": "execute_result"
    }
   ],
   "source": [
    "# sdt = specifying data type\n",
    "sdt=np.ones(2,dtype=np.int64)\n",
    "sdt"
   ]
  },
  {
   "cell_type": "code",
   "execution_count": 177,
   "id": "605d12eb",
   "metadata": {},
   "outputs": [
    {
     "data": {
      "text/plain": [
       "array([  30,   60,   90,  120, -106,  -76,  -46,  -16,   14,   44,   74,\n",
       "        104, -122,  -92,  -62,  -32,   -2,   28,   58,   88,  118, -108,\n",
       "        -78,  -48,  -18,   12,   42,   72,  102], dtype=int8)"
      ]
     },
     "execution_count": 177,
     "metadata": {},
     "output_type": "execute_result"
    }
   ],
   "source": [
    "sdt1=np.arange(30,900,30,dtype=np.int8)\n",
    "sdt1"
   ]
  },
  {
   "cell_type": "code",
   "execution_count": 179,
   "id": "5178a06f",
   "metadata": {},
   "outputs": [
    {
     "name": "stdout",
     "output_type": "stream",
     "text": [
      "[8 5 6 0]\n",
      "[8 5 6 0]\n",
      "[ True  True  True False]\n"
     ]
    }
   ],
   "source": [
    "# converting data type on existing arrays - casting\n",
    "# astype()\n",
    "# astype()\n",
    "a=np.array([8.1,5.1,6.2,0])\n",
    "b=a.astype('i')\n",
    "c=a.astype(int)\n",
    "d=a.astype(bool)\n",
    "print(b)\n",
    "print(c)\n",
    "print(d)"
   ]
  },
  {
   "cell_type": "markdown",
   "id": "b962139e",
   "metadata": {},
   "source": [
    "# Indexing & Slicing - in 1D,2D,3D, ..nD Array"
   ]
  },
  {
   "cell_type": "code",
   "execution_count": 180,
   "id": "22e96e2d",
   "metadata": {},
   "outputs": [
    {
     "name": "stdout",
     "output_type": "stream",
     "text": [
      "[42 52 65 75 76 45 22 67 95 95 86 85]\n",
      "75\n",
      "45\n"
     ]
    }
   ],
   "source": [
    "# 1D Indexing & slicing\n",
    "a=np.array([42,52,65,75,76,45,22,67,95,95,86,85])\n",
    "print(a)\n",
    "print(a[3])\n",
    "print(a[5])"
   ]
  },
  {
   "cell_type": "code",
   "execution_count": 182,
   "id": "d1da737a",
   "metadata": {},
   "outputs": [
    {
     "name": "stdout",
     "output_type": "stream",
     "text": [
      "[42 52 65 75 76 45 22 67 95 95 86 85]\n",
      "[42 76 95]\n",
      "[42 22]\n"
     ]
    }
   ],
   "source": [
    "# 1D slicing\n",
    "print(a)\n",
    "print(a[0:12:4])\n",
    "print(a[0:14:6])"
   ]
  },
  {
   "cell_type": "code",
   "execution_count": 183,
   "id": "5f63d346",
   "metadata": {},
   "outputs": [
    {
     "data": {
      "text/plain": [
       "array([[42, 52, 65, 75, 76, 45, 22, 67, 95, 95, 86, 85],\n",
       "       [42, 52, 65, 75, 76, 45, 22, 67, 95, 95, 86, 85]])"
      ]
     },
     "execution_count": 183,
     "metadata": {},
     "output_type": "execute_result"
    }
   ],
   "source": [
    "# 2d array\n",
    "a=np.array([[42,52,65,75,76,45,22,67,95,95,86,85],[42,52,65,75,76,45,22,67,95,95,86,85]])\n",
    "a"
   ]
  },
  {
   "cell_type": "code",
   "execution_count": 184,
   "id": "054b75cd",
   "metadata": {},
   "outputs": [
    {
     "data": {
      "text/plain": [
       "((2, 12), array([52, 65, 86, 95]))"
      ]
     },
     "execution_count": 184,
     "metadata": {},
     "output_type": "execute_result"
    }
   ],
   "source": [
    "a.shape,a[[0,0,0,-1],[1,2,-2,-3]]"
   ]
  },
  {
   "cell_type": "code",
   "execution_count": 185,
   "id": "22f9a00c",
   "metadata": {},
   "outputs": [
    {
     "data": {
      "text/plain": [
       "((2, 2, 4),\n",
       " 3,\n",
       " array([[[ 1,  3,  2,  4],\n",
       "         [ 4,  2,  4, 67]],\n",
       " \n",
       "        [[ 1,  3,  2,  4],\n",
       "         [ 4,  2,  4, 67]]]))"
      ]
     },
     "execution_count": 185,
     "metadata": {},
     "output_type": "execute_result"
    }
   ],
   "source": [
    "# 3d array\n",
    "a=np.array([[[1,3,2,4],[4,2,4,67]],[[1,3,2,4],[4,2,4,67]]])\n",
    "a.shape,a.ndim,a,"
   ]
  },
  {
   "cell_type": "code",
   "execution_count": 186,
   "id": "790880b4",
   "metadata": {},
   "outputs": [
    {
     "data": {
      "text/plain": [
       "array([4, 3, 4])"
      ]
     },
     "execution_count": 186,
     "metadata": {},
     "output_type": "execute_result"
    }
   ],
   "source": [
    "# advance indexing in 3d\n",
    "a[[1],[1,0,0],[0,1,3]]"
   ]
  },
  {
   "cell_type": "code",
   "execution_count": 187,
   "id": "c89cde59",
   "metadata": {},
   "outputs": [
    {
     "data": {
      "text/plain": [
       "(array([[[ 1,  3,  2,  4],\n",
       "         [ 4,  2,  4, 67]],\n",
       " \n",
       "        [[ 1,  3,  2,  4],\n",
       "         [ 4,  2,  4, 67]]]),\n",
       " array([[1, 3, 2],\n",
       "        [4, 2, 4]]))"
      ]
     },
     "execution_count": 187,
     "metadata": {},
     "output_type": "execute_result"
    }
   ],
   "source": [
    "# advance slicing in 3d\n",
    "a,a[1][::,:3]"
   ]
  },
  {
   "cell_type": "code",
   "execution_count": 188,
   "id": "3cece1ff",
   "metadata": {},
   "outputs": [
    {
     "data": {
      "text/plain": [
       "array([[[[147, 788, 799, 279,   3],\n",
       "         [702, 556, 640, 602, 452],\n",
       "         [414, 789, 772, 119, 289],\n",
       "         [939, 184, 639, 118, 556],\n",
       "         [ 89, 864,  79, 320, 843]],\n",
       "\n",
       "        [[210, 654, 126,  67,  86],\n",
       "         [ 99, 621, 877, 836, 991],\n",
       "         [686, 551, 926, 378, 925],\n",
       "         [835, 385, 868, 816, 858],\n",
       "         [265, 978,  20, 867, 529]]],\n",
       "\n",
       "\n",
       "       [[[578, 451, 846, 997, 349],\n",
       "         [731, 245, 730, 420, 261],\n",
       "         [259, 552, 151, 835, 780],\n",
       "         [ 10, 298, 683, 173, 980],\n",
       "         [737, 694, 301, 995, 735]],\n",
       "\n",
       "        [[452, 397, 274, 195, 997],\n",
       "         [569, 623, 707, 565,  66],\n",
       "         [240, 275,  65, 846, 364],\n",
       "         [773, 848, 642, 618, 739],\n",
       "         [191, 367, 732,  21,  76]]]])"
      ]
     },
     "execution_count": 188,
     "metadata": {},
     "output_type": "execute_result"
    }
   ],
   "source": [
    "import random\n",
    "a=np.random.randint(0,1000,100).reshape(2,2,5,5) # start,stop,amount\n",
    "a"
   ]
  },
  {
   "cell_type": "code",
   "execution_count": 189,
   "id": "870e8d46",
   "metadata": {},
   "outputs": [
    {
     "data": {
      "text/plain": [
       "array([846])"
      ]
     },
     "execution_count": 189,
     "metadata": {},
     "output_type": "execute_result"
    }
   ],
   "source": [
    "a[[1],[1],[2],[3]]"
   ]
  },
  {
   "cell_type": "code",
   "execution_count": 190,
   "id": "dde6fbf4",
   "metadata": {},
   "outputs": [
    {
     "data": {
      "text/plain": [
       "array([926,  99, 654])"
      ]
     },
     "execution_count": 190,
     "metadata": {},
     "output_type": "execute_result"
    }
   ],
   "source": [
    "a[[0],[1],[2,1,0],[2,0,1]]"
   ]
  },
  {
   "cell_type": "markdown",
   "id": "a1db59b9",
   "metadata": {},
   "source": [
    "# Extract Items"
   ]
  },
  {
   "cell_type": "code",
   "execution_count": 191,
   "id": "c97282f0",
   "metadata": {},
   "outputs": [
    {
     "data": {
      "text/plain": [
       "(array([], dtype=int32), numpy.ndarray)"
      ]
     },
     "execution_count": 191,
     "metadata": {},
     "output_type": "execute_result"
    }
   ],
   "source": [
    "s_b=b[b>500]\n",
    "s_b, type(s_b)"
   ]
  },
  {
   "cell_type": "code",
   "execution_count": 192,
   "id": "3065997e",
   "metadata": {},
   "outputs": [
    {
     "data": {
      "text/plain": [
       "(array([788, 702, 556, 640, 602, 452, 414, 772, 184, 118, 556, 864, 320,\n",
       "        210, 654, 126,  86, 836, 686, 926, 378, 868, 816, 858, 978,  20,\n",
       "        578, 846, 730, 420, 552, 780,  10, 298, 980, 694, 452, 274,  66,\n",
       "        240, 846, 364, 848, 642, 618, 732,  76]),\n",
       " array([[[[147, 788, 799, 279,   3],\n",
       "          [702, 556, 640, 602, 452],\n",
       "          [414, 789, 772, 119, 289],\n",
       "          [939, 184, 639, 118, 556],\n",
       "          [ 89, 864,  79, 320, 843]],\n",
       " \n",
       "         [[210, 654, 126,  67,  86],\n",
       "          [ 99, 621, 877, 836, 991],\n",
       "          [686, 551, 926, 378, 925],\n",
       "          [835, 385, 868, 816, 858],\n",
       "          [265, 978,  20, 867, 529]]],\n",
       " \n",
       " \n",
       "        [[[578, 451, 846, 997, 349],\n",
       "          [731, 245, 730, 420, 261],\n",
       "          [259, 552, 151, 835, 780],\n",
       "          [ 10, 298, 683, 173, 980],\n",
       "          [737, 694, 301, 995, 735]],\n",
       " \n",
       "         [[452, 397, 274, 195, 997],\n",
       "          [569, 623, 707, 565,  66],\n",
       "          [240, 275,  65, 846, 364],\n",
       "          [773, 848, 642, 618, 739],\n",
       "          [191, 367, 732,  21,  76]]]]))"
      ]
     },
     "execution_count": 192,
     "metadata": {},
     "output_type": "execute_result"
    }
   ],
   "source": [
    "s_c=a[a%2==0]\n",
    "s_c,a"
   ]
  },
  {
   "cell_type": "markdown",
   "id": "f69506c5",
   "metadata": {},
   "source": [
    "# Sorting, Adding elements "
   ]
  },
  {
   "cell_type": "code",
   "execution_count": 193,
   "id": "e017831b",
   "metadata": {},
   "outputs": [
    {
     "data": {
      "text/plain": [
       "array([[22, 11, 10,  9, 33,  3, 20],\n",
       "       [12, 31, 43, 22, 55, 15, 13]])"
      ]
     },
     "execution_count": 193,
     "metadata": {},
     "output_type": "execute_result"
    }
   ],
   "source": [
    "# create array\n",
    "a_sort=np.array([[22,11,10,9,33,3,20],[12,31,43,22,55,15,13]])\n",
    "a_sort"
   ]
  },
  {
   "cell_type": "code",
   "execution_count": 194,
   "id": "92265d61",
   "metadata": {},
   "outputs": [
    {
     "data": {
      "text/plain": [
       "array([[ 3,  9, 10, 11, 20, 22, 33],\n",
       "       [12, 13, 15, 22, 31, 43, 55]])"
      ]
     },
     "execution_count": 194,
     "metadata": {},
     "output_type": "execute_result"
    }
   ],
   "source": [
    "# sort() - assending orders\n",
    "a_sort.sort()\n",
    "a_sort"
   ]
  },
  {
   "cell_type": "code",
   "execution_count": 195,
   "id": "a2b18e67",
   "metadata": {},
   "outputs": [
    {
     "data": {
      "text/plain": [
       "array([[12, 13, 15, 22, 31, 43, 55],\n",
       "       [ 3,  9, 10, 11, 20, 22, 33]])"
      ]
     },
     "execution_count": 195,
     "metadata": {},
     "output_type": "execute_result"
    }
   ],
   "source": [
    "a_sort=a_sort[::-1]\n",
    "a_sort"
   ]
  },
  {
   "cell_type": "code",
   "execution_count": 196,
   "id": "f47d96a4",
   "metadata": {},
   "outputs": [
    {
     "name": "stdout",
     "output_type": "stream",
     "text": [
      "[[[22 12  2  5 66 44 87 54]\n",
      "  [22 12  2  5 66 44 87 54]]\n",
      "\n",
      " [[22 12  2  5 66 44 87 54]\n",
      "  [22 12  2  5 66 44 87 54]]]\n"
     ]
    },
    {
     "data": {
      "text/plain": [
       "array([[[ 2,  5, 12, 22, 44, 54, 66, 87],\n",
       "        [ 2,  5, 12, 22, 44, 54, 66, 87]],\n",
       "\n",
       "       [[ 2,  5, 12, 22, 44, 54, 66, 87],\n",
       "        [ 2,  5, 12, 22, 44, 54, 66, 87]]])"
      ]
     },
     "execution_count": 196,
     "metadata": {},
     "output_type": "execute_result"
    }
   ],
   "source": [
    "array=np.array([[[22,12,2,5,66,44,87,54],[22,12,2,5,66,44,87,54]],\n",
    "[[22,12,2,5,66,44,87,54],[22,12,2,5,66,44,87,54]]])\n",
    "print(array)\n",
    "# quickly sort the numbers in assending order with:\n",
    "np.sort(array)"
   ]
  },
  {
   "cell_type": "code",
   "execution_count": 197,
   "id": "a2ac7301",
   "metadata": {},
   "outputs": [
    {
     "data": {
      "text/plain": [
       "(array([[[[147, 788, 799, 279,   3],\n",
       "          [702, 556, 640, 602, 452],\n",
       "          [414, 789, 772, 119, 289],\n",
       "          [939, 184, 639, 118, 556],\n",
       "          [ 89, 864,  79, 320, 843]],\n",
       " \n",
       "         [[210, 654, 126,  67,  86],\n",
       "          [ 99, 621, 877, 836, 991],\n",
       "          [686, 551, 926, 378, 925],\n",
       "          [835, 385, 868, 816, 858],\n",
       "          [265, 978,  20, 867, 529]]],\n",
       " \n",
       " \n",
       "        [[[578, 451, 846, 997, 349],\n",
       "          [731, 245, 730, 420, 261],\n",
       "          [259, 552, 151, 835, 780],\n",
       "          [ 10, 298, 683, 173, 980],\n",
       "          [737, 694, 301, 995, 735]],\n",
       " \n",
       "         [[452, 397, 274, 195, 997],\n",
       "          [569, 623, 707, 565,  66],\n",
       "          [240, 275,  65, 846, 364],\n",
       "          [773, 848, 642, 618, 739],\n",
       "          [191, 367, 732,  21,  76]]]]),\n",
       " array([[[[4, 0, 3, 1, 2],\n",
       "          [4, 1, 3, 2, 0],\n",
       "          [3, 4, 0, 2, 1],\n",
       "          [3, 1, 4, 2, 0],\n",
       "          [2, 0, 3, 4, 1]],\n",
       " \n",
       "         [[3, 4, 2, 0, 1],\n",
       "          [0, 1, 3, 2, 4],\n",
       "          [3, 1, 0, 4, 2],\n",
       "          [1, 3, 0, 4, 2],\n",
       "          [2, 0, 4, 3, 1]]],\n",
       " \n",
       " \n",
       "        [[[4, 1, 0, 2, 3],\n",
       "          [1, 4, 3, 2, 0],\n",
       "          [2, 0, 1, 4, 3],\n",
       "          [0, 3, 1, 2, 4],\n",
       "          [2, 1, 4, 0, 3]],\n",
       " \n",
       "         [[3, 2, 1, 0, 4],\n",
       "          [4, 3, 0, 1, 2],\n",
       "          [2, 0, 1, 4, 3],\n",
       "          [3, 2, 4, 0, 1],\n",
       "          [3, 4, 0, 1, 2]]]], dtype=int64))"
      ]
     },
     "execution_count": 197,
     "metadata": {},
     "output_type": "execute_result"
    }
   ],
   "source": [
    "a,a.argsort()"
   ]
  },
  {
   "cell_type": "code",
   "execution_count": 201,
   "id": "9104ec73",
   "metadata": {},
   "outputs": [
    {
     "data": {
      "text/plain": [
       "((1, 10),\n",
       " array([[ 1,  2,  3,  2,  1, 65,  4,  3,  2,  3]]),\n",
       " array([0, 4, 1, 3, 8, 2, 7, 9, 6, 5], dtype=int64),\n",
       " array([[0, 4, 1, 3, 8, 2, 7, 9, 6, 5]], dtype=int64))"
      ]
     },
     "execution_count": 201,
     "metadata": {},
     "output_type": "execute_result"
    }
   ],
   "source": [
    "#a=np.array([[[1,2,3,2,1],[65,4,3,2,3],[1,2,3,2,1],[65,4,3,2,3]],\n",
    "# [[1,2,98,2,90],[65,4,78,2,3],[1,2,3,2,1],[65,43,3,76,3]]])\n",
    "a=np.array([[1,2,3,2,1,65,4,3,2,3]])\n",
    "a.shape,a,np.lexsort(a),a.argsort()"
   ]
  },
  {
   "cell_type": "code",
   "execution_count": 202,
   "id": "4b18e424",
   "metadata": {},
   "outputs": [
    {
     "data": {
      "text/plain": [
       "5"
      ]
     },
     "execution_count": 202,
     "metadata": {},
     "output_type": "execute_result"
    }
   ],
   "source": [
    "a.argmax()"
   ]
  },
  {
   "cell_type": "code",
   "execution_count": 203,
   "id": "ff5413bb",
   "metadata": {},
   "outputs": [
    {
     "data": {
      "text/plain": [
       "0"
      ]
     },
     "execution_count": 203,
     "metadata": {},
     "output_type": "execute_result"
    }
   ],
   "source": [
    "a.argmin()"
   ]
  },
  {
   "cell_type": "code",
   "execution_count": 204,
   "id": "71f5f753",
   "metadata": {},
   "outputs": [
    {
     "data": {
      "text/plain": [
       "(65, 1)"
      ]
     },
     "execution_count": 204,
     "metadata": {},
     "output_type": "execute_result"
    }
   ],
   "source": [
    "a[0][5],a[0][0]"
   ]
  },
  {
   "cell_type": "markdown",
   "id": "9bbddaa3",
   "metadata": {},
   "source": [
    "# Operations on Array/Matrix"
   ]
  },
  {
   "cell_type": "markdown",
   "id": "b6e06d66",
   "metadata": {},
   "source": [
    "Array operations"
   ]
  },
  {
   "cell_type": "code",
   "execution_count": 205,
   "id": "560b8a31",
   "metadata": {},
   "outputs": [
    {
     "data": {
      "text/plain": [
       "array([[12, 13,  4],\n",
       "       [15, 16,  1],\n",
       "       [18, 19,  2],\n",
       "       [21,  2, 24]])"
      ]
     },
     "execution_count": 205,
     "metadata": {},
     "output_type": "execute_result"
    }
   ],
   "source": [
    "r1 =[[12,13,4],[15,16,1],[18,19,2],[21,2,24]]\n",
    "a1 = np.asarray(r1)\n",
    "a1"
   ]
  },
  {
   "cell_type": "code",
   "execution_count": 206,
   "id": "26907c22",
   "metadata": {},
   "outputs": [
    {
     "data": {
      "text/plain": [
       "array([[32, 33, 24],\n",
       "       [35, 36, 21],\n",
       "       [38, 39, 22],\n",
       "       [41, 22, 44]])"
      ]
     },
     "execution_count": 206,
     "metadata": {},
     "output_type": "execute_result"
    }
   ],
   "source": [
    "a1+20"
   ]
  },
  {
   "cell_type": "code",
   "execution_count": 207,
   "id": "0712c873",
   "metadata": {},
   "outputs": [
    {
     "data": {
      "text/plain": [
       "array([[12, 13,  4],\n",
       "       [15, 16,  1],\n",
       "       [18, 19,  2],\n",
       "       [21,  2, 24]])"
      ]
     },
     "execution_count": 207,
     "metadata": {},
     "output_type": "execute_result"
    }
   ],
   "source": [
    "a1"
   ]
  },
  {
   "cell_type": "code",
   "execution_count": 208,
   "id": "5028322d",
   "metadata": {},
   "outputs": [
    {
     "name": "stdout",
     "output_type": "stream",
     "text": [
      "[[12 13  4]\n",
      " [15 16  1]\n",
      " [18 19  2]\n",
      " [21  2 24]]\n",
      "------------------\n"
     ]
    },
    {
     "data": {
      "text/plain": [
       "array([[22, 23, 14],\n",
       "       [30, 31, 16],\n",
       "       [38, 39, 22],\n",
       "       [46, 27, 49]])"
      ]
     },
     "execution_count": 208,
     "metadata": {},
     "output_type": "execute_result"
    }
   ],
   "source": [
    "print(a1)\n",
    "print('------------------')\n",
    "a1+[[10],[15],[20],[25]] # row"
   ]
  },
  {
   "cell_type": "code",
   "execution_count": 209,
   "id": "ebdf0a61",
   "metadata": {},
   "outputs": [
    {
     "name": "stdout",
     "output_type": "stream",
     "text": [
      "[[12 13  4]\n",
      " [15 16  1]\n",
      " [18 19  2]\n",
      " [21  2 24]]\n"
     ]
    },
    {
     "data": {
      "text/plain": [
       "array([[22, 23, 14],\n",
       "       [30, 31, 16],\n",
       "       [38, 39, 22],\n",
       "       [46, 27, 49]])"
      ]
     },
     "execution_count": 209,
     "metadata": {},
     "output_type": "execute_result"
    }
   ],
   "source": [
    "print(a1)\n",
    "a2 = a1+[[10],[15],[20],[25]]\n",
    "a2"
   ]
  },
  {
   "cell_type": "markdown",
   "id": "2cd776e4",
   "metadata": {},
   "source": [
    "Column wise addition"
   ]
  },
  {
   "cell_type": "code",
   "execution_count": 210,
   "id": "4ec0b295",
   "metadata": {},
   "outputs": [
    {
     "name": "stdout",
     "output_type": "stream",
     "text": [
      "[[12 13  4]\n",
      " [15 16  1]\n",
      " [18 19  2]\n",
      " [21  2 24]]\n"
     ]
    },
    {
     "data": {
      "text/plain": [
       "array([[22, 28, 24],\n",
       "       [25, 31, 21],\n",
       "       [28, 34, 22],\n",
       "       [31, 17, 44]])"
      ]
     },
     "execution_count": 210,
     "metadata": {},
     "output_type": "execute_result"
    }
   ],
   "source": [
    "print(a1)\n",
    "a1+[10,15,20]"
   ]
  },
  {
   "cell_type": "markdown",
   "id": "9c9eacb5",
   "metadata": {},
   "source": [
    "# Adding array of same dimension "
   ]
  },
  {
   "cell_type": "code",
   "execution_count": 211,
   "id": "575f4e06",
   "metadata": {},
   "outputs": [
    {
     "name": "stdout",
     "output_type": "stream",
     "text": [
      "[[12 13  4]\n",
      " [15 16  1]\n",
      " [18 19  2]\n",
      " [21  2 24]]\n"
     ]
    },
    {
     "data": {
      "text/plain": [
       "array([[14, 16,  8],\n",
       "       [16, 20,  4],\n",
       "       [20, 20,  5],\n",
       "       [22,  4, 28]])"
      ]
     },
     "execution_count": 211,
     "metadata": {},
     "output_type": "execute_result"
    }
   ],
   "source": [
    "print(a1)\n",
    "a1+[[2,3,4],\n",
    "[1,4,3],\n",
    "[2,1,3],\n",
    "[1,2,4]]"
   ]
  },
  {
   "cell_type": "code",
   "execution_count": 212,
   "id": "8024f28f",
   "metadata": {},
   "outputs": [
    {
     "name": "stdout",
     "output_type": "stream",
     "text": [
      "[[10 20 30]\n",
      " [40 50 60]]\n",
      "-------------\n",
      "------------a*b1\n",
      "[[100 200 300]\n",
      " [400 500 600]]\n",
      "------------a*b2\n",
      "[[100 200 300]\n",
      " [400 500 600]]\n",
      "------------a*c\n",
      "[[100 200 300]\n",
      " [400 500 600]]\n",
      "------------a*d\n",
      "[[100 200 300]\n",
      " [400 500 600]]\n"
     ]
    }
   ],
   "source": [
    "a = np.array([[10,20,30],[40,50,60]])\n",
    "print(a)\n",
    "print('-------------')\n",
    "b1 = 10\n",
    "b2 = np.array([10])\n",
    "c = np.array([10,10,10])\n",
    "d = np.array([[10,10,10],[10,10,10]])\n",
    "print('------------a*b1')\n",
    "print(a*b1)\n",
    "print('------------a*b2')\n",
    "print(a*b2)\n",
    "print('------------a*c')\n",
    "print(a*c)\n",
    "print('------------a*d')\n",
    "print(a*d)"
   ]
  },
  {
   "cell_type": "markdown",
   "id": "18ca0c33",
   "metadata": {},
   "source": [
    "# Numpy array functions"
   ]
  },
  {
   "cell_type": "markdown",
   "id": "f62f9d3d",
   "metadata": {},
   "source": [
    "np.sum()"
   ]
  },
  {
   "cell_type": "code",
   "execution_count": 213,
   "id": "05115f19",
   "metadata": {},
   "outputs": [
    {
     "data": {
      "text/plain": [
       "array([[12, 13,  4],\n",
       "       [15, 16,  1],\n",
       "       [18, 19,  2],\n",
       "       [21,  2, 24]])"
      ]
     },
     "execution_count": 213,
     "metadata": {},
     "output_type": "execute_result"
    }
   ],
   "source": [
    "a1"
   ]
  },
  {
   "cell_type": "code",
   "execution_count": 214,
   "id": "b5090519",
   "metadata": {},
   "outputs": [
    {
     "data": {
      "text/plain": [
       "210"
      ]
     },
     "execution_count": 214,
     "metadata": {},
     "output_type": "execute_result"
    }
   ],
   "source": [
    "a.sum()"
   ]
  },
  {
   "cell_type": "code",
   "execution_count": 215,
   "id": "7f691c1e",
   "metadata": {},
   "outputs": [
    {
     "data": {
      "text/plain": [
       "147"
      ]
     },
     "execution_count": 215,
     "metadata": {},
     "output_type": "execute_result"
    }
   ],
   "source": [
    "np.sum(a1)"
   ]
  },
  {
   "cell_type": "code",
   "execution_count": 216,
   "id": "f250cb49",
   "metadata": {},
   "outputs": [
    {
     "data": {
      "text/plain": [
       "array([[10, 20, 30],\n",
       "       [40, 50, 60]])"
      ]
     },
     "execution_count": 216,
     "metadata": {},
     "output_type": "execute_result"
    }
   ],
   "source": [
    "a"
   ]
  },
  {
   "cell_type": "code",
   "execution_count": 217,
   "id": "31604311",
   "metadata": {},
   "outputs": [
    {
     "data": {
      "text/plain": [
       "array([50, 70, 90])"
      ]
     },
     "execution_count": 217,
     "metadata": {},
     "output_type": "execute_result"
    }
   ],
   "source": [
    "a.sum(axis=0)"
   ]
  },
  {
   "cell_type": "code",
   "execution_count": 218,
   "id": "9dfd047e",
   "metadata": {},
   "outputs": [
    {
     "data": {
      "text/plain": [
       "array([ 60, 150])"
      ]
     },
     "execution_count": 218,
     "metadata": {},
     "output_type": "execute_result"
    }
   ],
   "source": [
    "a.sum(axis=1)"
   ]
  },
  {
   "cell_type": "code",
   "execution_count": 219,
   "id": "af09259a",
   "metadata": {},
   "outputs": [
    {
     "data": {
      "text/plain": [
       "(array([[[ 1,  2,  3,  4],\n",
       "         [ 5,  6,  7,  8]],\n",
       " \n",
       "        [[11, 12,  3,  4],\n",
       "         [ 5,  6,  7, 88]]]),\n",
       " 15)"
      ]
     },
     "execution_count": 219,
     "metadata": {},
     "output_type": "execute_result"
    }
   ],
   "source": [
    "a=np.array([[[1,2,3,4],[5,6,7,8]],[[11,12,3,4],[5,6,7,88]]])\n",
    "a,a.argmax()"
   ]
  },
  {
   "cell_type": "code",
   "execution_count": 220,
   "id": "2453d655",
   "metadata": {},
   "outputs": [
    {
     "name": "stdout",
     "output_type": "stream",
     "text": [
      "88\n",
      "3\n"
     ]
    },
    {
     "data": {
      "text/plain": [
       "88"
      ]
     },
     "execution_count": 220,
     "metadata": {},
     "output_type": "execute_result"
    }
   ],
   "source": [
    "p1=np.array([[11, 12, 3, 4],[ 5, 6, 7, 88]])\n",
    "print(np.max(p1))\n",
    "print(np.min(p1))\n",
    "p1[1][3]"
   ]
  },
  {
   "cell_type": "code",
   "execution_count": 222,
   "id": "0fe8d2ff",
   "metadata": {},
   "outputs": [],
   "source": [
    "p2=p1"
   ]
  },
  {
   "cell_type": "code",
   "execution_count": 223,
   "id": "2c39a76f",
   "metadata": {},
   "outputs": [
    {
     "name": "stdout",
     "output_type": "stream",
     "text": [
      "[0 0 1 1]\n",
      "[1 1 0 0]\n",
      "[1 3]\n",
      "[2 0]\n"
     ]
    }
   ],
   "source": [
    "print(np.argmax(p2,axis=0)) # column wise\n",
    "print(np.argmin(p2,axis=0)) # column wise\n",
    "print(np.argmax(p2,axis=1)) # row wise\n",
    "print(np.argmin(p2,axis=1)) # row wise"
   ]
  },
  {
   "cell_type": "code",
   "execution_count": 224,
   "id": "5b71a219",
   "metadata": {},
   "outputs": [
    {
     "data": {
      "text/plain": [
       "array([[ 3,  4, 11, 12],\n",
       "       [ 5,  6,  7, 88]])"
      ]
     },
     "execution_count": 224,
     "metadata": {},
     "output_type": "execute_result"
    }
   ],
   "source": [
    "np.sort(p1)"
   ]
  },
  {
   "cell_type": "code",
   "execution_count": 225,
   "id": "439a9d70",
   "metadata": {},
   "outputs": [
    {
     "data": {
      "text/plain": [
       "(array([[ 5,  6,  7, 88],\n",
       "        [11, 12,  3,  4]]),\n",
       " array([[11, 12,  3,  4],\n",
       "        [ 5,  6,  7, 88]]))"
      ]
     },
     "execution_count": 225,
     "metadata": {},
     "output_type": "execute_result"
    }
   ],
   "source": [
    "p1[::-1],p1"
   ]
  },
  {
   "cell_type": "code",
   "execution_count": 226,
   "id": "fac91788",
   "metadata": {},
   "outputs": [
    {
     "data": {
      "text/plain": [
       "array([[ 3,  4, 11, 12],\n",
       "       [ 5,  6,  7, 88]])"
      ]
     },
     "execution_count": 226,
     "metadata": {},
     "output_type": "execute_result"
    }
   ],
   "source": [
    "# sort row wise\n",
    "np.sort(p1,axis=1)"
   ]
  },
  {
   "cell_type": "code",
   "execution_count": 227,
   "id": "bbb7efdb",
   "metadata": {},
   "outputs": [
    {
     "data": {
      "text/plain": [
       "(array([[11, 12,  3,  4],\n",
       "        [ 5,  6,  7, 88]]),\n",
       " array([12,  3,  6]))"
      ]
     },
     "execution_count": 227,
     "metadata": {},
     "output_type": "execute_result"
    }
   ],
   "source": [
    "p1,p1[np.where(p1%3==0)]"
   ]
  },
  {
   "cell_type": "code",
   "execution_count": 228,
   "id": "cd79656b",
   "metadata": {},
   "outputs": [
    {
     "data": {
      "text/plain": [
       "(array([0, 0, 0, 0, 1, 1, 1], dtype=int64),\n",
       " array([0, 1, 2, 3, 0, 1, 2], dtype=int64))"
      ]
     },
     "execution_count": 228,
     "metadata": {},
     "output_type": "execute_result"
    }
   ],
   "source": [
    "np.where(p1 < 20)"
   ]
  },
  {
   "cell_type": "code",
   "execution_count": 229,
   "id": "7887075b",
   "metadata": {},
   "outputs": [
    {
     "data": {
      "text/plain": [
       "(array([[ 11,  12,   3,   4],\n",
       "        [  5,   6,   7, 176]]),\n",
       " array([[11, 12,  3,  4],\n",
       "        [ 5,  6,  7, 88]]))"
      ]
     },
     "execution_count": 229,
     "metadata": {},
     "output_type": "execute_result"
    }
   ],
   "source": [
    "np.where(p1 < 20,p1, p1*2),p1"
   ]
  },
  {
   "cell_type": "code",
   "execution_count": 230,
   "id": "02d4c858",
   "metadata": {},
   "outputs": [
    {
     "data": {
      "text/plain": [
       "array([[ 4, 22, -4, 14],\n",
       "       [-2, 16,  0, 98]])"
      ]
     },
     "execution_count": 230,
     "metadata": {},
     "output_type": "execute_result"
    }
   ],
   "source": [
    "np.where(p1%2==0, p1+10, p1-7)"
   ]
  },
  {
   "cell_type": "code",
   "execution_count": 231,
   "id": "bec913c6",
   "metadata": {},
   "outputs": [
    {
     "data": {
      "text/plain": [
       "((array([0, 0, 1, 1], dtype=int64), array([1, 3, 1, 3], dtype=int64)),\n",
       " array([[11, 12,  3,  4],\n",
       "        [ 5,  6,  7, 88]]))"
      ]
     },
     "execution_count": 231,
     "metadata": {},
     "output_type": "execute_result"
    }
   ],
   "source": [
    "np.where(p1%2==0),p1"
   ]
  },
  {
   "cell_type": "code",
   "execution_count": 232,
   "id": "3db5991c",
   "metadata": {},
   "outputs": [
    {
     "data": {
      "text/plain": [
       "array([12,  4,  6, 88])"
      ]
     },
     "execution_count": 232,
     "metadata": {},
     "output_type": "execute_result"
    }
   ],
   "source": [
    "p1[np.where(p1%2==0)]"
   ]
  },
  {
   "cell_type": "code",
   "execution_count": 233,
   "id": "5a26c605",
   "metadata": {},
   "outputs": [
    {
     "name": "stdout",
     "output_type": "stream",
     "text": [
      "[88] [[11 12  3  4]\n",
      " [ 5  6  7 88]]\n"
     ]
    },
    {
     "data": {
      "text/plain": [
       "numpy.ndarray"
      ]
     },
     "execution_count": 233,
     "metadata": {},
     "output_type": "execute_result"
    }
   ],
   "source": [
    "t1 = np.extract(p1>20, p1)\n",
    "print(t1,p1)\n",
    "type(t1)"
   ]
  },
  {
   "cell_type": "code",
   "execution_count": 234,
   "id": "a4496607",
   "metadata": {},
   "outputs": [
    {
     "data": {
      "text/plain": [
       "array([11,  4,  5,  7, 88])"
      ]
     },
     "execution_count": 234,
     "metadata": {},
     "output_type": "execute_result"
    }
   ],
   "source": [
    "np.extract(p1%3!=0,p1)"
   ]
  },
  {
   "cell_type": "code",
   "execution_count": 235,
   "id": "ea7980f6",
   "metadata": {},
   "outputs": [
    {
     "data": {
      "text/plain": [
       "(array([11, 12, 41,  3,  4,  5,  6,  7, 88]),\n",
       " array([[11, 12,  3,  4],\n",
       "        [ 5,  6,  7, 88]]))"
      ]
     },
     "execution_count": 235,
     "metadata": {},
     "output_type": "execute_result"
    }
   ],
   "source": [
    "np.insert(p1,2,41),p1"
   ]
  },
  {
   "cell_type": "code",
   "execution_count": 236,
   "id": "c8ddfc80",
   "metadata": {},
   "outputs": [
    {
     "data": {
      "text/plain": [
       "array([11, 12,  3,  4,  6,  7, 88])"
      ]
     },
     "execution_count": 236,
     "metadata": {},
     "output_type": "execute_result"
    }
   ],
   "source": [
    "p2 = np.delete(p1,4)\n",
    "p2"
   ]
  },
  {
   "cell_type": "code",
   "execution_count": 237,
   "id": "2a7d46a6",
   "metadata": {},
   "outputs": [
    {
     "name": "stdout",
     "output_type": "stream",
     "text": [
      "[[11 12  4]\n",
      " [ 5  6 88]]\n"
     ]
    }
   ],
   "source": [
    "q1 = np.delete(p1,2,axis=1) # deletes 2nd index column value corresponding to each row\n",
    "print(q1)"
   ]
  },
  {
   "cell_type": "code",
   "execution_count": 238,
   "id": "b6b281e0",
   "metadata": {},
   "outputs": [
    {
     "data": {
      "text/plain": [
       "array([[11, 12,  3,  4],\n",
       "       [ 5,  6,  7, 88]])"
      ]
     },
     "execution_count": 238,
     "metadata": {},
     "output_type": "execute_result"
    }
   ],
   "source": [
    "p1"
   ]
  },
  {
   "cell_type": "code",
   "execution_count": 239,
   "id": "7f337489",
   "metadata": {},
   "outputs": [
    {
     "name": "stdout",
     "output_type": "stream",
     "text": [
      "[[11 12  3  4]]\n"
     ]
    }
   ],
   "source": [
    "q1 = np.delete(p1,1,axis=0) # deletes 2nd index row value corresponding to each column\n",
    "print(q1)"
   ]
  },
  {
   "cell_type": "code",
   "execution_count": 240,
   "id": "f7c21556",
   "metadata": {},
   "outputs": [
    {
     "data": {
      "text/plain": [
       "array([11, 12,  3,  4,  5,  6,  7, 88, 23])"
      ]
     },
     "execution_count": 240,
     "metadata": {},
     "output_type": "execute_result"
    }
   ],
   "source": [
    "np.append(p1,23)"
   ]
  },
  {
   "cell_type": "code",
   "execution_count": 241,
   "id": "60e77080",
   "metadata": {},
   "outputs": [
    {
     "name": "stdout",
     "output_type": "stream",
     "text": [
      "[[11 12  3  4]\n",
      " [ 5  6  7 88]\n",
      " [13 14 15 16]]\n",
      "(3, 4)\n"
     ]
    }
   ],
   "source": [
    "# Column wise - Add a value to each column, thereby creaing a new row\n",
    "r2 = np.append(p1, [[13,14,15,16]], axis=0)\n",
    "print(r2)\n",
    "print(r2.shape)"
   ]
  },
  {
   "cell_type": "code",
   "execution_count": 242,
   "id": "eb6254e5",
   "metadata": {},
   "outputs": [
    {
     "data": {
      "text/plain": [
       "(array([[11, 12,  3,  4],\n",
       "        [ 5,  6,  7, 88]]),\n",
       " array([[11, 12,  3,  4],\n",
       "        [ 5,  6,  7, 88],\n",
       "        [13, 14, 15, 16]]))"
      ]
     },
     "execution_count": 242,
     "metadata": {},
     "output_type": "execute_result"
    }
   ],
   "source": [
    "p1,r2"
   ]
  },
  {
   "cell_type": "code",
   "execution_count": 243,
   "id": "9206fa5b",
   "metadata": {},
   "outputs": [
    {
     "name": "stdout",
     "output_type": "stream",
     "text": [
      "[[ 11  12   3   4 500]\n",
      " [  5   6   7  88 600]]\n",
      "(2, 5)\n"
     ]
    }
   ],
   "source": [
    "# Row wise - Add a value to each row, thereby creaing a new column\n",
    "r4 = np.append(p1, [[500],[600]], axis=1)\n",
    "print(r4)\n",
    "print(r4.shape)"
   ]
  },
  {
   "cell_type": "markdown",
   "id": "45d31fa1",
   "metadata": {},
   "source": [
    "# Iterating over numpy array - np.nditer()"
   ]
  },
  {
   "cell_type": "code",
   "execution_count": 249,
   "id": "ecec2572",
   "metadata": {},
   "outputs": [
    {
     "name": "stdout",
     "output_type": "stream",
     "text": [
      "[11 12  3  4]\n",
      "[ 5  6  7 88]\n"
     ]
    }
   ],
   "source": [
    "for i in p1:\n",
    "    print(i)"
   ]
  },
  {
   "cell_type": "code",
   "execution_count": 250,
   "id": "98a135e6",
   "metadata": {},
   "outputs": [
    {
     "data": {
      "text/plain": [
       "array([[11, 12,  3,  4],\n",
       "       [ 5,  6,  7, 88]])"
      ]
     },
     "execution_count": 250,
     "metadata": {},
     "output_type": "execute_result"
    }
   ],
   "source": [
    "p1"
   ]
  },
  {
   "cell_type": "code",
   "execution_count": 251,
   "id": "24129c08",
   "metadata": {},
   "outputs": [
    {
     "name": "stdout",
     "output_type": "stream",
     "text": [
      "11\n",
      "12\n",
      "3\n",
      "4\n",
      "5\n",
      "6\n",
      "7\n",
      "88\n"
     ]
    }
   ],
   "source": [
    "for i in np.nditer(p1):\n",
    "    print(i)"
   ]
  },
  {
   "cell_type": "code",
   "execution_count": 252,
   "id": "f837202a",
   "metadata": {},
   "outputs": [
    {
     "data": {
      "text/plain": [
       "array([[0, 1, 2],\n",
       "       [3, 4, 5],\n",
       "       [6, 7, 8]])"
      ]
     },
     "execution_count": 252,
     "metadata": {},
     "output_type": "execute_result"
    }
   ],
   "source": [
    "n1=np.arange(9).reshape(3,3)\n",
    "n1"
   ]
  },
  {
   "cell_type": "code",
   "execution_count": 253,
   "id": "e57e2f0e",
   "metadata": {},
   "outputs": [
    {
     "name": "stdout",
     "output_type": "stream",
     "text": [
      "[ 1  7 13]\n",
      "21\n",
      "[3 5 7]\n",
      "15\n"
     ]
    }
   ],
   "source": [
    "# Add 0th column and 1st column\n",
    "res1 = n1[:,0]+ n1[:,1] # Element wise addition of 1st column and 2nd column\n",
    "print(res1)\n",
    "res2 = n1[:,0].sum() + n1[:,1].sum() # Aggregate sum of all elements of 1st and 2nd column\n",
    "print(res2)\n",
    "res3 = n1[0] + n1[1] # sum of 0th and 1st row\n",
    "print(res3)\n",
    "res4 = n1[0].sum() + n1[1].sum() # Aggreate sum of 1st and 2nd row\n",
    "print(res4)"
   ]
  },
  {
   "cell_type": "code",
   "execution_count": 254,
   "id": "58efa654",
   "metadata": {},
   "outputs": [
    {
     "name": "stdout",
     "output_type": "stream",
     "text": [
      "[0 1 2]\n",
      "[3 4 5]\n",
      "[6 7 8]\n",
      "0 1 2 3 4 5 6 7 8 [0 1 2] 3\n",
      "[3 4 5] 3\n",
      "[6 7 8] 3\n",
      "[0 1 2] [3 4 5] [6 7 8] "
     ]
    }
   ],
   "source": [
    "for i in n1:\n",
    "    print(i)\n",
    "for i in np.nditer(n1):\n",
    "    print(i,end=\" \")\n",
    "for i in n1:\n",
    "    print(i,end=\" \")\n",
    "    print(len(n1))\n",
    "for i in range(len(n1)):\n",
    "    print(n1[i],end=\" \")"
   ]
  },
  {
   "cell_type": "code",
   "execution_count": 255,
   "id": "1a62fb4e",
   "metadata": {},
   "outputs": [
    {
     "name": "stdout",
     "output_type": "stream",
     "text": [
      "0\n",
      "1\n",
      "2\n",
      "3\n",
      "4\n",
      "5\n",
      "6\n",
      "7\n",
      "8\n"
     ]
    }
   ],
   "source": [
    "n1.flatten()\n",
    "for i in n1.flatten():\n",
    "    print(i)"
   ]
  },
  {
   "cell_type": "code",
   "execution_count": 256,
   "id": "9d34431c",
   "metadata": {},
   "outputs": [
    {
     "name": "stdout",
     "output_type": "stream",
     "text": [
      "0 1 2 3 4 5 6 7 8 0 1 2 3 4 5 6 7 8 0 3 6 1 4 7 2 5 8 0 1 2 3 4 5 6 7 8 0 1 2 3 4 5 6 7 8 "
     ]
    },
    {
     "data": {
      "text/plain": [
       "array([[0, 1, 2],\n",
       "       [3, 4, 5],\n",
       "       [6, 7, 8]])"
      ]
     },
     "execution_count": 256,
     "metadata": {},
     "output_type": "execute_result"
    }
   ],
   "source": [
    "for i in np.nditer(n1):\n",
    "    print(i,end=' ')\n",
    "for i in np.nditer(n1,order='C'): # order= 'C', iterates element row wise\n",
    "    print(i,end=' ')\n",
    "n1\n",
    "for i in np.nditer(n1,order='F'): # order= 'F', print element column wise\n",
    "    print(i,end=' ')\n",
    "n1\n",
    "for i in np.nditer(n1,order='A'): # order= 'A', print element column wise\n",
    "    print(i,end=' ')\n",
    "for i in np.nditer(n1,order='K'): # order= 'K', print element column wise\n",
    "    print(i,end=' ')\n",
    "n1"
   ]
  },
  {
   "cell_type": "code",
   "execution_count": 257,
   "id": "e2def80d",
   "metadata": {},
   "outputs": [
    {
     "name": "stdout",
     "output_type": "stream",
     "text": [
      "0 0\n",
      "1 1\n",
      "2 2\n",
      "3 3\n",
      "4 4\n",
      "5 5\n",
      "6 6\n",
      "7 7\n",
      "8 8\n"
     ]
    }
   ],
   "source": [
    "n2=np.arange(9).reshape(3,3)\n",
    "for x,y in np.nditer([n1,n2]):\n",
    "    print(x,y)"
   ]
  },
  {
   "cell_type": "code",
   "execution_count": 258,
   "id": "11b4e094",
   "metadata": {},
   "outputs": [
    {
     "name": "stdout",
     "output_type": "stream",
     "text": [
      "[[ 2  4  6]\n",
      " [ 8 10 12]\n",
      " [14 16 18]]\n",
      "[[ 2  8 14]\n",
      " [ 4 10 16]\n",
      " [ 6 12 18]]\n",
      "[ 2  4  6  8 10 12 14 16 18]\n",
      "[ 2  8 14  4 10 16  6 12 18]\n",
      "[[8 5 0]\n",
      " [2 9 6]\n",
      " [4 1 7]]\n",
      "[[3 7 9]\n",
      " [4 1 0]\n",
      " [5 6 2]]\n",
      "[[44 61 72]\n",
      " [72 59 30]\n",
      " [51 71 50]]\n",
      "[[44 61 72]\n",
      " [72 59 30]\n",
      " [51 71 50]]\n",
      "[[8 5 0]\n",
      " [2 9 6]\n",
      " [4 1 7]]\n",
      "[[3 7 9]\n",
      " [4 1 0]\n",
      " [5 6 2]]\n",
      "[[24 35  0]\n",
      " [ 8  9  0]\n",
      " [20  6 14]]\n",
      "[[0 1 2]\n",
      " [2 3 4]\n",
      " [1 2 5]]\n",
      "Rank of A: 3\n",
      "Trace of A: 8\n",
      "Determinant of A: -4.0\n",
      "Inverse of A:\n",
      " [[-1.75  0.25  0.5 ]\n",
      " [ 1.5   0.5  -1.  ]\n",
      " [-0.25 -0.25  0.5 ]]\n",
      "Solution of linear equations: [ 6.8 -0.6]\n",
      "[5. 3. 2.]\n",
      "[[0 1 2]\n",
      " [2 3 4]\n",
      " [0 2 1]]\n",
      "Determinant of A: 6.0\n"
     ]
    }
   ],
   "source": [
    "## 5) Matrix Multiplication and Transpose, Flatten\n",
    "\n",
    "r1 = np.arange(2,20,2).reshape(3,3)\n",
    "print(r1) # Normal matrix\n",
    "print(r1.T) # Transpose of the array\n",
    "print(r1.flatten()) # Flatten the normal array\n",
    "print(r1.T.flatten()) # Flatten the transpose of the array\n",
    "a1 = np.array([8,5,0,2,9,6,4,1,7]).reshape(3,3)\n",
    "a2 = np.array([3,7,9,4,1,0,5,6,2]).reshape(3,3)\n",
    "print(a1)\n",
    "print(a2)\n",
    "# Actual Matrix multiplication\n",
    "r2 = np.matmul(a1,a2)\n",
    "print(r2)\n",
    "# Actual Matrix multiplication\n",
    "r2 = np.dot(a1,a2)\n",
    "print(r2)\n",
    "print(a1)\n",
    "print(a2)\n",
    "# Element wise multiplication\n",
    "r3 = np.multiply(a1,a2)\n",
    "print(r3)\n",
    "#<b>Linear algebra in NumPy:</b>\n",
    "#<br>The Linear Algebra module of NumPy offers various methods to apply linear algebra\n",
    "#on any numpy array. It can be used to determine:\n",
    "#<ol>\n",
    "#<li>rank, determinant, trace, etc. of an array.</li>\n",
    "#<li>solve linear equations</li>\n",
    "#</ol>\n",
    "A = np.array([[0,1,2],\n",
    "[2,3,4],\n",
    "[1,2,5]],dtype=int)\n",
    "print(A)\n",
    "print(\"Rank of A:\", np.linalg.matrix_rank(A))\n",
    "print(\"Trace of A:\", np.trace(A)) # 0+3+5\n",
    "print(\"Determinant of A:\", np.linalg.det(A))\n",
    "# 0(3*5-4*2) - 1(2*5 - 4*1) + 2(2*2 - 3*1) = -6 + 2(1) = -6 + 2 = -4\n",
    "print(\"Inverse of A:\\n\", np.linalg.inv(A))\n",
    "### Solving Linear Equations using numpy\n",
    "# Solving the equation:-\n",
    "# x -2y = 8\n",
    "# 3x + 4y = 18\n",
    "a = np.array([[1, -2], [3, 4]])\n",
    "b = np.array([8, 18])\n",
    "print(\"Solution of linear equations:\", np.linalg.solve(a, b))\n",
    "# Solving the equation:-\n",
    "# x +2y-z =9\n",
    "# 2x -3y+7z = 15\n",
    "# 7x -4y-5z = 13\n",
    "a = np.array([[1, 2, -1], [2, -3, 7], [7, -4, -5]])\n",
    "b = np.array([9,15,13])\n",
    "x = np.linalg.solve(a, b)\n",
    "print(x)\n",
    "s1 = np.array([[0,1,2],[2,3,4],[0,2,1]])\n",
    "print(s1)\n",
    "print(\"Determinant of A:\", np.linalg.det(s1))"
   ]
  },
  {
   "cell_type": "markdown",
   "id": "43ba853a",
   "metadata": {},
   "source": [
    "# Concatenation"
   ]
  },
  {
   "cell_type": "code",
   "execution_count": 260,
   "id": "554a97c2",
   "metadata": {},
   "outputs": [
    {
     "name": "stdout",
     "output_type": "stream",
     "text": [
      "[100 322 343 711 430  56  40]\n"
     ]
    },
    {
     "data": {
      "text/plain": [
       "(array([15, 42, 63, 74, 85]), array([ 12,  33,  54, 115, 616]))"
      ]
     },
     "execution_count": 260,
     "metadata": {},
     "output_type": "execute_result"
    }
   ],
   "source": [
    "# creating two 1D array\n",
    "arr_1=np.array([15,42,63,74,85])\n",
    "arr_2=np.array([12,33,54,115,616])\n",
    "print(arr)\n",
    "arr_1,arr_2"
   ]
  },
  {
   "cell_type": "code",
   "execution_count": 261,
   "id": "23dddeb6",
   "metadata": {},
   "outputs": [
    {
     "data": {
      "text/plain": [
       "array([ 27,  75, 117, 189, 701])"
      ]
     },
     "execution_count": 261,
     "metadata": {},
     "output_type": "execute_result"
    }
   ],
   "source": [
    "arr_1+arr_2"
   ]
  },
  {
   "cell_type": "code",
   "execution_count": 262,
   "id": "0d70d321",
   "metadata": {},
   "outputs": [
    {
     "data": {
      "text/plain": [
       "array([ 15,  42,  63,  74,  85,  12,  33,  54, 115, 616])"
      ]
     },
     "execution_count": 262,
     "metadata": {},
     "output_type": "execute_result"
    }
   ],
   "source": [
    "arr_1_2=np.concatenate((arr_1,arr_2)) # use double paranthesis\n",
    "arr_1_2"
   ]
  },
  {
   "cell_type": "code",
   "execution_count": 263,
   "id": "32195c18",
   "metadata": {},
   "outputs": [
    {
     "data": {
      "text/plain": [
       "array([ 12,  33,  54, 115, 616,  15,  42,  63,  74,  85])"
      ]
     },
     "execution_count": 263,
     "metadata": {},
     "output_type": "execute_result"
    }
   ],
   "source": [
    "arr_2_1=np.concatenate((arr_2,arr_1),axis=0) # use double paranthesis\n",
    "arr_2_1"
   ]
  },
  {
   "cell_type": "code",
   "execution_count": 264,
   "id": "87f58544",
   "metadata": {},
   "outputs": [
    {
     "data": {
      "text/plain": [
       "array([[[77, 34, 26, 92, 94],\n",
       "        [97, 82, 97, 36, 30],\n",
       "        [95, 57, 71, 42, 38],\n",
       "        [55, 82, 37, 31, 52],\n",
       "        [36, 33, 43, 90, 80]],\n",
       "\n",
       "       [[68, 96, 57, 17, 25],\n",
       "        [91, 22, 73, 43, 46],\n",
       "        [22, 11, 98, 78, 67],\n",
       "        [56, 68, 37, 91, 26],\n",
       "        [46, 47, 52, 53, 59]]])"
      ]
     },
     "execution_count": 264,
     "metadata": {},
     "output_type": "execute_result"
    }
   ],
   "source": [
    "import random\n",
    "a=np.random.randint(10,100,50).reshape(2,5,5)\n",
    "a"
   ]
  },
  {
   "cell_type": "code",
   "execution_count": 265,
   "id": "ef676ac9",
   "metadata": {},
   "outputs": [
    {
     "data": {
      "text/plain": [
       "array([[[603, 999, 338, 131, 947],\n",
       "        [707, 336, 523, 166, 867],\n",
       "        [954, 571, 734, 679, 236],\n",
       "        [337, 107, 414, 974, 622],\n",
       "        [288, 303, 761, 348, 956]],\n",
       "\n",
       "       [[507, 199, 283, 248, 331],\n",
       "        [125, 165, 366, 383, 771],\n",
       "        [739, 640, 102, 259, 197],\n",
       "        [375, 166, 625, 916, 247],\n",
       "        [617, 288, 876, 768, 654]]])"
      ]
     },
     "execution_count": 265,
     "metadata": {},
     "output_type": "execute_result"
    }
   ],
   "source": [
    "b=np.random.randint(100,1000,50).reshape(2,5,5)\n",
    "b"
   ]
  },
  {
   "cell_type": "code",
   "execution_count": 266,
   "id": "f9659b44",
   "metadata": {},
   "outputs": [
    {
     "data": {
      "text/plain": [
       "array([[[ 77,  34,  26,  92,  94],\n",
       "        [ 97,  82,  97,  36,  30],\n",
       "        [ 95,  57,  71,  42,  38],\n",
       "        [ 55,  82,  37,  31,  52],\n",
       "        [ 36,  33,  43,  90,  80]],\n",
       "\n",
       "       [[ 68,  96,  57,  17,  25],\n",
       "        [ 91,  22,  73,  43,  46],\n",
       "        [ 22,  11,  98,  78,  67],\n",
       "        [ 56,  68,  37,  91,  26],\n",
       "        [ 46,  47,  52,  53,  59]],\n",
       "\n",
       "       [[603, 999, 338, 131, 947],\n",
       "        [707, 336, 523, 166, 867],\n",
       "        [954, 571, 734, 679, 236],\n",
       "        [337, 107, 414, 974, 622],\n",
       "        [288, 303, 761, 348, 956]],\n",
       "\n",
       "       [[507, 199, 283, 248, 331],\n",
       "        [125, 165, 366, 383, 771],\n",
       "        [739, 640, 102, 259, 197],\n",
       "        [375, 166, 625, 916, 247],\n",
       "        [617, 288, 876, 768, 654]]])"
      ]
     },
     "execution_count": 266,
     "metadata": {},
     "output_type": "execute_result"
    }
   ],
   "source": [
    "c_=np.concatenate((a,b)) # by defalt - # axis =0 rows wise horizontally\n",
    "c_"
   ]
  },
  {
   "cell_type": "code",
   "execution_count": 267,
   "id": "c6498292",
   "metadata": {},
   "outputs": [
    {
     "data": {
      "text/plain": [
       "array([[[603, 999, 338, 131, 947],\n",
       "        [707, 336, 523, 166, 867],\n",
       "        [954, 571, 734, 679, 236],\n",
       "        [337, 107, 414, 974, 622],\n",
       "        [288, 303, 761, 348, 956],\n",
       "        [ 77,  34,  26,  92,  94],\n",
       "        [ 97,  82,  97,  36,  30],\n",
       "        [ 95,  57,  71,  42,  38],\n",
       "        [ 55,  82,  37,  31,  52],\n",
       "        [ 36,  33,  43,  90,  80]],\n",
       "\n",
       "       [[507, 199, 283, 248, 331],\n",
       "        [125, 165, 366, 383, 771],\n",
       "        [739, 640, 102, 259, 197],\n",
       "        [375, 166, 625, 916, 247],\n",
       "        [617, 288, 876, 768, 654],\n",
       "        [ 68,  96,  57,  17,  25],\n",
       "        [ 91,  22,  73,  43,  46],\n",
       "        [ 22,  11,  98,  78,  67],\n",
       "        [ 56,  68,  37,  91,  26],\n",
       "        [ 46,  47,  52,  53,  59]]])"
      ]
     },
     "execution_count": 267,
     "metadata": {},
     "output_type": "execute_result"
    }
   ],
   "source": [
    "d_=np.concatenate((b,a),axis=1) # # axis =1 column wise vertically in numpy\n",
    "d_"
   ]
  },
  {
   "cell_type": "markdown",
   "id": "2cf869a8",
   "metadata": {},
   "source": [
    "# Stack"
   ]
  },
  {
   "cell_type": "code",
   "execution_count": 268,
   "id": "4ca5c092",
   "metadata": {},
   "outputs": [
    {
     "data": {
      "text/plain": [
       "(array([[212, 185, 510, 260, 317],\n",
       "        [896, 268, 367, 697, 449]]),\n",
       " array([[ 492, 1615, 1306, 1345, 1059],\n",
       "        [ 538,  992, 1043, 1770,  300]]))"
      ]
     },
     "execution_count": 268,
     "metadata": {},
     "output_type": "execute_result"
    }
   ],
   "source": [
    "a=np.random.randint(100,1000,10).reshape(2,5)\n",
    "b=np.random.randint(200,2000,10).reshape(2,5)\n",
    "a,b"
   ]
  },
  {
   "cell_type": "code",
   "execution_count": 269,
   "id": "82fe0969",
   "metadata": {},
   "outputs": [
    {
     "data": {
      "text/plain": [
       "array([[[ 212,  185,  510,  260,  317],\n",
       "        [ 896,  268,  367,  697,  449]],\n",
       "\n",
       "       [[ 492, 1615, 1306, 1345, 1059],\n",
       "        [ 538,  992, 1043, 1770,  300]]])"
      ]
     },
     "execution_count": 269,
     "metadata": {},
     "output_type": "execute_result"
    }
   ],
   "source": [
    "np.stack((a,b))"
   ]
  },
  {
   "cell_type": "code",
   "execution_count": 270,
   "id": "e2afb86a",
   "metadata": {},
   "outputs": [
    {
     "data": {
      "text/plain": [
       "array([[ 212,  185,  510,  260,  317,  492, 1615, 1306, 1345, 1059],\n",
       "       [ 896,  268,  367,  697,  449,  538,  992, 1043, 1770,  300]])"
      ]
     },
     "execution_count": 270,
     "metadata": {},
     "output_type": "execute_result"
    }
   ],
   "source": [
    "np.hstack((a,b))"
   ]
  },
  {
   "cell_type": "code",
   "execution_count": 271,
   "id": "792eb28c",
   "metadata": {},
   "outputs": [
    {
     "data": {
      "text/plain": [
       "array([[ 212,  185,  510,  260,  317],\n",
       "       [ 896,  268,  367,  697,  449],\n",
       "       [ 492, 1615, 1306, 1345, 1059],\n",
       "       [ 538,  992, 1043, 1770,  300]])"
      ]
     },
     "execution_count": 271,
     "metadata": {},
     "output_type": "execute_result"
    }
   ],
   "source": [
    "np.vstack((a,b))"
   ]
  },
  {
   "cell_type": "code",
   "execution_count": 272,
   "id": "e2f5ae4e",
   "metadata": {},
   "outputs": [
    {
     "data": {
      "text/plain": [
       "array([[[ 212,  185,  510,  260,  317],\n",
       "        [ 896,  268,  367,  697,  449]],\n",
       "\n",
       "       [[ 492, 1615, 1306, 1345, 1059],\n",
       "        [ 538,  992, 1043, 1770,  300]]])"
      ]
     },
     "execution_count": 272,
     "metadata": {},
     "output_type": "execute_result"
    }
   ],
   "source": [
    "np.stack((a,b),axis=0)"
   ]
  },
  {
   "cell_type": "code",
   "execution_count": 273,
   "id": "3b9ab10f",
   "metadata": {},
   "outputs": [
    {
     "data": {
      "text/plain": [
       "array([[[ 212,  185,  510,  260,  317],\n",
       "        [ 492, 1615, 1306, 1345, 1059]],\n",
       "\n",
       "       [[ 896,  268,  367,  697,  449],\n",
       "        [ 538,  992, 1043, 1770,  300]]])"
      ]
     },
     "execution_count": 273,
     "metadata": {},
     "output_type": "execute_result"
    }
   ],
   "source": [
    "np.stack((a,b),axis=1)"
   ]
  },
  {
   "cell_type": "code",
   "execution_count": 274,
   "id": "0f4c04a0",
   "metadata": {},
   "outputs": [
    {
     "data": {
      "text/plain": [
       "array([[[ 212,  492],\n",
       "        [ 185, 1615],\n",
       "        [ 510, 1306],\n",
       "        [ 260, 1345],\n",
       "        [ 317, 1059]],\n",
       "\n",
       "       [[ 896,  538],\n",
       "        [ 268,  992],\n",
       "        [ 367, 1043],\n",
       "        [ 697, 1770],\n",
       "        [ 449,  300]]])"
      ]
     },
     "execution_count": 274,
     "metadata": {},
     "output_type": "execute_result"
    }
   ],
   "source": [
    "np.stack((a,b),axis=2)"
   ]
  },
  {
   "cell_type": "code",
   "execution_count": 276,
   "id": "95d649e7",
   "metadata": {},
   "outputs": [
    {
     "data": {
      "text/plain": [
       "array([[[ 212,  492],\n",
       "        [ 185, 1615],\n",
       "        [ 510, 1306],\n",
       "        [ 260, 1345],\n",
       "        [ 317, 1059]],\n",
       "\n",
       "       [[ 896,  538],\n",
       "        [ 268,  992],\n",
       "        [ 367, 1043],\n",
       "        [ 697, 1770],\n",
       "        [ 449,  300]]])"
      ]
     },
     "execution_count": 276,
     "metadata": {},
     "output_type": "execute_result"
    }
   ],
   "source": [
    "np.stack((a,b),axis=2)"
   ]
  },
  {
   "cell_type": "markdown",
   "id": "63043d2f",
   "metadata": {},
   "source": [
    "# intersaction & difference"
   ]
  },
  {
   "cell_type": "code",
   "execution_count": 277,
   "id": "b0a254a5",
   "metadata": {},
   "outputs": [
    {
     "data": {
      "text/plain": [
       "(array([[[ 10,  20,  30,  40,  50],\n",
       "         [ 60,  70,  80,  90, 100]],\n",
       " \n",
       "        [[ 10,  20,  30,  40,  50],\n",
       "         [ 60,  70,  80,  90, 100]]]),\n",
       " array([[[20, 40, 50],\n",
       "         [60, 70, 80]],\n",
       " \n",
       "        [[20, 40, 50],\n",
       "         [60, 70, 80]]]))"
      ]
     },
     "execution_count": 277,
     "metadata": {},
     "output_type": "execute_result"
    }
   ],
   "source": [
    "a=np.array([[[10,20,30,40,50],[60,70,80,90,100]],[[10,20,30,40,50],[60,70,80,90,100]]])\n",
    "b=np.array([[[20,40,50],[60,70,80]],[[20,40,50],[60,70,80]]])\n",
    "a,b"
   ]
  },
  {
   "cell_type": "code",
   "execution_count": 278,
   "id": "4ef30a93",
   "metadata": {},
   "outputs": [
    {
     "data": {
      "text/plain": [
       "array([20, 40, 50, 60, 70, 80])"
      ]
     },
     "execution_count": 278,
     "metadata": {},
     "output_type": "execute_result"
    }
   ],
   "source": [
    "np.intersect1d(a,b)"
   ]
  },
  {
   "cell_type": "code",
   "execution_count": 279,
   "id": "879af3ae",
   "metadata": {},
   "outputs": [
    {
     "data": {
      "text/plain": [
       "array([ 10,  30,  90, 100])"
      ]
     },
     "execution_count": 279,
     "metadata": {},
     "output_type": "execute_result"
    }
   ],
   "source": [
    "np.setdiff1d(a,b)"
   ]
  },
  {
   "cell_type": "markdown",
   "id": "47a4c098",
   "metadata": {},
   "source": [
    "# Numpy array copy vs View"
   ]
  },
  {
   "cell_type": "code",
   "execution_count": 280,
   "id": "ed416e43",
   "metadata": {},
   "outputs": [
    {
     "data": {
      "text/plain": [
       "((2, 2, 5),\n",
       " array([[[ 10,  20,  30,  40,  50],\n",
       "         [ 60,  70,  80,  90, 100]],\n",
       " \n",
       "        [[ 10,  20,  30,  40,  50],\n",
       "         [ 60,  70,  80,  90, 100]]]))"
      ]
     },
     "execution_count": 280,
     "metadata": {},
     "output_type": "execute_result"
    }
   ],
   "source": [
    "a.shape,a"
   ]
  },
  {
   "cell_type": "code",
   "execution_count": 281,
   "id": "1a340add",
   "metadata": {},
   "outputs": [
    {
     "data": {
      "text/plain": [
       "array([[[ 10,  20,  30, 300,  50],\n",
       "        [ 60,  70,  80,  90, 100]],\n",
       "\n",
       "       [[ 10,  20,  30,  40,  50],\n",
       "        [ 60,  70,  80,  90, 100]]])"
      ]
     },
     "execution_count": 281,
     "metadata": {},
     "output_type": "execute_result"
    }
   ],
   "source": [
    "a[0][[0],[3]]=300\n",
    "a"
   ]
  },
  {
   "cell_type": "code",
   "execution_count": 282,
   "id": "ab4b3da5",
   "metadata": {},
   "outputs": [
    {
     "data": {
      "text/plain": [
       "array([[[ 10,  20,  30, 300,  50],\n",
       "        [ 60,  70,  80,  90, 100]],\n",
       "\n",
       "       [[ 10,  20,  30,  40, 345],\n",
       "        [ 60,  70,  80,  90, 100]]])"
      ]
     },
     "execution_count": 282,
     "metadata": {},
     "output_type": "execute_result"
    }
   ],
   "source": [
    "a[1][[0],[4]]=345\n",
    "a"
   ]
  },
  {
   "cell_type": "code",
   "execution_count": 283,
   "id": "9fa5e332",
   "metadata": {},
   "outputs": [
    {
     "data": {
      "text/plain": [
       "(array([[  1,  22,  33, 876],\n",
       "        [ 22,  44,  55,  87]]),\n",
       " array([[  1,  22,  33, 876],\n",
       "        [ 22,  44,  55,  87]]))"
      ]
     },
     "execution_count": 283,
     "metadata": {},
     "output_type": "execute_result"
    }
   ],
   "source": [
    "# view\n",
    "a=np.array([[1,22,33,66],\n",
    "[22,44,55,87]])\n",
    "v=a.view()\n",
    "v\n",
    "a[0][3]=876\n",
    "a,v"
   ]
  },
  {
   "cell_type": "code",
   "execution_count": 284,
   "id": "00578aa0",
   "metadata": {},
   "outputs": [
    {
     "data": {
      "text/plain": [
       "(array([[  1,  22,  33, 876],\n",
       "        [ 22,  44,  55,  87]]),\n",
       " array([[   1,   22,   33,  876],\n",
       "        [  22,   44,   55, 1000]]))"
      ]
     },
     "execution_count": 284,
     "metadata": {},
     "output_type": "execute_result"
    }
   ],
   "source": [
    "# copy\n",
    "c=a.copy()\n",
    "c\n",
    "a[1][3]=1000\n",
    "c,a"
   ]
  },
  {
   "cell_type": "code",
   "execution_count": 286,
   "id": "07d9e22b",
   "metadata": {},
   "outputs": [
    {
     "data": {
      "text/plain": [
       "array([[0.15720485, 0.63668881, 0.16530257, 0.79873743, 0.5952118 ,\n",
       "        0.78391188, 0.1450279 , 0.79541024, 0.52466841, 0.4763643 ,\n",
       "        0.89052506, 0.87276926, 0.63471616, 0.52250258, 0.07363221,\n",
       "        0.75152622, 0.38798775, 0.41367975, 0.67223794, 0.68367181,\n",
       "        0.95304489, 0.61676842, 0.64118926, 0.11959984, 0.21168668,\n",
       "        0.53857469, 0.59126288, 0.70738581, 0.07352876, 0.79248256,\n",
       "        0.39786016, 0.14587433, 0.08093412, 0.01181228, 0.92424506,\n",
       "        0.34336572, 0.10524528, 0.9005876 , 0.8282239 , 0.02528769,\n",
       "        0.54266898, 0.6356883 , 0.37281425, 0.16585797, 0.93540406,\n",
       "        0.79781425, 0.45331501, 0.99309036, 0.77386814, 0.38338383],\n",
       "       [0.58654127, 0.74903373, 0.10575224, 0.18900663, 0.29381042,\n",
       "        0.95565382, 0.13337459, 0.53236906, 0.30247839, 0.09344349,\n",
       "        0.15581259, 0.75904675, 0.06360162, 0.3982422 , 0.87703617,\n",
       "        0.55164411, 0.85862897, 0.47177814, 0.48383026, 0.88868628,\n",
       "        0.05706608, 0.35672589, 0.62724296, 0.75545433, 0.72995542,\n",
       "        0.19299082, 0.52038666, 0.54550979, 0.11598023, 0.6369992 ,\n",
       "        0.68130866, 0.93730896, 0.02528065, 0.64385966, 0.55960327,\n",
       "        0.36561041, 0.56022724, 0.7231357 , 0.57960164, 0.14777129,\n",
       "        0.31411311, 0.88849135, 0.87517672, 0.33496459, 0.34067203,\n",
       "        0.59771373, 0.58869651, 0.29734062, 0.4569816 , 0.91293957]])"
      ]
     },
     "execution_count": 286,
     "metadata": {},
     "output_type": "execute_result"
    }
   ],
   "source": [
    "import random\n",
    "import numpy as np\n",
    "import pandas as pd\n",
    "aa=np.random.rand(100).reshape(2,50)\n",
    "#pd.DataFrame(aa)\n",
    "aa"
   ]
  },
  {
   "cell_type": "code",
   "execution_count": 287,
   "id": "35c392e2",
   "metadata": {},
   "outputs": [
    {
     "data": {
      "text/plain": [
       "array([1., 1., 1., 1., 1., 1., 1., 1., 1., 1., 1., 1., 1., 1., 1., 1., 1.,\n",
       "       1., 1., 1., 1., 1., 1., 1., 1., 1., 1., 1., 1., 1., 1., 1., 1., 1.,\n",
       "       1., 1., 1., 1., 1., 1.])"
      ]
     },
     "execution_count": 287,
     "metadata": {},
     "output_type": "execute_result"
    }
   ],
   "source": [
    "np.ones(40)"
   ]
  },
  {
   "cell_type": "code",
   "execution_count": 290,
   "id": "9efe3968",
   "metadata": {},
   "outputs": [
    {
     "name": "stdout",
     "output_type": "stream",
     "text": [
      "n 8\n"
     ]
    }
   ],
   "source": [
    "a=1\n",
    "l=[1,2,3,4]\n",
    "#for i in range(0):\n",
    "if a in l:\n",
    "    print('n',i)"
   ]
  },
  {
   "cell_type": "code",
   "execution_count": 291,
   "id": "35ac939f",
   "metadata": {},
   "outputs": [
    {
     "data": {
      "text/plain": [
       "array([0., 0., 0., 0., 0.])"
      ]
     },
     "execution_count": 291,
     "metadata": {},
     "output_type": "execute_result"
    }
   ],
   "source": [
    "np.zeros(5)"
   ]
  },
  {
   "cell_type": "code",
   "execution_count": 292,
   "id": "aa19dd6a",
   "metadata": {},
   "outputs": [
    {
     "data": {
      "text/plain": [
       "3"
      ]
     },
     "execution_count": 292,
     "metadata": {},
     "output_type": "execute_result"
    }
   ],
   "source": [
    "a=np.array([[[1,2]],[[1,2]],[[1,2]]])\n",
    "a.ndim"
   ]
  },
  {
   "cell_type": "markdown",
   "id": "443df8f4",
   "metadata": {},
   "source": [
    "# Akash Kumar\n",
    "Truba College Of Science & Technology\n",
    "Enrollment No. 0533CL211001"
   ]
  },
  {
   "cell_type": "code",
   "execution_count": null,
   "id": "beb6edca",
   "metadata": {},
   "outputs": [],
   "source": []
  }
 ],
 "metadata": {
  "kernelspec": {
   "display_name": "Python 3 (ipykernel)",
   "language": "python",
   "name": "python3"
  },
  "language_info": {
   "codemirror_mode": {
    "name": "ipython",
    "version": 3
   },
   "file_extension": ".py",
   "mimetype": "text/x-python",
   "name": "python",
   "nbconvert_exporter": "python",
   "pygments_lexer": "ipython3",
   "version": "3.10.9"
  }
 },
 "nbformat": 4,
 "nbformat_minor": 5
}
